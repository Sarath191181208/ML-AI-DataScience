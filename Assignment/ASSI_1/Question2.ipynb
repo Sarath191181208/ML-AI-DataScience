{
 "cells": [
  {
   "cell_type": "markdown",
   "metadata": {},
   "source": [
    "#### Question2\n",
    "\n",
    "A multinational bank is concerned about the waiting time of its customers for using their ATMs. A study of a random sample of 500 customers reveals the following probability distribution:\n",
    "\n",
    "| <center> x </center> (waiting time of <br> customer in min) | 0 | 1 | 2 | 3 | 4 | 5 | 6 | 7 | 8 |\n",
    "| --------------------------------------------------------- | ---- | ---- | ---- | ---- | ---- | ---- | ---- | ---- | ---- |\n",
    "| p(x): | 0.20 | 0.18 | 0.16 | 0.12 | 0.10 | 0.09 | 0.08 | 0.04 | 0.03 |\n",
    "\n",
    "a) Probability that a customer wil have to wait for more than 5 minutes ?<br>\n",
    "b) Probability that a customer need not wait  ?<br>\n",
    "c) Probability that  a customer wil have to wait for less than 4 minutes ?\n"
   ]
  },
  {
   "cell_type": "markdown",
   "metadata": {},
   "source": [
    "a) Probability of For wait time more than 5 minutes is: \n",
    "\n",
    "$P(5)+P(6)+P(7)+P(8) =  0.09 + 0.08 + 0.04 + 0.03 \\implies P(5+) =  0.24$"
   ]
  },
  {
   "cell_type": "markdown",
   "metadata": {},
   "source": [
    "b) Customer need no wait:\n",
    "as there is no wait time i.e $ x = 0 $ \n",
    "\n",
    "$\\therefore P(0) = 0.20 \n",
    "( \\because \\text{from the table} ) $"
   ]
  },
  {
   "cell_type": "markdown",
   "metadata": {},
   "source": [
    "c) Probability for wait time less than 4 minutes:\n",
    "\n",
    "$P(4)+P(3)+P(2)+P(1)+P(0) =  0.20 + 0.18 + 0.16 + 0.12 + 0.10 \\implies P(4-) =  0.76$"
   ]
  }
 ],
 "metadata": {
  "kernelspec": {
   "display_name": "Python 3.9.3 ('venv')",
   "language": "python",
   "name": "python3"
  },
  "language_info": {
   "name": "python",
   "version": "3.9.3"
  },
  "orig_nbformat": 4,
  "vscode": {
   "interpreter": {
    "hash": "32805942860405f8aee172ea375fd5f80f8079124811e0955b2d634d58931327"
   }
  }
 },
 "nbformat": 4,
 "nbformat_minor": 2
}
