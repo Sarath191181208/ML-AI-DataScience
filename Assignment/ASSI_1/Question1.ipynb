{
 "cells": [
  {
   "cell_type": "markdown",
   "metadata": {},
   "source": [
    "### Question 1\n",
    "\n",
    "A company has examined its cost structure and revenue structure and has determiened that _C_(the total cost) _R_(the total revenue) _x_(number of produced units).\n",
    "\n",
    "They are related as:\n",
    "\n",
    "${ C = 100 + (0.015)x^2 }$\n",
    "\n",
    "${ R = 3x }$\n",
    "\n",
    "a) Maximize profit by controlling _x_\n",
    "\n",
    "b) Find profit when $x=120$\n"
   ]
  },
  {
   "cell_type": "markdown",
   "metadata": {},
   "source": [
    "### Getting the profit equation\n",
    "$\n",
    "C(x)  = 100 + (0.015)x^2 \\\\\n",
    "R(x) = 3x \n",
    "$\n",
    "\n",
    "We know that,\n",
    "\n",
    "$\n",
    "\\text{Profit }  P(x) = R(x) - C(x)\\\\\n",
    "\\implies P(x) = -(15\\cdot10^{-3})x^2 + 3x - 100\n",
    "$"
   ]
  },
  {
   "cell_type": "markdown",
   "metadata": {},
   "source": [
    "### a) Maximize profit by controlling x \n",
    "We know that, \n",
    "the maximum of a function lies at $\\frac{-b}{2a}$\n",
    "\n",
    "$\n",
    "\\therefore \\text{The value of x at which the function P(x) is maximum is: } \\frac{-3}{2\\cdot{ (-15\\cdot10^{-3})}} = 100\n",
    "$"
   ]
  },
  {
   "cell_type": "markdown",
   "metadata": {},
   "source": [
    "### b) Profit at $x = 120$\n",
    "We know that, $ P(x) = -(15\\cdot10^{-3})x^2 + 3x - 100$\n",
    "\n",
    "Simply substituting $\\\\ x = 120 \\\\ P(x) = 44$ "
   ]
  }
 ],
 "metadata": {
  "kernelspec": {
   "display_name": "Python 3.9.3 ('venv')",
   "language": "python",
   "name": "python3"
  },
  "language_info": {
   "name": "python",
   "version": "3.9.3"
  },
  "orig_nbformat": 4,
  "vscode": {
   "interpreter": {
    "hash": "32805942860405f8aee172ea375fd5f80f8079124811e0955b2d634d58931327"
   }
  }
 },
 "nbformat": 4,
 "nbformat_minor": 2
}
