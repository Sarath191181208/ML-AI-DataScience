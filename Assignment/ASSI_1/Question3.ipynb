{
 "cells": [
  {
   "cell_type": "markdown",
   "metadata": {},
   "source": [
    "## Question\n",
    "• Accounts payable a critical business process through which all companies track and manage their payable abigations efficiently and actively. Tracking of your debts and paying them on time went for any business. It also helps in maintaining good relations with the vendors and save money by making early payments. Being a Data Scientist, you are supposed to query data inside MySQL OLAP DB as per the business requrement of Account Payable\n",
    "department Sharing En dagram for Account Payable for better night.\n",
    "\n",
    "Q) Write a SELECT statement that returns two columns vendor_id and the\n",
    "   largest unpaid invoices for each vendor To do this, you can group the set by the vendor id column. Write a second SELECT statement that uses The SELECT statement in its FROM clause. The main query out return a single value that represents the sum of the largest unpaid invoices for each vendor"
   ]
  }
 ],
 "metadata": {
  "kernelspec": {
   "display_name": "Python 3.9.3 ('venv')",
   "language": "python",
   "name": "python3"
  },
  "language_info": {
   "name": "python",
   "version": "3.9.3"
  },
  "orig_nbformat": 4,
  "vscode": {
   "interpreter": {
    "hash": "32805942860405f8aee172ea375fd5f80f8079124811e0955b2d634d58931327"
   }
  }
 },
 "nbformat": 4,
 "nbformat_minor": 2
}
