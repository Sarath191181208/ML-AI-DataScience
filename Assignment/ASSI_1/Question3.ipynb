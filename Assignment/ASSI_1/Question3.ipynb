{
 "cells": [],
 "metadata": {
  "kernelspec": {
   "display_name": "Python 3.9.3 ('venv')",
   "language": "python",
   "name": "python3"
  },
  "language_info": {
   "name": "python",
   "version": "3.9.3"
  },
  "orig_nbformat": 4,
  "vscode": {
   "interpreter": {
    "hash": "32805942860405f8aee172ea375fd5f80f8079124811e0955b2d634d58931327"
   }
  }
 },
 "nbformat": 4,
 "nbformat_minor": 2
}
