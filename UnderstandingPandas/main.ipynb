{
 "cells": [
  {
   "cell_type": "markdown",
   "metadata": {},
   "source": [
    "## Pandas Tips"
   ]
  },
  {
   "cell_type": "code",
   "execution_count": 1,
   "metadata": {},
   "outputs": [],
   "source": [
    "import numpy as np\n",
    "import matplotlib as mpl\n",
    "import matplotlib.pyplot as plt\n",
    "import pandas as pd\n",
    "from pandas.core.series import Series\n",
    "from pandas.io.formats.style import Styler\n",
    "import seaborn as sns\n",
    "\n",
    "## use display for html output\n",
    "from IPython.display import display, HTML\n",
    "\n",
    "# auto-reload modules\n",
    "%load_ext autoreload\n",
    "%autoreload 2\n",
    "\n",
    "# set pandas display options\n",
    "pd.set_option('display.max_columns', 100)\n",
    "pd.set_option('display.max_rows', 100)\n",
    "pd.set_option('display.max_colwidth', 100)\n",
    "pd.set_option('display.width', 1000)\n",
    "\n",
    "# set dark theme\n",
    "plt.style.use('dark_background')"
   ]
  },
  {
   "cell_type": "markdown",
   "metadata": {},
   "source": [
    "## Using query to filter data\n",
    "\n",
    "Usage:\n",
    "- `df.query('col1 > 0')`\n",
    "- `df.query('col1 > @var_name')`"
   ]
  },
  {
   "cell_type": "code",
   "execution_count": 2,
   "metadata": {},
   "outputs": [
    {
     "data": {
      "text/html": [
       "<div>\n",
       "<style scoped>\n",
       "    .dataframe tbody tr th:only-of-type {\n",
       "        vertical-align: middle;\n",
       "    }\n",
       "\n",
       "    .dataframe tbody tr th {\n",
       "        vertical-align: top;\n",
       "    }\n",
       "\n",
       "    .dataframe thead th {\n",
       "        text-align: right;\n",
       "    }\n",
       "</style>\n",
       "<table border=\"1\" class=\"dataframe\">\n",
       "  <thead>\n",
       "    <tr style=\"text-align: right;\">\n",
       "      <th></th>\n",
       "      <th>alcohol</th>\n",
       "      <th>malic_acid</th>\n",
       "      <th>ash</th>\n",
       "      <th>alcalinity_of_ash</th>\n",
       "      <th>magnesium</th>\n",
       "      <th>total_phenols</th>\n",
       "      <th>flavanoids</th>\n",
       "      <th>nonflavanoid_phenols</th>\n",
       "      <th>proanthocyanins</th>\n",
       "      <th>color_intensity</th>\n",
       "      <th>hue</th>\n",
       "      <th>od280/od315_of_diluted_wines</th>\n",
       "      <th>proline</th>\n",
       "      <th>target</th>\n",
       "    </tr>\n",
       "  </thead>\n",
       "  <tbody>\n",
       "    <tr>\n",
       "      <th>0</th>\n",
       "      <td>14.23</td>\n",
       "      <td>1.71</td>\n",
       "      <td>2.43</td>\n",
       "      <td>15.6</td>\n",
       "      <td>127.0</td>\n",
       "      <td>2.80</td>\n",
       "      <td>3.06</td>\n",
       "      <td>0.28</td>\n",
       "      <td>2.29</td>\n",
       "      <td>5.64</td>\n",
       "      <td>1.04</td>\n",
       "      <td>3.92</td>\n",
       "      <td>1065.0</td>\n",
       "      <td>0</td>\n",
       "    </tr>\n",
       "    <tr>\n",
       "      <th>1</th>\n",
       "      <td>13.20</td>\n",
       "      <td>1.78</td>\n",
       "      <td>2.14</td>\n",
       "      <td>11.2</td>\n",
       "      <td>100.0</td>\n",
       "      <td>2.65</td>\n",
       "      <td>2.76</td>\n",
       "      <td>0.26</td>\n",
       "      <td>1.28</td>\n",
       "      <td>4.38</td>\n",
       "      <td>1.05</td>\n",
       "      <td>3.40</td>\n",
       "      <td>1050.0</td>\n",
       "      <td>0</td>\n",
       "    </tr>\n",
       "    <tr>\n",
       "      <th>2</th>\n",
       "      <td>13.16</td>\n",
       "      <td>2.36</td>\n",
       "      <td>2.67</td>\n",
       "      <td>18.6</td>\n",
       "      <td>101.0</td>\n",
       "      <td>2.80</td>\n",
       "      <td>3.24</td>\n",
       "      <td>0.30</td>\n",
       "      <td>2.81</td>\n",
       "      <td>5.68</td>\n",
       "      <td>1.03</td>\n",
       "      <td>3.17</td>\n",
       "      <td>1185.0</td>\n",
       "      <td>0</td>\n",
       "    </tr>\n",
       "    <tr>\n",
       "      <th>3</th>\n",
       "      <td>14.37</td>\n",
       "      <td>1.95</td>\n",
       "      <td>2.50</td>\n",
       "      <td>16.8</td>\n",
       "      <td>113.0</td>\n",
       "      <td>3.85</td>\n",
       "      <td>3.49</td>\n",
       "      <td>0.24</td>\n",
       "      <td>2.18</td>\n",
       "      <td>7.80</td>\n",
       "      <td>0.86</td>\n",
       "      <td>3.45</td>\n",
       "      <td>1480.0</td>\n",
       "      <td>0</td>\n",
       "    </tr>\n",
       "    <tr>\n",
       "      <th>4</th>\n",
       "      <td>13.24</td>\n",
       "      <td>2.59</td>\n",
       "      <td>2.87</td>\n",
       "      <td>21.0</td>\n",
       "      <td>118.0</td>\n",
       "      <td>2.80</td>\n",
       "      <td>2.69</td>\n",
       "      <td>0.39</td>\n",
       "      <td>1.82</td>\n",
       "      <td>4.32</td>\n",
       "      <td>1.04</td>\n",
       "      <td>2.93</td>\n",
       "      <td>735.0</td>\n",
       "      <td>0</td>\n",
       "    </tr>\n",
       "  </tbody>\n",
       "</table>\n",
       "</div>"
      ],
      "text/plain": [
       "   alcohol  malic_acid   ash  alcalinity_of_ash  magnesium  total_phenols  flavanoids  nonflavanoid_phenols  proanthocyanins  color_intensity   hue  od280/od315_of_diluted_wines  proline  target\n",
       "0    14.23        1.71  2.43               15.6      127.0           2.80        3.06                  0.28             2.29             5.64  1.04                          3.92   1065.0       0\n",
       "1    13.20        1.78  2.14               11.2      100.0           2.65        2.76                  0.26             1.28             4.38  1.05                          3.40   1050.0       0\n",
       "2    13.16        2.36  2.67               18.6      101.0           2.80        3.24                  0.30             2.81             5.68  1.03                          3.17   1185.0       0\n",
       "3    14.37        1.95  2.50               16.8      113.0           3.85        3.49                  0.24             2.18             7.80  0.86                          3.45   1480.0       0\n",
       "4    13.24        2.59  2.87               21.0      118.0           2.80        2.69                  0.39             1.82             4.32  1.04                          2.93    735.0       0"
      ]
     },
     "execution_count": 2,
     "metadata": {},
     "output_type": "execute_result"
    }
   ],
   "source": [
    "from sklearn.datasets import load_wine\n",
    "\n",
    "raw_data = load_wine()\n",
    "# dir(raw_data)\n",
    "x = pd.DataFrame(raw_data['data'], columns=raw_data['feature_names'])\n",
    "y = pd.DataFrame(raw_data['target'], columns=['target'])\n",
    "\n",
    "df = pd.concat([x, y], axis=1)\n",
    "df.head()"
   ]
  },
  {
   "cell_type": "code",
   "execution_count": 3,
   "metadata": {},
   "outputs": [
    {
     "data": {
      "text/html": [
       "<div>\n",
       "<style scoped>\n",
       "    .dataframe tbody tr th:only-of-type {\n",
       "        vertical-align: middle;\n",
       "    }\n",
       "\n",
       "    .dataframe tbody tr th {\n",
       "        vertical-align: top;\n",
       "    }\n",
       "\n",
       "    .dataframe thead th {\n",
       "        text-align: right;\n",
       "    }\n",
       "</style>\n",
       "<table border=\"1\" class=\"dataframe\">\n",
       "  <thead>\n",
       "    <tr style=\"text-align: right;\">\n",
       "      <th></th>\n",
       "      <th>alcohol</th>\n",
       "      <th>malic_acid</th>\n",
       "      <th>ash</th>\n",
       "      <th>alcalinity_of_ash</th>\n",
       "      <th>magnesium</th>\n",
       "      <th>total_phenols</th>\n",
       "      <th>flavanoids</th>\n",
       "      <th>nonflavanoid_phenols</th>\n",
       "      <th>proanthocyanins</th>\n",
       "      <th>color_intensity</th>\n",
       "      <th>hue</th>\n",
       "      <th>od280/od315_of_diluted_wines</th>\n",
       "      <th>proline</th>\n",
       "      <th>target</th>\n",
       "    </tr>\n",
       "  </thead>\n",
       "  <tbody>\n",
       "    <tr>\n",
       "      <th>45</th>\n",
       "      <td>14.21</td>\n",
       "      <td>4.04</td>\n",
       "      <td>2.44</td>\n",
       "      <td>18.9</td>\n",
       "      <td>111.0</td>\n",
       "      <td>2.85</td>\n",
       "      <td>2.65</td>\n",
       "      <td>0.3</td>\n",
       "      <td>1.25</td>\n",
       "      <td>5.24</td>\n",
       "      <td>0.87</td>\n",
       "      <td>3.33</td>\n",
       "      <td>1080.0</td>\n",
       "      <td>0</td>\n",
       "    </tr>\n",
       "  </tbody>\n",
       "</table>\n",
       "</div>"
      ],
      "text/plain": [
       "    alcohol  malic_acid   ash  alcalinity_of_ash  magnesium  total_phenols  flavanoids  nonflavanoid_phenols  proanthocyanins  color_intensity   hue  od280/od315_of_diluted_wines  proline  target\n",
       "45    14.21        4.04  2.44               18.9      111.0           2.85        2.65                   0.3             1.25             5.24  0.87                          3.33   1080.0       0"
      ]
     },
     "metadata": {},
     "output_type": "display_data"
    },
    {
     "data": {
      "text/html": [
       "<div>\n",
       "<style scoped>\n",
       "    .dataframe tbody tr th:only-of-type {\n",
       "        vertical-align: middle;\n",
       "    }\n",
       "\n",
       "    .dataframe tbody tr th {\n",
       "        vertical-align: top;\n",
       "    }\n",
       "\n",
       "    .dataframe thead th {\n",
       "        text-align: right;\n",
       "    }\n",
       "</style>\n",
       "<table border=\"1\" class=\"dataframe\">\n",
       "  <thead>\n",
       "    <tr style=\"text-align: right;\">\n",
       "      <th></th>\n",
       "      <th>alcohol</th>\n",
       "      <th>malic_acid</th>\n",
       "      <th>ash</th>\n",
       "      <th>alcalinity_of_ash</th>\n",
       "      <th>magnesium</th>\n",
       "      <th>total_phenols</th>\n",
       "      <th>flavanoids</th>\n",
       "      <th>nonflavanoid_phenols</th>\n",
       "      <th>proanthocyanins</th>\n",
       "      <th>color_intensity</th>\n",
       "      <th>hue</th>\n",
       "      <th>od280/od315_of_diluted_wines</th>\n",
       "      <th>proline</th>\n",
       "      <th>target</th>\n",
       "    </tr>\n",
       "  </thead>\n",
       "  <tbody>\n",
       "    <tr>\n",
       "      <th>45</th>\n",
       "      <td>14.21</td>\n",
       "      <td>4.04</td>\n",
       "      <td>2.44</td>\n",
       "      <td>18.9</td>\n",
       "      <td>111.0</td>\n",
       "      <td>2.85</td>\n",
       "      <td>2.65</td>\n",
       "      <td>0.3</td>\n",
       "      <td>1.25</td>\n",
       "      <td>5.24</td>\n",
       "      <td>0.87</td>\n",
       "      <td>3.33</td>\n",
       "      <td>1080.0</td>\n",
       "      <td>0</td>\n",
       "    </tr>\n",
       "  </tbody>\n",
       "</table>\n",
       "</div>"
      ],
      "text/plain": [
       "    alcohol  malic_acid   ash  alcalinity_of_ash  magnesium  total_phenols  flavanoids  nonflavanoid_phenols  proanthocyanins  color_intensity   hue  od280/od315_of_diluted_wines  proline  target\n",
       "45    14.21        4.04  2.44               18.9      111.0           2.85        2.65                   0.3             1.25             5.24  0.87                          3.33   1080.0       0"
      ]
     },
     "metadata": {},
     "output_type": "display_data"
    }
   ],
   "source": [
    "# using the loc method \n",
    "query_data_1 = df.loc[ (df['malic_acid'] > 4 ) & (df['target'] == 0)]\n",
    "\n",
    "# using the query method\n",
    "query_data_2 = df.query('malic_acid > 4 and target == 0')\n",
    "\n",
    "display(query_data_1)\n",
    "display(query_data_2)"
   ]
  },
  {
   "cell_type": "code",
   "execution_count": 4,
   "metadata": {},
   "outputs": [
    {
     "data": {
      "text/html": [
       "<div>\n",
       "<style scoped>\n",
       "    .dataframe tbody tr th:only-of-type {\n",
       "        vertical-align: middle;\n",
       "    }\n",
       "\n",
       "    .dataframe tbody tr th {\n",
       "        vertical-align: top;\n",
       "    }\n",
       "\n",
       "    .dataframe thead th {\n",
       "        text-align: right;\n",
       "    }\n",
       "</style>\n",
       "<table border=\"1\" class=\"dataframe\">\n",
       "  <thead>\n",
       "    <tr style=\"text-align: right;\">\n",
       "      <th></th>\n",
       "      <th>alcohol</th>\n",
       "      <th>malic_acid</th>\n",
       "      <th>ash</th>\n",
       "      <th>alcalinity_of_ash</th>\n",
       "      <th>magnesium</th>\n",
       "      <th>total_phenols</th>\n",
       "      <th>flavanoids</th>\n",
       "      <th>nonflavanoid_phenols</th>\n",
       "      <th>proanthocyanins</th>\n",
       "      <th>color_intensity</th>\n",
       "      <th>hue</th>\n",
       "      <th>od280/od315_of_diluted_wines</th>\n",
       "      <th>proline</th>\n",
       "      <th>target</th>\n",
       "    </tr>\n",
       "  </thead>\n",
       "  <tbody>\n",
       "    <tr>\n",
       "      <th>45</th>\n",
       "      <td>14.21</td>\n",
       "      <td>4.04</td>\n",
       "      <td>2.44</td>\n",
       "      <td>18.9</td>\n",
       "      <td>111.0</td>\n",
       "      <td>2.85</td>\n",
       "      <td>2.65</td>\n",
       "      <td>0.3</td>\n",
       "      <td>1.25</td>\n",
       "      <td>5.24</td>\n",
       "      <td>0.87</td>\n",
       "      <td>3.33</td>\n",
       "      <td>1080.0</td>\n",
       "      <td>0</td>\n",
       "    </tr>\n",
       "  </tbody>\n",
       "</table>\n",
       "</div>"
      ],
      "text/plain": [
       "    alcohol  malic_acid   ash  alcalinity_of_ash  magnesium  total_phenols  flavanoids  nonflavanoid_phenols  proanthocyanins  color_intensity   hue  od280/od315_of_diluted_wines  proline  target\n",
       "45    14.21        4.04  2.44               18.9      111.0           2.85        2.65                   0.3             1.25             5.24  0.87                          3.33   1080.0       0"
      ]
     },
     "metadata": {},
     "output_type": "display_data"
    }
   ],
   "source": [
    "max_malic_acid = 4\n",
    "query_data_3 = df.query('malic_acid > @max_malic_acid and target == 0')\n",
    "display(query_data_3)"
   ]
  },
  {
   "cell_type": "markdown",
   "metadata": {},
   "source": [
    "## Pandas plotting methods"
   ]
  },
  {
   "cell_type": "code",
   "execution_count": 5,
   "metadata": {},
   "outputs": [
    {
     "data": {
      "text/plain": [
       "<AxesSubplot:xlabel='malic_acid', ylabel='ash'>"
      ]
     },
     "execution_count": 5,
     "metadata": {},
     "output_type": "execute_result"
    },
    {
     "data": {
      "image/png": "[encoded data removed]",
      "text/plain": [
       "<Figure size 432x288 with 2 Axes>"
      ]
     },
     "metadata": {
      "needs_background": "dark"
     },
     "output_type": "display_data"
    }
   ],
   "source": [
    "# use the pandas plot method\n",
    "df.plot(kind='scatter', x='malic_acid', y='ash', c='target', colormap='viridis')"
   ]
  },
  {
   "cell_type": "markdown",
   "metadata": {},
   "source": [
    "## Rename columns using the dict syntax\n",
    "\n",
    "Usage:\n",
    "- `df.rename(columns={'old_name': 'new_name'})`"
   ]
  },
  {
   "cell_type": "markdown",
   "metadata": {},
   "source": [
    "## Aggregating data using groupby"
   ]
  },
  {
   "cell_type": "code",
   "execution_count": 6,
   "metadata": {},
   "outputs": [
    {
     "data": {
      "text/plain": [
       "target\n",
       "0    12.85\n",
       "1    11.03\n",
       "2    12.20\n",
       "Name: alcohol, dtype: float64"
      ]
     },
     "execution_count": 6,
     "metadata": {},
     "output_type": "execute_result"
    }
   ],
   "source": [
    "df.groupby(\"target\").alcohol.min()"
   ]
  },
  {
   "cell_type": "code",
   "execution_count": 7,
   "metadata": {},
   "outputs": [
    {
     "data": {
      "text/html": [
       "<div>\n",
       "<style scoped>\n",
       "    .dataframe tbody tr th:only-of-type {\n",
       "        vertical-align: middle;\n",
       "    }\n",
       "\n",
       "    .dataframe tbody tr th {\n",
       "        vertical-align: top;\n",
       "    }\n",
       "\n",
       "    .dataframe thead th {\n",
       "        text-align: right;\n",
       "    }\n",
       "</style>\n",
       "<table border=\"1\" class=\"dataframe\">\n",
       "  <thead>\n",
       "    <tr style=\"text-align: right;\">\n",
       "      <th></th>\n",
       "      <th>min</th>\n",
       "      <th>max</th>\n",
       "      <th>mean</th>\n",
       "      <th>median</th>\n",
       "      <th>std</th>\n",
       "      <th>count</th>\n",
       "      <th>sum</th>\n",
       "    </tr>\n",
       "    <tr>\n",
       "      <th>target</th>\n",
       "      <th></th>\n",
       "      <th></th>\n",
       "      <th></th>\n",
       "      <th></th>\n",
       "      <th></th>\n",
       "      <th></th>\n",
       "      <th></th>\n",
       "    </tr>\n",
       "  </thead>\n",
       "  <tbody>\n",
       "    <tr>\n",
       "      <th>0</th>\n",
       "      <td>12.85</td>\n",
       "      <td>14.83</td>\n",
       "      <td>13.744746</td>\n",
       "      <td>13.750</td>\n",
       "      <td>0.462125</td>\n",
       "      <td>59</td>\n",
       "      <td>810.94</td>\n",
       "    </tr>\n",
       "    <tr>\n",
       "      <th>1</th>\n",
       "      <td>11.03</td>\n",
       "      <td>13.86</td>\n",
       "      <td>12.278732</td>\n",
       "      <td>12.290</td>\n",
       "      <td>0.537964</td>\n",
       "      <td>71</td>\n",
       "      <td>871.79</td>\n",
       "    </tr>\n",
       "    <tr>\n",
       "      <th>2</th>\n",
       "      <td>12.20</td>\n",
       "      <td>14.34</td>\n",
       "      <td>13.153750</td>\n",
       "      <td>13.165</td>\n",
       "      <td>0.530241</td>\n",
       "      <td>48</td>\n",
       "      <td>631.38</td>\n",
       "    </tr>\n",
       "  </tbody>\n",
       "</table>\n",
       "</div>"
      ],
      "text/plain": [
       "          min    max       mean  median       std  count     sum\n",
       "target                                                          \n",
       "0       12.85  14.83  13.744746  13.750  0.462125     59  810.94\n",
       "1       11.03  13.86  12.278732  12.290  0.537964     71  871.79\n",
       "2       12.20  14.34  13.153750  13.165  0.530241     48  631.38"
      ]
     },
     "execution_count": 7,
     "metadata": {},
     "output_type": "execute_result"
    }
   ],
   "source": [
    "df.groupby(\"target\").alcohol.agg(['min', 'max', 'mean', 'median', 'std', 'count', 'sum'])"
   ]
  },
  {
   "cell_type": "markdown",
   "metadata": {},
   "source": [
    "## Conditional Formatting in Pandas"
   ]
  },
  {
   "cell_type": "code",
   "execution_count": 82,
   "metadata": {},
   "outputs": [
    {
     "data": {
      "image/png": "[encoded data removed]",
      "text/html": [
       "<div style=\"vertical-align: middle;\"><strong>from_list</strong> </div><div class=\"cmap\"><img alt=\"from_list colormap\" title=\"from_list\" style=\"border: 1px solid #555;\" src=\"data:image/png;base64,iVBORw0KGgoAAAANSUhEUgAAAgAAAABACAYAAABsv8+/AAAAGHRFWHRUaXRsZQBmcm9tX2xpc3QgY29sb3JtYXBDL89FAAAAHnRFWHREZXNjcmlwdGlvbgBmcm9tX2xpc3QgY29sb3JtYXABtCnOAAAAMHRFWHRBdXRob3IATWF0cGxvdGxpYiB2My41LjIsIGh0dHBzOi8vbWF0cGxvdGxpYi5vcmfCWnicAAAAMnRFWHRTb2Z0d2FyZQBNYXRwbG90bGliIHYzLjUuMiwgaHR0cHM6Ly9tYXRwbG90bGliLm9yZ+z857sAAAJJSURBVHic7dZLbqUwEAVQG7bWS+j9LyVkEPOxMSEd9eyeMyG2qwoLPSm3/ql/t7KrtT2X9ujXpa3rXrcsfV9b11qP2ln/+J7b3Nn8Y2+o6eZ9Pbfbe8a59d5znJ1jX2su59t+nWWorX3tdrl2GeaNPVutl7/H+Q9zu/n3udvyfDabM75nrHmu/9f58/XP+8bv/X/nv9aV7+t+vr/9rr+81W+/usd4ftY9nB/3eOr/fr8+1NXbeugrY10/rz6uX/bb3OVWv7X9MqzH8/mcp7rjWV7OL3VL/ej2vpt37n/1rJPzp7Nr3z5nLf16tr/uPW3O07q7V9le1h+3d51z+/vv57N51551fNcwd3aH3ey+axm/Sf8919t+mzX5V7SWUtb2Iz3q2q9qafvHulWc9Ut7trp6Tr6+AwAIIQAAQCABAAACCQAAEEgAAIBAAgAABBIAACCQAAAAgQQAAAgkAABAIAEAAAIJAAAQSAAAgEACAAAEEgAAIJAAAACBBAAACCQAAEAgAQAAAgkAABBIAACAQAIAAAQSAAAgkAAAAIEEAAAIJAAAQCABAAACCQAAEEgAAIBAAgAABBIAACCQAAAAgQQAAAgkAABAIAEAAAIJAAAQSAAAgEACAAAEEgAAIJAAAACBBAAACCQAAEAgAQAAAgkAABBIAACAQAIAAAQSAAAgkAAAAIEEAAAIJAAAQCABAAACCQAAEEgAAIBAAgAABBIAACCQAAAAgQQAAAgkAABAIAEAAAIJAAAQSAAAgEACAAAEEgAAINAnynyJh4UNb8gAAAAASUVORK5CYII=\"></div><div style=\"vertical-align: middle; max-width: 514px; display: flex; justify-content: space-between;\"><div style=\"float: left;\"><div title=\"#440154ff\" style=\"display: inline-block; width: 1em; height: 1em; margin: 0; vertical-align: middle; border: 1px solid #555; background-color: #440154ff;\"></div> under</div><div style=\"margin: 0 auto; display: inline-block;\">bad <div title=\"#00000000\" style=\"display: inline-block; width: 1em; height: 1em; margin: 0; vertical-align: middle; border: 1px solid #555; background-color: #00000000;\"></div></div><div style=\"float: right;\">over <div title=\"#fde725ff\" style=\"display: inline-block; width: 1em; height: 1em; margin: 0; vertical-align: middle; border: 1px solid #555; background-color: #fde725ff;\"></div></div>"
      ],
      "text/plain": [
       "<matplotlib.colors.ListedColormap at 0x27e09f27b20>"
      ]
     },
     "execution_count": 82,
     "metadata": {},
     "output_type": "execute_result"
    }
   ],
   "source": [
    "import matplotlib as mpl\n",
    "from matplotlib.colors import ListedColormap\n",
    "lin_space = np.linspace(0, 1, 1000)\n",
    "cmap: ListedColormap = mpl.colormaps['viridis']\n",
    "ListedColormap(cmap(lin_space))"
   ]
  },
  {
   "cell_type": "code",
   "execution_count": 83,
   "metadata": {},
   "outputs": [
    {
     "data": {
      "image/png": "[encoded data removed]",
      "text/html": [
       "<div style=\"vertical-align: middle;\"><strong>YlGn</strong> </div><div class=\"cmap\"><img alt=\"YlGn colormap\" title=\"YlGn\" style=\"border: 1px solid #555;\" src=\"data:image/png;base64,iVBORw0KGgoAAAANSUhEUgAAAgAAAABACAYAAABsv8+/AAAAE3RFWHRUaXRsZQBZbEduIGNvbG9ybWFwRc1rkwAAABl0RVh0RGVzY3JpcHRpb24AWWxHbiBjb2xvcm1hcM5/+wsAAAAwdEVYdEF1dGhvcgBNYXRwbG90bGliIHYzLjUuMiwgaHR0cHM6Ly9tYXRwbG90bGliLm9yZ8JaeJwAAAAydEVYdFNvZnR3YXJlAE1hdHBsb3RsaWIgdjMuNS4yLCBodHRwczovL21hdHBsb3RsaWIub3Jn7PznuwAAAfpJREFUeJzt1ktSwzAQRVHB/rfJNiQGSVyk7S67nAGDd84kWLE+DpC6X2v9rDHGWGuOh/V8nc+rdTj+ul6jznu+rg/nd/uvu/OP71vbOUcZX+XuZny7Pht/zT9Zb3vOu/s3+1zcf9b11vH4bNZpx8t5Z/Mcs56zm9/ed/yc236v57l4vvo8u/Gy7+Xxs33/6zzN51jfP5/3vk87f/f7adZtn+Pa/Pr3Xe/fXufx39X+/fo6xt8fzu7r3794jpP7+nN0671/PmWZg++duk53Xda9OX//PXVz/vb/Uw4yy/XuoN11Mz5vzuuu2/N9du7vAQDEEQAAEEgAAEAgAQAAgQQAAAQSAAAQSAAAQCABAACBBAAABBIAABBIAABAIAEAAIEEAAAEEgAAEEgAAEAgAQAAgQQAAAQSAAAQSAAAQCABAACBBAAABBIAABBIAABAIAEAAIEEAAAEEgAAEEgAAEAgAQAAgQQAAAQSAAAQSAAAQCABAACBBAAABBIAABBIAABAIAEAAIEEAAAEEgAAEEgAAEAgAQAAgQQAAAQSAAAQSAAAQCABAACBBAAABBIAABBIAABAIAEAAIEEAAAEEgAAEEgAAEAgAQAAgQQAAAQSAAAQSAAAQCABAACBBAAABBIAABBIAABAIAEAAIEEAAAEEgAAEEgAAECgXyCtJQslnJCIAAAAAElFTkSuQmCC\"></div><div style=\"vertical-align: middle; max-width: 514px; display: flex; justify-content: space-between;\"><div style=\"float: left;\"><div title=\"#ffffe5ff\" style=\"display: inline-block; width: 1em; height: 1em; margin: 0; vertical-align: middle; border: 1px solid #555; background-color: #ffffe5ff;\"></div> under</div><div style=\"margin: 0 auto; display: inline-block;\">bad <div title=\"#00000000\" style=\"display: inline-block; width: 1em; height: 1em; margin: 0; vertical-align: middle; border: 1px solid #555; background-color: #00000000;\"></div></div><div style=\"float: right;\">over <div title=\"#004529ff\" style=\"display: inline-block; width: 1em; height: 1em; margin: 0; vertical-align: middle; border: 1px solid #555; background-color: #004529ff;\"></div></div>"
      ],
      "text/plain": [
       "<matplotlib.colors.LinearSegmentedColormap at 0x27e09e587c0>"
      ]
     },
     "execution_count": 83,
     "metadata": {},
     "output_type": "execute_result"
    }
   ],
   "source": [
    "mpl.colormaps['YlGn']"
   ]
  },
  {
   "cell_type": "code",
   "execution_count": 90,
   "metadata": {},
   "outputs": [
    {
     "data": {
      "text/html": [
       "<style type=\"text/css\">\n",
       "#T_99f26_row0_col0 {\n",
       "  background-color: rgb(255, 255, 229);\n",
       "}\n",
       "#T_99f26_row0_col1, #T_99f26_row1_col1, #T_99f26_row2_col1, #T_99f26_row3_col1, #T_99f26_row4_col1 {\n",
       "  background-color: grey;\n",
       "}\n",
       "#T_99f26_row0_col2, #T_99f26_row1_col2, #T_99f26_row2_col2, #T_99f26_row3_col2, #T_99f26_row4_col2 {\n",
       "  background-color: rgb(255, 0, 0);\n",
       "}\n",
       "#T_99f26_row0_col3 {\n",
       "  background-color: rgb(68, 1, 84);\n",
       "}\n",
       "#T_99f26_row1_col0 {\n",
       "  background-color: rgb(41, 140, 72);\n",
       "}\n",
       "#T_99f26_row1_col3 {\n",
       "  background-color: rgb(71, 42, 121);\n",
       "}\n",
       "#T_99f26_row2_col0 {\n",
       "  background-color: rgb(15, 116, 60);\n",
       "}\n",
       "#T_99f26_row2_col3 {\n",
       "  background-color: rgb(69, 54, 129);\n",
       "}\n",
       "#T_99f26_row3_col0, #T_99f26_row4_col0 {\n",
       "  background-color: rgb(0, 69, 41);\n",
       "}\n",
       "#T_99f26_row3_col3 {\n",
       "  background-color: rgb(65, 66, 134);\n",
       "}\n",
       "#T_99f26_row4_col3 {\n",
       "  background-color: rgb(60, 77, 138);\n",
       "}\n",
       "</style>\n",
       "<table id=\"T_99f26\">\n",
       "  <thead>\n",
       "    <tr>\n",
       "      <th class=\"blank level0\" >&nbsp;</th>\n",
       "      <th id=\"T_99f26_level0_col0\" class=\"col_heading level0 col0\" >A</th>\n",
       "      <th id=\"T_99f26_level0_col1\" class=\"col_heading level0 col1\" >B</th>\n",
       "      <th id=\"T_99f26_level0_col2\" class=\"col_heading level0 col2\" >C</th>\n",
       "      <th id=\"T_99f26_level0_col3\" class=\"col_heading level0 col3\" >temperature_degrees</th>\n",
       "      <th id=\"T_99f26_level0_col4\" class=\"col_heading level0 col4\" >pressure_psi</th>\n",
       "    </tr>\n",
       "  </thead>\n",
       "  <tbody>\n",
       "    <tr>\n",
       "      <th id=\"T_99f26_level0_row0\" class=\"row_heading level0 row0\" >0</th>\n",
       "      <td id=\"T_99f26_row0_col0\" class=\"data row0 col0\" >-0.357886</td>\n",
       "      <td id=\"T_99f26_row0_col1\" class=\"data row0 col1\" >0.314223</td>\n",
       "      <td id=\"T_99f26_row0_col2\" class=\"data row0 col2\" >-0.302722</td>\n",
       "      <td id=\"T_99f26_row0_col3\" class=\"data row0 col3\" >-20°C</td>\n",
       "      <td id=\"T_99f26_row0_col4\" class=\"data row0 col4\" >low</td>\n",
       "    </tr>\n",
       "    <tr>\n",
       "      <th id=\"T_99f26_level0_row1\" class=\"row_heading level0 row1\" >1</th>\n",
       "      <td id=\"T_99f26_row1_col0\" class=\"data row1 col0\" >0.721680</td>\n",
       "      <td id=\"T_99f26_row1_col1\" class=\"data row1 col1\" >0.076037</td>\n",
       "      <td id=\"T_99f26_row1_col2\" class=\"data row1 col2\" >-0.014621</td>\n",
       "      <td id=\"T_99f26_row1_col3\" class=\"data row1 col3\" >30°C</td>\n",
       "      <td id=\"T_99f26_row1_col4\" class=\"data row1 col4\" >low</td>\n",
       "    </tr>\n",
       "    <tr>\n",
       "      <th id=\"T_99f26_level0_row2\" class=\"row_heading level0 row2\" >2</th>\n",
       "      <td id=\"T_99f26_row2_col0\" class=\"data row2 col0\" >0.819385</td>\n",
       "      <td id=\"T_99f26_row2_col1\" class=\"data row2 col1\" >1.307506</td>\n",
       "      <td id=\"T_99f26_row2_col2\" class=\"data row2 col2\" >1.160242</td>\n",
       "      <td id=\"T_99f26_row2_col3\" class=\"data row2 col3\" >40°C</td>\n",
       "      <td id=\"T_99f26_row2_col4\" class=\"data row2 col4\" >medium</td>\n",
       "    </tr>\n",
       "    <tr>\n",
       "      <th id=\"T_99f26_level0_row3\" class=\"row_heading level0 row3\" >3</th>\n",
       "      <td id=\"T_99f26_row3_col0\" class=\"data row3 col0\" >1.023440</td>\n",
       "      <td id=\"T_99f26_row3_col1\" class=\"data row3 col1\" >-0.053385</td>\n",
       "      <td id=\"T_99f26_row3_col2\" class=\"data row3 col2\" >0.179076</td>\n",
       "      <td id=\"T_99f26_row3_col3\" class=\"data row3 col3\" >50°C</td>\n",
       "      <td id=\"T_99f26_row3_col4\" class=\"data row3 col4\" >high</td>\n",
       "    </tr>\n",
       "    <tr>\n",
       "      <th id=\"T_99f26_level0_row4\" class=\"row_heading level0 row4\" >4</th>\n",
       "      <td id=\"T_99f26_row4_col0\" class=\"data row4 col0\" >1.612700</td>\n",
       "      <td id=\"T_99f26_row4_col1\" class=\"data row4 col1\" >-2.160506</td>\n",
       "      <td id=\"T_99f26_row4_col2\" class=\"data row4 col2\" >-0.207260</td>\n",
       "      <td id=\"T_99f26_row4_col3\" class=\"data row4 col3\" >60°C</td>\n",
       "      <td id=\"T_99f26_row4_col4\" class=\"data row4 col4\" >high</td>\n",
       "    </tr>\n",
       "  </tbody>\n",
       "</table>\n"
      ],
      "text/plain": [
       "<pandas.io.formats.style.Styler at 0x27e09e8b5e0>"
      ]
     },
     "execution_count": 90,
     "metadata": {},
     "output_type": "execute_result"
    }
   ],
   "source": [
    "data =  pd.DataFrame(np.random.randn(5, 3), columns=list('ABC'))\n",
    "data[\"temperature_degrees\"] = [-20, 30, 40, 50, 60]\n",
    "data[\"pressure_psi\"] = [100.0, 101.7, 200.0, 200.10, 500]\n",
    "\n",
    "# dictionary of column colors\n",
    "\n",
    "#            |---- header ----- | --- color --- |\n",
    "color_dict = {'B':'grey', 'C':'rgb(255, 0, 0)'}\n",
    "#                |---- header ----- | --- grad --- |\n",
    "gradient_dict = {'temperature_degrees': 'viridis', 'A': 'YlGn'}\n",
    "\n",
    "\n",
    "def apply_gradient(s : Series, max_ele: float, min_ele: float, cmap='viridis'):\n",
    "    percent_color = (s - min_ele) / (max_ele - min_ele)\n",
    "    return f'background-color: {percent_color}'\n",
    "\n",
    "def get_color_string(color: tuple) -> str:\n",
    "    \"\"\" convert a color tuple(0 to 1) to a string rgb(0-255) \"\"\"\n",
    "    r = int(color[0] * 255)\n",
    "    g = int(color[1] * 255)\n",
    "    b = int(color[2] * 255)\n",
    "    return f'rgb({r}, {g}, {b})'\n",
    "\n",
    "def get_gradient_list(s: Series, cmap: str):\n",
    "    listed_cmap: ListedColormap = mpl.colormaps[cmap] # getting a cmap i.e the gradient data\n",
    "    return listed_cmap(s) # getting the gradient data based on number of values in the series\n",
    "\n",
    "def highlight_cols(s : Series, color_dict: dict = {}, gradient_dict: dict = {}):\n",
    "    if s.name in color_dict.keys():\n",
    "        return [f'background-color: {color_dict[s.name]}'] * len(s)\n",
    "    elif s.name in gradient_dict.keys():\n",
    "        return [f'background-color: {get_color_string(color)}' \n",
    "            for color in get_gradient_list(s, gradient_dict[s.name])]\n",
    "    return [''] * len(s)\n",
    "\n",
    "def pressure_format_func(x: float) -> str:\n",
    "    # show red if high\n",
    "    if x > 200:\n",
    "        return \"high\"\n",
    "    elif x < 150:\n",
    "        return \"low\"\n",
    "    else:\n",
    "        return \"medium\"\n",
    "\n",
    "(data\n",
    "    .style\n",
    "    .apply(highlight_cols, color_dict=color_dict, gradient_dict=gradient_dict)\n",
    "    .format(\n",
    "        {   'temperature_degrees': '{:.0f}°C',\n",
    "            ('A', 'B', 'C'): '{:.2f}',\n",
    "            'pressure_psi': pressure_format_func\n",
    "        })\n",
    "     )"
   ]
  }
 ],
 "metadata": {
  "kernelspec": {
   "display_name": "Python 3.9.3 ('venv')",
   "language": "python",
   "name": "python3"
  },
  "language_info": {
   "codemirror_mode": {
    "name": "ipython",
    "version": 3
   },
   "file_extension": ".py",
   "mimetype": "text/x-python",
   "name": "python",
   "nbconvert_exporter": "python",
   "pygments_lexer": "ipython3",
   "version": "3.9.3"
  },
  "orig_nbformat": 4,
  "vscode": {
   "interpreter": {
    "hash": "32805942860405f8aee172ea375fd5f80f8079124811e0955b2d634d58931327"
   }
  }
 },
 "nbformat": 4,
 "nbformat_minor": 2
}
