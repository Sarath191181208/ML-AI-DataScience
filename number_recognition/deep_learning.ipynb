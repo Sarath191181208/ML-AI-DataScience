{
 "cells": [
  {
   "cell_type": "code",
   "execution_count": 1,
   "source": [
    "import numpy as np\r\n",
    "import matplotlib.pyplot as plt\r\n",
    "import pandas as pd\r\n",
    "import tensorflow as tf\r\n",
    "from tensorflow import keras"
   ],
   "outputs": [],
   "metadata": {}
  },
  {
   "cell_type": "code",
   "execution_count": 4,
   "source": [
    "(x_train,y_train),(x_test,y_test) = keras.datasets.mnist.load_data()"
   ],
   "outputs": [
    {
     "output_type": "stream",
     "name": "stdout",
     "text": [
      "Downloading data from https://storage.googleapis.com/tensorflow/tf-keras-datasets/mnist.npz\n",
      "11493376/11490434 [==============================] - 3s 0us/step\n"
     ]
    }
   ],
   "metadata": {}
  },
  {
   "cell_type": "code",
   "execution_count": 6,
   "source": [
    "plt.matshow(x_train[0])"
   ],
   "outputs": [
    {
     "output_type": "execute_result",
     "data": {
      "text/plain": [
       "<matplotlib.image.AxesImage at 0x2d1dea26f40>"
      ]
     },
     "metadata": {},
     "execution_count": 6
    },
    {
     "output_type": "display_data",
     "data": {
      "text/plain": [
       "<Figure size 288x288 with 1 Axes>"
      ],
      "image/png": "[encoded data removed]"
     },
     "metadata": {
      "needs_background": "light"
     }
    }
   ],
   "metadata": {}
  },
  {
   "cell_type": "code",
   "execution_count": 22,
   "source": [
    "x_train = x_train / 255\r\n",
    "x_test = x_test / 255"
   ],
   "outputs": [],
   "metadata": {}
  },
  {
   "cell_type": "code",
   "execution_count": 30,
   "source": [
    "model = keras.Sequential([\r\n",
    "    keras.layers.Flatten(input_shape = (28,28)),\r\n",
    "    keras.layers.Dense(100,activation = 'relu'),\r\n",
    "    keras.layers.Dense(10,activation = 'sigmoid')\r\n",
    "])\r\n",
    "\r\n",
    "model.compile(\r\n",
    "    optimizer='adam',\r\n",
    "    loss = 'sparse_categorical_crossentropy',\r\n",
    "    metrics=['accuracy']\r\n",
    ")\r\n",
    "\r\n",
    "model.fit(x_train,y_train,epochs=20)"
   ],
   "outputs": [
    {
     "output_type": "stream",
     "name": "stdout",
     "text": [
      "Epoch 1/20\n",
      "1875/1875 [==============================] - 12s 5ms/step - loss: 1.2789 - accuracy: 0.6819\n",
      "Epoch 2/20\n",
      "1875/1875 [==============================] - 8s 4ms/step - loss: 0.5422 - accuracy: 0.8618\n",
      "Epoch 3/20\n",
      "1875/1875 [==============================] - 8s 4ms/step - loss: 0.4104 - accuracy: 0.8905\n",
      "Epoch 4/20\n",
      "1875/1875 [==============================] - 8s 4ms/step - loss: 0.3592 - accuracy: 0.9004\n",
      "Epoch 5/20\n",
      "1875/1875 [==============================] - 8s 4ms/step - loss: 0.3310 - accuracy: 0.9061\n",
      "Epoch 6/20\n",
      "1875/1875 [==============================] - 8s 4ms/step - loss: 0.3122 - accuracy: 0.9112\n",
      "Epoch 7/20\n",
      "1875/1875 [==============================] - 8s 4ms/step - loss: 0.2978 - accuracy: 0.9151\n",
      "Epoch 8/20\n",
      "1875/1875 [==============================] - 8s 4ms/step - loss: 0.2860 - accuracy: 0.9186\n",
      "Epoch 9/20\n",
      "1875/1875 [==============================] - 8s 4ms/step - loss: 0.2757 - accuracy: 0.9209\n",
      "Epoch 10/20\n",
      "1875/1875 [==============================] - 8s 4ms/step - loss: 0.2665 - accuracy: 0.9230\n",
      "Epoch 11/20\n",
      "1875/1875 [==============================] - 8s 4ms/step - loss: 0.2582 - accuracy: 0.9261\n",
      "Epoch 12/20\n",
      "1875/1875 [==============================] - 8s 4ms/step - loss: 0.2504 - accuracy: 0.9276\n",
      "Epoch 13/20\n",
      "1875/1875 [==============================] - 8s 5ms/step - loss: 0.2431 - accuracy: 0.9297\n",
      "Epoch 14/20\n",
      "1875/1875 [==============================] - 8s 4ms/step - loss: 0.2365 - accuracy: 0.9314\n",
      "Epoch 15/20\n",
      "1875/1875 [==============================] - 8s 4ms/step - loss: 0.2294 - accuracy: 0.9343\n",
      "Epoch 16/20\n",
      "1875/1875 [==============================] - 8s 4ms/step - loss: 0.2231 - accuracy: 0.9362\n",
      "Epoch 17/20\n",
      "1875/1875 [==============================] - 8s 4ms/step - loss: 0.2166 - accuracy: 0.9377\n",
      "Epoch 18/20\n",
      "1875/1875 [==============================] - 8s 4ms/step - loss: 0.2106 - accuracy: 0.9398\n",
      "Epoch 19/20\n",
      "1875/1875 [==============================] - 8s 5ms/step - loss: 0.2051 - accuracy: 0.9411\n",
      "Epoch 20/20\n",
      "1875/1875 [==============================] - 9s 5ms/step - loss: 0.1995 - accuracy: 0.9430\n"
     ]
    },
    {
     "output_type": "execute_result",
     "data": {
      "text/plain": [
       "<tensorflow.python.keras.callbacks.History at 0x2d1fd7586a0>"
      ]
     },
     "metadata": {},
     "execution_count": 30
    }
   ],
   "metadata": {}
  },
  {
   "cell_type": "code",
   "execution_count": 25,
   "source": [
    "model.evaluate(x_test,y_test)"
   ],
   "outputs": [
    {
     "output_type": "stream",
     "name": "stdout",
     "text": [
      "313/313 [==============================] - 3s 4ms/step - loss: 0.1192 - accuracy: 0.9619\n"
     ]
    },
    {
     "output_type": "execute_result",
     "data": {
      "text/plain": [
       "[0.11916747689247131, 0.961899995803833]"
      ]
     },
     "metadata": {},
     "execution_count": 25
    }
   ],
   "metadata": {}
  },
  {
   "cell_type": "code",
   "execution_count": 16,
   "source": [
    "y_predicted = model.predict(x_test)\r\n",
    "y_predicted = [np.argmax(i) for i in y_predicted]"
   ],
   "outputs": [],
   "metadata": {}
  },
  {
   "cell_type": "code",
   "execution_count": 17,
   "source": [
    "\r\n",
    "cm = tf.math.confusion_matrix(labels = y_test,predictions = y_predicted )\r\n",
    "cm"
   ],
   "outputs": [
    {
     "output_type": "execute_result",
     "data": {
      "text/plain": [
       "<tf.Tensor: shape=(10, 10), dtype=int32, numpy=\n",
       "array([[ 967,    0,    0,    1,    1,    3,    4,    1,    2,    1],\n",
       "       [   0, 1124,    3,    2,    0,    0,    2,    0,    4,    0],\n",
       "       [   4,    3, 1008,    3,    1,    0,    2,    6,    5,    0],\n",
       "       [   0,    1,    6,  980,    0,    6,    1,    7,    3,    6],\n",
       "       [   1,    0,    2,    0,  965,    0,    4,    1,    2,    7],\n",
       "       [   2,    0,    0,    5,    1,  878,    2,    1,    2,    1],\n",
       "       [   3,    1,    1,    0,   11,    7,  934,    0,    1,    0],\n",
       "       [   1,    4,    7,    3,    3,    0,    0, 1002,    4,    4],\n",
       "       [   4,    0,    2,    5,    4,    5,    2,    4,  945,    3],\n",
       "       [   0,    2,    0,    2,    7,    7,    1,    6,    2,  982]])>"
      ]
     },
     "metadata": {},
     "execution_count": 17
    }
   ],
   "metadata": {}
  },
  {
   "cell_type": "code",
   "execution_count": 19,
   "source": [
    "import seaborn as sn\r\n",
    "\r\n",
    "plt.figure(figsize = (10,7))\r\n",
    "sn.heatmap(cm,annot = True)\r\n",
    "plt.xlabel('predicted')\r\n",
    "plt.ylabel('actual')"
   ],
   "outputs": [
    {
     "output_type": "execute_result",
     "data": {
      "text/plain": [
       "Text(69.0, 0.5, 'actual')"
      ]
     },
     "metadata": {},
     "execution_count": 19
    },
    {
     "output_type": "display_data",
     "data": {
      "text/plain": [
       "<Figure size 720x504 with 2 Axes>"
      ],
      "image/png": "[encoded data removed]"
     },
     "metadata": {
      "needs_background": "light"
     }
    }
   ],
   "metadata": {}
  },
  {
   "cell_type": "code",
   "execution_count": 21,
   "source": [
    "# model.save('model.model.h5')"
   ],
   "outputs": [
    {
     "output_type": "stream",
     "name": "stdout",
     "text": [
      "INFO:tensorflow:Assets written to: model.tf\\assets\n"
     ]
    }
   ],
   "metadata": {}
  }
 ],
 "metadata": {
  "orig_nbformat": 4,
  "language_info": {
   "name": "python",
   "version": "3.9.6",
   "mimetype": "text/x-python",
   "codemirror_mode": {
    "name": "ipython",
    "version": 3
   },
   "pygments_lexer": "ipython3",
   "nbconvert_exporter": "python",
   "file_extension": ".py"
  },
  "kernelspec": {
   "name": "python3",
   "display_name": "Python 3.9.6 64-bit"
  },
  "interpreter": {
   "hash": "d62006d1f3422635846181a997a61e8ec3049f797e5d7dfe0cd1bb84092b7c19"
  }
 },
 "nbformat": 4,
 "nbformat_minor": 2
}