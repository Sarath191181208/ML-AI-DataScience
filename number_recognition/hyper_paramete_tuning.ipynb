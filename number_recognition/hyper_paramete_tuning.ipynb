{
 "cells": [
  {
   "cell_type": "code",
   "execution_count": 1,
   "source": [
    "import numpy as np\r\n",
    "import matplotlib.pyplot as plt\r\n",
    "import pandas as pd\r\n",
    "from sklearn.datasets import load_digits"
   ],
   "outputs": [],
   "metadata": {}
  },
  {
   "cell_type": "code",
   "execution_count": 8,
   "source": [
    "digits_data = load_digits()\r\n",
    "dir(digits_data)"
   ],
   "outputs": [
    {
     "output_type": "execute_result",
     "data": {
      "text/plain": [
       "['DESCR', 'data', 'feature_names', 'frame', 'images', 'target', 'target_names']"
      ]
     },
     "metadata": {},
     "execution_count": 8
    }
   ],
   "metadata": {}
  },
  {
   "cell_type": "code",
   "execution_count": 11,
   "source": [
    "len(digits_data.data[0])"
   ],
   "outputs": [
    {
     "output_type": "execute_result",
     "data": {
      "text/plain": [
       "64"
      ]
     },
     "metadata": {},
     "execution_count": 11
    }
   ],
   "metadata": {}
  },
  {
   "cell_type": "code",
   "execution_count": 14,
   "source": [
    "from sklearn.model_selection import GridSearchCV\r\n",
    "from sklearn.naive_bayes import GaussianNB,MultinomialNB\r\n",
    "from sklearn.svm import SVC\r\n",
    "from sklearn.linear_model import LogisticRegression\r\n",
    "from sklearn.ensemble import RandomForestClassifier\r\n",
    "from sklearn.tree import DecisionTreeClassifier\r\n"
   ],
   "outputs": [],
   "metadata": {}
  },
  {
   "cell_type": "code",
   "execution_count": 15,
   "source": [
    "model_params = {\r\n",
    "    'svm': {\r\n",
    "        'model': SVC(gamma='auto'),\r\n",
    "        'params' : {\r\n",
    "            'C': [1,10,20],\r\n",
    "            'kernel': ['rbf','linear']\r\n",
    "        }  \r\n",
    "    },\r\n",
    "    'random_forest': {\r\n",
    "        'model': RandomForestClassifier(),\r\n",
    "        'params' : {\r\n",
    "            'n_estimators': [1,5,10]\r\n",
    "        }\r\n",
    "    },\r\n",
    "    'logistic_regression' : {\r\n",
    "        'model': LogisticRegression(solver='liblinear',multi_class='auto'),\r\n",
    "        'params': {\r\n",
    "            'C': [1,5,10]\r\n",
    "        }\r\n",
    "    },\r\n",
    "    'naive_bayes_gaussian': {\r\n",
    "        'model': GaussianNB(),\r\n",
    "        'params': {}\r\n",
    "    },\r\n",
    "    'naive_bayes_multinomial': {\r\n",
    "        'model': MultinomialNB(),\r\n",
    "        'params': {}\r\n",
    "    },\r\n",
    "    'decision_tree': {\r\n",
    "        'model': DecisionTreeClassifier(),\r\n",
    "        'params': {\r\n",
    "            'criterion': ['gini','entropy'],\r\n",
    "            \r\n",
    "        }\r\n",
    "    }     \r\n",
    "}"
   ],
   "outputs": [],
   "metadata": {}
  },
  {
   "cell_type": "code",
   "execution_count": 16,
   "source": [
    "scores = []\r\n",
    "for model_name,mp in model_params.items():\r\n",
    "    clf = GridSearchCV(mp['model'],mp['params'],cv = 5 , return_train_score= False)\r\n",
    "    clf.fit(digits_data.data,digits_data.target)\r\n",
    "    scores.append({\r\n",
    "        'model' : model_name,\r\n",
    "        'best_score' : clf.best_score_,\r\n",
    "        'best_params' : clf.best_params_\r\n",
    "    })\r\n",
    "\r\n",
    "df  = pd.DataFrame(scores,columns=['model','best_score','best_params'])\r\n"
   ],
   "outputs": [],
   "metadata": {}
  },
  {
   "cell_type": "code",
   "execution_count": 19,
   "source": [
    "df"
   ],
   "outputs": [
    {
     "output_type": "execute_result",
     "data": {
      "text/plain": [
       "                     model  best_score                   best_params\n",
       "0                      svm    0.947697  {'C': 1, 'kernel': 'linear'}\n",
       "1            random_forest    0.899875          {'n_estimators': 10}\n",
       "2      logistic_regression    0.922114                      {'C': 1}\n",
       "3     naive_bayes_gaussian    0.806928                            {}\n",
       "4  naive_bayes_multinomial    0.870350                            {}\n",
       "5            decision_tree    0.811376      {'criterion': 'entropy'}"
      ],
      "text/html": [
       "<div>\n",
       "<style scoped>\n",
       "    .dataframe tbody tr th:only-of-type {\n",
       "        vertical-align: middle;\n",
       "    }\n",
       "\n",
       "    .dataframe tbody tr th {\n",
       "        vertical-align: top;\n",
       "    }\n",
       "\n",
       "    .dataframe thead th {\n",
       "        text-align: right;\n",
       "    }\n",
       "</style>\n",
       "<table border=\"1\" class=\"dataframe\">\n",
       "  <thead>\n",
       "    <tr style=\"text-align: right;\">\n",
       "      <th></th>\n",
       "      <th>model</th>\n",
       "      <th>best_score</th>\n",
       "      <th>best_params</th>\n",
       "    </tr>\n",
       "  </thead>\n",
       "  <tbody>\n",
       "    <tr>\n",
       "      <th>0</th>\n",
       "      <td>svm</td>\n",
       "      <td>0.947697</td>\n",
       "      <td>{'C': 1, 'kernel': 'linear'}</td>\n",
       "    </tr>\n",
       "    <tr>\n",
       "      <th>1</th>\n",
       "      <td>random_forest</td>\n",
       "      <td>0.899875</td>\n",
       "      <td>{'n_estimators': 10}</td>\n",
       "    </tr>\n",
       "    <tr>\n",
       "      <th>2</th>\n",
       "      <td>logistic_regression</td>\n",
       "      <td>0.922114</td>\n",
       "      <td>{'C': 1}</td>\n",
       "    </tr>\n",
       "    <tr>\n",
       "      <th>3</th>\n",
       "      <td>naive_bayes_gaussian</td>\n",
       "      <td>0.806928</td>\n",
       "      <td>{}</td>\n",
       "    </tr>\n",
       "    <tr>\n",
       "      <th>4</th>\n",
       "      <td>naive_bayes_multinomial</td>\n",
       "      <td>0.870350</td>\n",
       "      <td>{}</td>\n",
       "    </tr>\n",
       "    <tr>\n",
       "      <th>5</th>\n",
       "      <td>decision_tree</td>\n",
       "      <td>0.811376</td>\n",
       "      <td>{'criterion': 'entropy'}</td>\n",
       "    </tr>\n",
       "  </tbody>\n",
       "</table>\n",
       "</div>"
      ]
     },
     "metadata": {},
     "execution_count": 19
    }
   ],
   "metadata": {}
  }
 ],
 "metadata": {
  "orig_nbformat": 4,
  "language_info": {
   "name": "python",
   "version": "3.9.6",
   "mimetype": "text/x-python",
   "codemirror_mode": {
    "name": "ipython",
    "version": 3
   },
   "pygments_lexer": "ipython3",
   "nbconvert_exporter": "python",
   "file_extension": ".py"
  },
  "kernelspec": {
   "name": "python3",
   "display_name": "Python 3.9.6 64-bit"
  },
  "interpreter": {
   "hash": "7512c2ba8d8434952affa0281f7658811b9c468133ef125ce6a61db3a56988a2"
  }
 },
 "nbformat": 4,
 "nbformat_minor": 2
}