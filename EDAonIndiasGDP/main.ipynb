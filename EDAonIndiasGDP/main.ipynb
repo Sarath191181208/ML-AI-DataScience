{
 "cells": [
  {
   "cell_type": "markdown",
   "metadata": {},
   "source": [
    "## Exploratory Data Analysis on Indian Economy"
   ]
  },
  {
   "cell_type": "code",
   "execution_count": 38,
   "metadata": {},
   "outputs": [
    {
     "name": "stdout",
     "output_type": "stream",
     "text": [
      "The autoreload extension is already loaded. To reload it, use:\n",
      "  %reload_ext autoreload\n"
     ]
    }
   ],
   "source": [
    "import numpy as np\n",
    "import matplotlib as mpl\n",
    "import matplotlib.pyplot as plt\n",
    "import pandas as pd\n",
    "# from pandas.core.series import Series\n",
    "# from pandas.io.formats.style import Styler\n",
    "import seaborn as sns\n",
    "import plotly.express as px\n",
    "\n",
    "## use display for html output\n",
    "from IPython.display import display, HTML\n",
    "\n",
    "# auto-reload modules\n",
    "%load_ext autoreload\n",
    "%autoreload 2\n",
    "\n",
    "# set pandas display options\n",
    "pd.set_option('display.max_columns', 100)\n",
    "pd.set_option('display.max_rows', 100)\n",
    "pd.set_option('display.max_colwidth', 100)\n",
    "pd.set_option('display.width', 1000)\n",
    "\n",
    "# set dark theme\n",
    "plt.style.use('dark_background')\n",
    "px.defaults.template = 'plotly_dark'"
   ]
  },
  {
   "cell_type": "code",
   "execution_count": 2,
   "metadata": {},
   "outputs": [
    {
     "data": {
      "text/html": [
       "<div>\n",
       "<style scoped>\n",
       "    .dataframe tbody tr th:only-of-type {\n",
       "        vertical-align: middle;\n",
       "    }\n",
       "\n",
       "    .dataframe tbody tr th {\n",
       "        vertical-align: top;\n",
       "    }\n",
       "\n",
       "    .dataframe thead th {\n",
       "        text-align: right;\n",
       "    }\n",
       "</style>\n",
       "<table border=\"1\" class=\"dataframe\">\n",
       "  <thead>\n",
       "    <tr style=\"text-align: right;\">\n",
       "      <th></th>\n",
       "      <th>Year</th>\n",
       "      <th>Country Name</th>\n",
       "      <th>GDP (current US$)</th>\n",
       "      <th>GDP per capita (current US$)</th>\n",
       "      <th>GDP growth (annual %)</th>\n",
       "      <th>Imports of goods and services (% of GDP)</th>\n",
       "      <th>Exports of goods and services (% of GDP)</th>\n",
       "      <th>Total reserves (includes gold, current US$)</th>\n",
       "      <th>Inflation, consumer prices (annual %)</th>\n",
       "      <th>Population, total</th>\n",
       "      <th>Population growth (annual %)</th>\n",
       "      <th>Life expectancy at birth, total (years)</th>\n",
       "    </tr>\n",
       "  </thead>\n",
       "  <tbody>\n",
       "    <tr>\n",
       "      <th>0</th>\n",
       "      <td>1960</td>\n",
       "      <td>India</td>\n",
       "      <td>3.702988e+10</td>\n",
       "      <td>82</td>\n",
       "      <td>0.00</td>\n",
       "      <td>6.83</td>\n",
       "      <td>4.46</td>\n",
       "      <td>6.745366e+08</td>\n",
       "      <td>1.78</td>\n",
       "      <td>445954579</td>\n",
       "      <td>2.31</td>\n",
       "      <td>41.13</td>\n",
       "    </tr>\n",
       "    <tr>\n",
       "      <th>1</th>\n",
       "      <td>1961</td>\n",
       "      <td>India</td>\n",
       "      <td>3.923244e+10</td>\n",
       "      <td>85</td>\n",
       "      <td>3.72</td>\n",
       "      <td>5.96</td>\n",
       "      <td>4.30</td>\n",
       "      <td>6.663571e+08</td>\n",
       "      <td>1.70</td>\n",
       "      <td>456351876</td>\n",
       "      <td>2.33</td>\n",
       "      <td>41.74</td>\n",
       "    </tr>\n",
       "    <tr>\n",
       "      <th>2</th>\n",
       "      <td>1962</td>\n",
       "      <td>India</td>\n",
       "      <td>4.216148e+10</td>\n",
       "      <td>90</td>\n",
       "      <td>2.93</td>\n",
       "      <td>6.03</td>\n",
       "      <td>4.17</td>\n",
       "      <td>5.127918e+08</td>\n",
       "      <td>3.63</td>\n",
       "      <td>467024193</td>\n",
       "      <td>2.34</td>\n",
       "      <td>42.34</td>\n",
       "    </tr>\n",
       "    <tr>\n",
       "      <th>3</th>\n",
       "      <td>1963</td>\n",
       "      <td>India</td>\n",
       "      <td>4.842192e+10</td>\n",
       "      <td>101</td>\n",
       "      <td>5.99</td>\n",
       "      <td>5.91</td>\n",
       "      <td>4.28</td>\n",
       "      <td>6.078625e+08</td>\n",
       "      <td>2.95</td>\n",
       "      <td>477933619</td>\n",
       "      <td>2.34</td>\n",
       "      <td>42.94</td>\n",
       "    </tr>\n",
       "    <tr>\n",
       "      <th>4</th>\n",
       "      <td>1964</td>\n",
       "      <td>India</td>\n",
       "      <td>5.648029e+10</td>\n",
       "      <td>116</td>\n",
       "      <td>7.45</td>\n",
       "      <td>5.69</td>\n",
       "      <td>3.73</td>\n",
       "      <td>4.991451e+08</td>\n",
       "      <td>13.36</td>\n",
       "      <td>489059309</td>\n",
       "      <td>2.33</td>\n",
       "      <td>43.57</td>\n",
       "    </tr>\n",
       "  </tbody>\n",
       "</table>\n",
       "</div>"
      ],
      "text/plain": [
       "   Year Country Name  GDP (current US$)    GDP per capita (current US$)   GDP growth (annual %)  Imports of goods and services (% of GDP)  Exports of goods and services (% of GDP)   Total reserves (includes gold, current US$)   Inflation, consumer prices (annual %)  Population, total  Population growth (annual %)  Life expectancy at birth, total (years)\n",
       "0  1960        India        3.702988e+10                              82                   0.00                                      6.83                                      4.46                                   6.745366e+08                                   1.78          445954579                          2.31                                    41.13\n",
       "1  1961        India        3.923244e+10                              85                   3.72                                      5.96                                      4.30                                   6.663571e+08                                   1.70          456351876                          2.33                                    41.74\n",
       "2  1962        India        4.216148e+10                              90                   2.93                                      6.03                                      4.17                                   5.127918e+08                                   3.63          467024193                          2.34                                    42.34\n",
       "3  1963        India        4.842192e+10                             101                   5.99                                      5.91                                      4.28                                   6.078625e+08                                   2.95          477933619                          2.34                                    42.94\n",
       "4  1964        India        5.648029e+10                             116                   7.45                                      5.69                                      3.73                                   4.991451e+08                                  13.36          489059309                          2.33                                    43.57"
      ]
     },
     "execution_count": 2,
     "metadata": {},
     "output_type": "execute_result"
    }
   ],
   "source": [
    "df = pd.read_csv('./indianEco.csv')\n",
    "df.head()"
   ]
  },
  {
   "cell_type": "code",
   "execution_count": 6,
   "metadata": {},
   "outputs": [
    {
     "name": "stdout",
     "output_type": "stream",
     "text": [
      "<class 'pandas.core.frame.DataFrame'>\n",
      "RangeIndex: 61 entries, 0 to 60\n",
      "Data columns (total 12 columns):\n",
      " #   Column                                         Non-Null Count  Dtype  \n",
      "---  ------                                         --------------  -----  \n",
      " 0   Year                                           61 non-null     int64  \n",
      " 1   Country Name                                   61 non-null     object \n",
      " 2   GDP (current US$)                              61 non-null     float64\n",
      " 3    GDP per capita (current US$)                  61 non-null     int64  \n",
      " 4   GDP growth (annual %)                          61 non-null     float64\n",
      " 5   Imports of goods and services (% of GDP)       61 non-null     float64\n",
      " 6   Exports of goods and services (% of GDP)       61 non-null     float64\n",
      " 7    Total reserves (includes gold, current US$)   61 non-null     float64\n",
      " 8   Inflation, consumer prices (annual %)          61 non-null     float64\n",
      " 9   Population, total                              61 non-null     int64  \n",
      " 10  Population growth (annual %)                   61 non-null     float64\n",
      " 11  Life expectancy at birth, total (years)        61 non-null     float64\n",
      "dtypes: float64(8), int64(3), object(1)\n",
      "memory usage: 5.8+ KB\n"
     ]
    }
   ],
   "source": [
    "df.info()"
   ]
  },
  {
   "cell_type": "code",
   "execution_count": 19,
   "metadata": {},
   "outputs": [
    {
     "data": {
      "text/html": [
       "<div>\n",
       "<style scoped>\n",
       "    .dataframe tbody tr th:only-of-type {\n",
       "        vertical-align: middle;\n",
       "    }\n",
       "\n",
       "    .dataframe tbody tr th {\n",
       "        vertical-align: top;\n",
       "    }\n",
       "\n",
       "    .dataframe thead th {\n",
       "        text-align: right;\n",
       "    }\n",
       "</style>\n",
       "<table border=\"1\" class=\"dataframe\">\n",
       "  <thead>\n",
       "    <tr style=\"text-align: right;\">\n",
       "      <th></th>\n",
       "      <th>year</th>\n",
       "      <th>gdp_current_usdollar</th>\n",
       "      <th>gdp_per_capita_current_usdollar</th>\n",
       "      <th>gdp_growth_annual_percentage</th>\n",
       "      <th>imports_of_goods_and_services_percentage_of_gdp</th>\n",
       "      <th>exports_of_goods_and_services_percentage_of_gdp</th>\n",
       "      <th>total_reserves_includes_gold_current_usdollar</th>\n",
       "      <th>inflation_consumer_prices_annual_percentage</th>\n",
       "      <th>population_total</th>\n",
       "      <th>population_growth_annual_percentage</th>\n",
       "      <th>life_expectancy_at_birth_total_years</th>\n",
       "    </tr>\n",
       "  </thead>\n",
       "  <tbody>\n",
       "    <tr>\n",
       "      <th>count</th>\n",
       "      <td>61.000000</td>\n",
       "      <td>6.100000e+01</td>\n",
       "      <td>61.000000</td>\n",
       "      <td>61.000000</td>\n",
       "      <td>61.000000</td>\n",
       "      <td>61.000000</td>\n",
       "      <td>6.100000e+01</td>\n",
       "      <td>61.000000</td>\n",
       "      <td>6.100000e+01</td>\n",
       "      <td>61.000000</td>\n",
       "      <td>61.000000</td>\n",
       "    </tr>\n",
       "    <tr>\n",
       "      <th>mean</th>\n",
       "      <td>1990.000000</td>\n",
       "      <td>6.584725e+11</td>\n",
       "      <td>575.557377</td>\n",
       "      <td>4.938197</td>\n",
       "      <td>12.746393</td>\n",
       "      <td>10.885574</td>\n",
       "      <td>9.802227e+10</td>\n",
       "      <td>7.413279</td>\n",
       "      <td>8.913946e+08</td>\n",
       "      <td>1.927705</td>\n",
       "      <td>57.146230</td>\n",
       "    </tr>\n",
       "    <tr>\n",
       "      <th>std</th>\n",
       "      <td>17.752934</td>\n",
       "      <td>8.129606e+11</td>\n",
       "      <td>584.079062</td>\n",
       "      <td>3.344891</td>\n",
       "      <td>8.155110</td>\n",
       "      <td>7.060458</td>\n",
       "      <td>1.497102e+11</td>\n",
       "      <td>4.940153</td>\n",
       "      <td>2.974496e+08</td>\n",
       "      <td>0.419024</td>\n",
       "      <td>8.459559</td>\n",
       "    </tr>\n",
       "    <tr>\n",
       "      <th>min</th>\n",
       "      <td>1960.000000</td>\n",
       "      <td>3.702988e+10</td>\n",
       "      <td>82.000000</td>\n",
       "      <td>-7.250000</td>\n",
       "      <td>3.710000</td>\n",
       "      <td>3.310000</td>\n",
       "      <td>4.991451e+08</td>\n",
       "      <td>-7.630000</td>\n",
       "      <td>4.459546e+08</td>\n",
       "      <td>0.960000</td>\n",
       "      <td>41.130000</td>\n",
       "    </tr>\n",
       "    <tr>\n",
       "      <th>25%</th>\n",
       "      <td>1975.000000</td>\n",
       "      <td>9.952590e+10</td>\n",
       "      <td>161.000000</td>\n",
       "      <td>3.720000</td>\n",
       "      <td>6.590000</td>\n",
       "      <td>5.200000</td>\n",
       "      <td>2.324650e+09</td>\n",
       "      <td>4.010000</td>\n",
       "      <td>6.235242e+08</td>\n",
       "      <td>1.620000</td>\n",
       "      <td>50.630000</td>\n",
       "    </tr>\n",
       "    <tr>\n",
       "      <th>50%</th>\n",
       "      <td>1990.000000</td>\n",
       "      <td>2.882084e+11</td>\n",
       "      <td>340.000000</td>\n",
       "      <td>5.530000</td>\n",
       "      <td>8.570000</td>\n",
       "      <td>7.050000</td>\n",
       "      <td>1.151174e+10</td>\n",
       "      <td>6.670000</td>\n",
       "      <td>8.704522e+08</td>\n",
       "      <td>2.150000</td>\n",
       "      <td>57.660000</td>\n",
       "    </tr>\n",
       "    <tr>\n",
       "      <th>75%</th>\n",
       "      <td>2005.000000</td>\n",
       "      <td>8.203816e+11</td>\n",
       "      <td>715.000000</td>\n",
       "      <td>7.450000</td>\n",
       "      <td>19.640000</td>\n",
       "      <td>18.690000</td>\n",
       "      <td>1.378248e+11</td>\n",
       "      <td>10.020000</td>\n",
       "      <td>1.154639e+09</td>\n",
       "      <td>2.260000</td>\n",
       "      <td>64.310000</td>\n",
       "    </tr>\n",
       "    <tr>\n",
       "      <th>max</th>\n",
       "      <td>2020.000000</td>\n",
       "      <td>2.831552e+12</td>\n",
       "      <td>2101.000000</td>\n",
       "      <td>9.630000</td>\n",
       "      <td>31.260000</td>\n",
       "      <td>25.430000</td>\n",
       "      <td>5.902274e+11</td>\n",
       "      <td>28.600000</td>\n",
       "      <td>1.396387e+09</td>\n",
       "      <td>2.340000</td>\n",
       "      <td>69.730000</td>\n",
       "    </tr>\n",
       "  </tbody>\n",
       "</table>\n",
       "</div>"
      ],
      "text/plain": [
       "              year  gdp_current_usdollar  gdp_per_capita_current_usdollar  gdp_growth_annual_percentage  imports_of_goods_and_services_percentage_of_gdp  exports_of_goods_and_services_percentage_of_gdp  total_reserves_includes_gold_current_usdollar  inflation_consumer_prices_annual_percentage  population_total  population_growth_annual_percentage  life_expectancy_at_birth_total_years\n",
       "count    61.000000          6.100000e+01                        61.000000                     61.000000                                        61.000000                                        61.000000                                   6.100000e+01                                    61.000000      6.100000e+01                            61.000000                             61.000000\n",
       "mean   1990.000000          6.584725e+11                       575.557377                      4.938197                                        12.746393                                        10.885574                                   9.802227e+10                                     7.413279      8.913946e+08                             1.927705                             57.146230\n",
       "std      17.752934          8.129606e+11                       584.079062                      3.344891                                         8.155110                                         7.060458                                   1.497102e+11                                     4.940153      2.974496e+08                             0.419024                              8.459559\n",
       "min    1960.000000          3.702988e+10                        82.000000                     -7.250000                                         3.710000                                         3.310000                                   4.991451e+08                                    -7.630000      4.459546e+08                             0.960000                             41.130000\n",
       "25%    1975.000000          9.952590e+10                       161.000000                      3.720000                                         6.590000                                         5.200000                                   2.324650e+09                                     4.010000      6.235242e+08                             1.620000                             50.630000\n",
       "50%    1990.000000          2.882084e+11                       340.000000                      5.530000                                         8.570000                                         7.050000                                   1.151174e+10                                     6.670000      8.704522e+08                             2.150000                             57.660000\n",
       "75%    2005.000000          8.203816e+11                       715.000000                      7.450000                                        19.640000                                        18.690000                                   1.378248e+11                                    10.020000      1.154639e+09                             2.260000                             64.310000\n",
       "max    2020.000000          2.831552e+12                      2101.000000                      9.630000                                        31.260000                                        25.430000                                   5.902274e+11                                    28.600000      1.396387e+09                             2.340000                             69.730000"
      ]
     },
     "execution_count": 19,
     "metadata": {},
     "output_type": "execute_result"
    }
   ],
   "source": [
    "df.describe()"
   ]
  },
  {
   "cell_type": "code",
   "execution_count": 12,
   "metadata": {},
   "outputs": [],
   "source": [
    "def clean_name(name: str):\n",
    "  return (name\n",
    "      .strip()\n",
    "      .lower()\n",
    "      .replace(' ', '_')\n",
    "      .replace('(', '_')\n",
    "      .replace(')', '')\n",
    "      .replace('__', '_')\n",
    "      .replace('%', 'percentage')\n",
    "      .replace('$', 'dollar')\n",
    "      # remove all the special chars except (underscore)\n",
    "      .translate(str.maketrans('', '', '''\"'!#$%&'*+,-./:;<=>?@[\\]^`{|}~'''))\n",
    "      .strip('_')\n",
    "      )\n",
    "old_name_new_name_dict = {old_name: clean_name(old_name) for old_name in df.columns}\n",
    "df.rename(columns=old_name_new_name_dict, inplace=True)"
   ]
  },
  {
   "cell_type": "code",
   "execution_count": 37,
   "metadata": {},
   "outputs": [
    {
     "data": {
      "text/html": [
       "<div>\n",
       "<style scoped>\n",
       "    .dataframe tbody tr th:only-of-type {\n",
       "        vertical-align: middle;\n",
       "    }\n",
       "\n",
       "    .dataframe tbody tr th {\n",
       "        vertical-align: top;\n",
       "    }\n",
       "\n",
       "    .dataframe thead th {\n",
       "        text-align: right;\n",
       "    }\n",
       "</style>\n",
       "<table border=\"1\" class=\"dataframe\">\n",
       "  <thead>\n",
       "    <tr style=\"text-align: right;\">\n",
       "      <th></th>\n",
       "      <th>year</th>\n",
       "      <th>gdp_current_usdollar</th>\n",
       "      <th>gdp_per_capita_current_usdollar</th>\n",
       "      <th>gdp_growth_annual_percentage</th>\n",
       "      <th>imports_of_goods_and_services_percentage_of_gdp</th>\n",
       "      <th>exports_of_goods_and_services_percentage_of_gdp</th>\n",
       "      <th>total_reserves_includes_gold_current_usdollar</th>\n",
       "      <th>inflation_consumer_prices_annual_percentage</th>\n",
       "      <th>population_total</th>\n",
       "      <th>population_growth_annual_percentage</th>\n",
       "      <th>life_expectancy_at_birth_total_years</th>\n",
       "    </tr>\n",
       "  </thead>\n",
       "  <tbody>\n",
       "    <tr>\n",
       "      <th>0</th>\n",
       "      <td>1960</td>\n",
       "      <td>3.702988e+10</td>\n",
       "      <td>82</td>\n",
       "      <td>0.00</td>\n",
       "      <td>6.83</td>\n",
       "      <td>4.46</td>\n",
       "      <td>6.745366e+08</td>\n",
       "      <td>1.78</td>\n",
       "      <td>445954579</td>\n",
       "      <td>2.31</td>\n",
       "      <td>41.13</td>\n",
       "    </tr>\n",
       "    <tr>\n",
       "      <th>1</th>\n",
       "      <td>1961</td>\n",
       "      <td>3.923244e+10</td>\n",
       "      <td>85</td>\n",
       "      <td>3.72</td>\n",
       "      <td>5.96</td>\n",
       "      <td>4.30</td>\n",
       "      <td>6.663571e+08</td>\n",
       "      <td>1.70</td>\n",
       "      <td>456351876</td>\n",
       "      <td>2.33</td>\n",
       "      <td>41.74</td>\n",
       "    </tr>\n",
       "    <tr>\n",
       "      <th>2</th>\n",
       "      <td>1962</td>\n",
       "      <td>4.216148e+10</td>\n",
       "      <td>90</td>\n",
       "      <td>2.93</td>\n",
       "      <td>6.03</td>\n",
       "      <td>4.17</td>\n",
       "      <td>5.127918e+08</td>\n",
       "      <td>3.63</td>\n",
       "      <td>467024193</td>\n",
       "      <td>2.34</td>\n",
       "      <td>42.34</td>\n",
       "    </tr>\n",
       "    <tr>\n",
       "      <th>3</th>\n",
       "      <td>1963</td>\n",
       "      <td>4.842192e+10</td>\n",
       "      <td>101</td>\n",
       "      <td>5.99</td>\n",
       "      <td>5.91</td>\n",
       "      <td>4.28</td>\n",
       "      <td>6.078625e+08</td>\n",
       "      <td>2.95</td>\n",
       "      <td>477933619</td>\n",
       "      <td>2.34</td>\n",
       "      <td>42.94</td>\n",
       "    </tr>\n",
       "    <tr>\n",
       "      <th>4</th>\n",
       "      <td>1964</td>\n",
       "      <td>5.648029e+10</td>\n",
       "      <td>116</td>\n",
       "      <td>7.45</td>\n",
       "      <td>5.69</td>\n",
       "      <td>3.73</td>\n",
       "      <td>4.991451e+08</td>\n",
       "      <td>13.36</td>\n",
       "      <td>489059309</td>\n",
       "      <td>2.33</td>\n",
       "      <td>43.57</td>\n",
       "    </tr>\n",
       "  </tbody>\n",
       "</table>\n",
       "</div>"
      ],
      "text/plain": [
       "   year  gdp_current_usdollar  gdp_per_capita_current_usdollar  gdp_growth_annual_percentage  imports_of_goods_and_services_percentage_of_gdp  exports_of_goods_and_services_percentage_of_gdp  total_reserves_includes_gold_current_usdollar  inflation_consumer_prices_annual_percentage  population_total  population_growth_annual_percentage  life_expectancy_at_birth_total_years\n",
       "0  1960          3.702988e+10                               82                          0.00                                             6.83                                             4.46                                   6.745366e+08                                         1.78         445954579                                 2.31                                 41.13\n",
       "1  1961          3.923244e+10                               85                          3.72                                             5.96                                             4.30                                   6.663571e+08                                         1.70         456351876                                 2.33                                 41.74\n",
       "2  1962          4.216148e+10                               90                          2.93                                             6.03                                             4.17                                   5.127918e+08                                         3.63         467024193                                 2.34                                 42.34\n",
       "3  1963          4.842192e+10                              101                          5.99                                             5.91                                             4.28                                   6.078625e+08                                         2.95         477933619                                 2.34                                 42.94\n",
       "4  1964          5.648029e+10                              116                          7.45                                             5.69                                             3.73                                   4.991451e+08                                        13.36         489059309                                 2.33                                 43.57"
      ]
     },
     "execution_count": 37,
     "metadata": {},
     "output_type": "execute_result"
    }
   ],
   "source": [
    "df.drop(columns=['country_name'], inplace=True)\n",
    "df.head()"
   ]
  },
  {
   "cell_type": "code",
   "execution_count": 33,
   "metadata": {},
   "outputs": [
    {
     "data": {
      "application/vnd.plotly.v1+json": {
       "config": {
        "plotlyServerURL": "https://plot.ly"
       },
       "data": [
        {
         "hovertemplate": "year=%{x}<br>gdp_per_capita_current_usdollar=%{y}<extra></extra>",
         "legendgroup": "",
         "line": {
          "color": "#636efa",
          "dash": "solid"
         },
         "marker": {
          "symbol": "circle"
         },
         "mode": "lines",
         "name": "",
         "orientation": "v",
         "showlegend": false,
         "type": "scatter",
         "x": [
          1960,
          1961,
          1962,
          1963,
          1964,
          1965,
          1966,
          1967,
          1968,
          1969,
          1970,
          1971,
          1972,
          1973,
          1974,
          1975,
          1976,
          1977,
          1978,
          1979,
          1980,
          1981,
          1982,
          1983,
          1984,
          1985,
          1986,
          1987,
          1988,
          1989,
          1990,
          1991,
          1992,
          1993,
          1994,
          1995,
          1996,
          1997,
          1998,
          1999,
          2000,
          2001,
          2002,
          2003,
          2004,
          2005,
          2006,
          2007,
          2008,
          2009,
          2010,
          2011,
          2012,
          2013,
          2014,
          2015,
          2016,
          2017,
          2018,
          2019,
          2020
         ],
         "xaxis": "x",
         "y": [
          82,
          85,
          90,
          101,
          116,
          119,
          90,
          96,
          100,
          108,
          112,
          119,
          123,
          144,
          163,
          158,
          161,
          186,
          206,
          224,
          267,
          270,
          274,
          291,
          277,
          296,
          310,
          340,
          354,
          346,
          368,
          303,
          317,
          301,
          346,
          374,
          400,
          415,
          413,
          442,
          443,
          452,
          471,
          547,
          628,
          715,
          807,
          1028,
          999,
          1102,
          1358,
          1458,
          1444,
          1450,
          1574,
          1606,
          1733,
          1981,
          1997,
          2101,
          1928
         ],
         "yaxis": "y"
        },
        {
         "type": "bar",
         "x": [
          1960,
          1961,
          1962,
          1963,
          1964,
          1965,
          1966,
          1967,
          1968,
          1969,
          1970,
          1971,
          1972,
          1973,
          1974,
          1975,
          1976,
          1977,
          1978,
          1979,
          1980,
          1981,
          1982,
          1983,
          1984,
          1985,
          1986,
          1987,
          1988,
          1989,
          1990,
          1991,
          1992,
          1993,
          1994,
          1995,
          1996,
          1997,
          1998,
          1999,
          2000,
          2001,
          2002,
          2003,
          2004,
          2005,
          2006,
          2007,
          2008,
          2009,
          2010,
          2011,
          2012,
          2013,
          2014,
          2015,
          2016,
          2017,
          2018,
          2019,
          2020
         ],
         "y": [
          82,
          85,
          90,
          101,
          116,
          119,
          90,
          96,
          100,
          108,
          112,
          119,
          123,
          144,
          163,
          158,
          161,
          186,
          206,
          224,
          267,
          270,
          274,
          291,
          277,
          296,
          310,
          340,
          354,
          346,
          368,
          303,
          317,
          301,
          346,
          374,
          400,
          415,
          413,
          442,
          443,
          452,
          471,
          547,
          628,
          715,
          807,
          1028,
          999,
          1102,
          1358,
          1458,
          1444,
          1450,
          1574,
          1606,
          1733,
          1981,
          1997,
          2101,
          1928
         ]
        }
       ],
       "layout": {
        "legend": {
         "tracegroupgap": 0
        },
        "template": {
         "data": {
          "bar": [
           {
            "error_x": {
             "color": "#f2f5fa"
            },
            "error_y": {
             "color": "#f2f5fa"
            },
            "marker": {
             "line": {
              "color": "rgb(17,17,17)",
              "width": 0.5
             },
             "pattern": {
              "fillmode": "overlay",
              "size": 10,
              "solidity": 0.2
             }
            },
            "type": "bar"
           }
          ],
          "barpolar": [
           {
            "marker": {
             "line": {
              "color": "rgb(17,17,17)",
              "width": 0.5
             },
             "pattern": {
              "fillmode": "overlay",
              "size": 10,
              "solidity": 0.2
             }
            },
            "type": "barpolar"
           }
          ],
          "carpet": [
           {
            "aaxis": {
             "endlinecolor": "#A2B1C6",
             "gridcolor": "#506784",
             "linecolor": "#506784",
             "minorgridcolor": "#506784",
             "startlinecolor": "#A2B1C6"
            },
            "baxis": {
             "endlinecolor": "#A2B1C6",
             "gridcolor": "#506784",
             "linecolor": "#506784",
             "minorgridcolor": "#506784",
             "startlinecolor": "#A2B1C6"
            },
            "type": "carpet"
           }
          ],
          "choropleth": [
           {
            "colorbar": {
             "outlinewidth": 0,
             "ticks": ""
            },
            "type": "choropleth"
           }
          ],
          "contour": [
           {
            "colorbar": {
             "outlinewidth": 0,
             "ticks": ""
            },
            "colorscale": [
             [
              0,
              "#0d0887"
             ],
             [
              0.1111111111111111,
              "#46039f"
             ],
             [
              0.2222222222222222,
              "#7201a8"
             ],
             [
              0.3333333333333333,
              "#9c179e"
             ],
             [
              0.4444444444444444,
              "#bd3786"
             ],
             [
              0.5555555555555556,
              "#d8576b"
             ],
             [
              0.6666666666666666,
              "#ed7953"
             ],
             [
              0.7777777777777778,
              "#fb9f3a"
             ],
             [
              0.8888888888888888,
              "#fdca26"
             ],
             [
              1,
              "#f0f921"
             ]
            ],
            "type": "contour"
           }
          ],
          "contourcarpet": [
           {
            "colorbar": {
             "outlinewidth": 0,
             "ticks": ""
            },
            "type": "contourcarpet"
           }
          ],
          "heatmap": [
           {
            "colorbar": {
             "outlinewidth": 0,
             "ticks": ""
            },
            "colorscale": [
             [
              0,
              "#0d0887"
             ],
             [
              0.1111111111111111,
              "#46039f"
             ],
             [
              0.2222222222222222,
              "#7201a8"
             ],
             [
              0.3333333333333333,
              "#9c179e"
             ],
             [
              0.4444444444444444,
              "#bd3786"
             ],
             [
              0.5555555555555556,
              "#d8576b"
             ],
             [
              0.6666666666666666,
              "#ed7953"
             ],
             [
              0.7777777777777778,
              "#fb9f3a"
             ],
             [
              0.8888888888888888,
              "#fdca26"
             ],
             [
              1,
              "#f0f921"
             ]
            ],
            "type": "heatmap"
           }
          ],
          "heatmapgl": [
           {
            "colorbar": {
             "outlinewidth": 0,
             "ticks": ""
            },
            "colorscale": [
             [
              0,
              "#0d0887"
             ],
             [
              0.1111111111111111,
              "#46039f"
             ],
             [
              0.2222222222222222,
              "#7201a8"
             ],
             [
              0.3333333333333333,
              "#9c179e"
             ],
             [
              0.4444444444444444,
              "#bd3786"
             ],
             [
              0.5555555555555556,
              "#d8576b"
             ],
             [
              0.6666666666666666,
              "#ed7953"
             ],
             [
              0.7777777777777778,
              "#fb9f3a"
             ],
             [
              0.8888888888888888,
              "#fdca26"
             ],
             [
              1,
              "#f0f921"
             ]
            ],
            "type": "heatmapgl"
           }
          ],
          "histogram": [
           {
            "marker": {
             "pattern": {
              "fillmode": "overlay",
              "size": 10,
              "solidity": 0.2
             }
            },
            "type": "histogram"
           }
          ],
          "histogram2d": [
           {
            "colorbar": {
             "outlinewidth": 0,
             "ticks": ""
            },
            "colorscale": [
             [
              0,
              "#0d0887"
             ],
             [
              0.1111111111111111,
              "#46039f"
             ],
             [
              0.2222222222222222,
              "#7201a8"
             ],
             [
              0.3333333333333333,
              "#9c179e"
             ],
             [
              0.4444444444444444,
              "#bd3786"
             ],
             [
              0.5555555555555556,
              "#d8576b"
             ],
             [
              0.6666666666666666,
              "#ed7953"
             ],
             [
              0.7777777777777778,
              "#fb9f3a"
             ],
             [
              0.8888888888888888,
              "#fdca26"
             ],
             [
              1,
              "#f0f921"
             ]
            ],
            "type": "histogram2d"
           }
          ],
          "histogram2dcontour": [
           {
            "colorbar": {
             "outlinewidth": 0,
             "ticks": ""
            },
            "colorscale": [
             [
              0,
              "#0d0887"
             ],
             [
              0.1111111111111111,
              "#46039f"
             ],
             [
              0.2222222222222222,
              "#7201a8"
             ],
             [
              0.3333333333333333,
              "#9c179e"
             ],
             [
              0.4444444444444444,
              "#bd3786"
             ],
             [
              0.5555555555555556,
              "#d8576b"
             ],
             [
              0.6666666666666666,
              "#ed7953"
             ],
             [
              0.7777777777777778,
              "#fb9f3a"
             ],
             [
              0.8888888888888888,
              "#fdca26"
             ],
             [
              1,
              "#f0f921"
             ]
            ],
            "type": "histogram2dcontour"
           }
          ],
          "mesh3d": [
           {
            "colorbar": {
             "outlinewidth": 0,
             "ticks": ""
            },
            "type": "mesh3d"
           }
          ],
          "parcoords": [
           {
            "line": {
             "colorbar": {
              "outlinewidth": 0,
              "ticks": ""
             }
            },
            "type": "parcoords"
           }
          ],
          "pie": [
           {
            "automargin": true,
            "type": "pie"
           }
          ],
          "scatter": [
           {
            "marker": {
             "line": {
              "color": "#283442"
             }
            },
            "type": "scatter"
           }
          ],
          "scatter3d": [
           {
            "line": {
             "colorbar": {
              "outlinewidth": 0,
              "ticks": ""
             }
            },
            "marker": {
             "colorbar": {
              "outlinewidth": 0,
              "ticks": ""
             }
            },
            "type": "scatter3d"
           }
          ],
          "scattercarpet": [
           {
            "marker": {
             "colorbar": {
              "outlinewidth": 0,
              "ticks": ""
             }
            },
            "type": "scattercarpet"
           }
          ],
          "scattergeo": [
           {
            "marker": {
             "colorbar": {
              "outlinewidth": 0,
              "ticks": ""
             }
            },
            "type": "scattergeo"
           }
          ],
          "scattergl": [
           {
            "marker": {
             "line": {
              "color": "#283442"
             }
            },
            "type": "scattergl"
           }
          ],
          "scattermapbox": [
           {
            "marker": {
             "colorbar": {
              "outlinewidth": 0,
              "ticks": ""
             }
            },
            "type": "scattermapbox"
           }
          ],
          "scatterpolar": [
           {
            "marker": {
             "colorbar": {
              "outlinewidth": 0,
              "ticks": ""
             }
            },
            "type": "scatterpolar"
           }
          ],
          "scatterpolargl": [
           {
            "marker": {
             "colorbar": {
              "outlinewidth": 0,
              "ticks": ""
             }
            },
            "type": "scatterpolargl"
           }
          ],
          "scatterternary": [
           {
            "marker": {
             "colorbar": {
              "outlinewidth": 0,
              "ticks": ""
             }
            },
            "type": "scatterternary"
           }
          ],
          "surface": [
           {
            "colorbar": {
             "outlinewidth": 0,
             "ticks": ""
            },
            "colorscale": [
             [
              0,
              "#0d0887"
             ],
             [
              0.1111111111111111,
              "#46039f"
             ],
             [
              0.2222222222222222,
              "#7201a8"
             ],
             [
              0.3333333333333333,
              "#9c179e"
             ],
             [
              0.4444444444444444,
              "#bd3786"
             ],
             [
              0.5555555555555556,
              "#d8576b"
             ],
             [
              0.6666666666666666,
              "#ed7953"
             ],
             [
              0.7777777777777778,
              "#fb9f3a"
             ],
             [
              0.8888888888888888,
              "#fdca26"
             ],
             [
              1,
              "#f0f921"
             ]
            ],
            "type": "surface"
           }
          ],
          "table": [
           {
            "cells": {
             "fill": {
              "color": "#506784"
             },
             "line": {
              "color": "rgb(17,17,17)"
             }
            },
            "header": {
             "fill": {
              "color": "#2a3f5f"
             },
             "line": {
              "color": "rgb(17,17,17)"
             }
            },
            "type": "table"
           }
          ]
         },
         "layout": {
          "annotationdefaults": {
           "arrowcolor": "#f2f5fa",
           "arrowhead": 0,
           "arrowwidth": 1
          },
          "autotypenumbers": "strict",
          "coloraxis": {
           "colorbar": {
            "outlinewidth": 0,
            "ticks": ""
           }
          },
          "colorscale": {
           "diverging": [
            [
             0,
             "#8e0152"
            ],
            [
             0.1,
             "#c51b7d"
            ],
            [
             0.2,
             "#de77ae"
            ],
            [
             0.3,
             "#f1b6da"
            ],
            [
             0.4,
             "#fde0ef"
            ],
            [
             0.5,
             "#f7f7f7"
            ],
            [
             0.6,
             "#e6f5d0"
            ],
            [
             0.7,
             "#b8e186"
            ],
            [
             0.8,
             "#7fbc41"
            ],
            [
             0.9,
             "#4d9221"
            ],
            [
             1,
             "#276419"
            ]
           ],
           "sequential": [
            [
             0,
             "#0d0887"
            ],
            [
             0.1111111111111111,
             "#46039f"
            ],
            [
             0.2222222222222222,
             "#7201a8"
            ],
            [
             0.3333333333333333,
             "#9c179e"
            ],
            [
             0.4444444444444444,
             "#bd3786"
            ],
            [
             0.5555555555555556,
             "#d8576b"
            ],
            [
             0.6666666666666666,
             "#ed7953"
            ],
            [
             0.7777777777777778,
             "#fb9f3a"
            ],
            [
             0.8888888888888888,
             "#fdca26"
            ],
            [
             1,
             "#f0f921"
            ]
           ],
           "sequentialminus": [
            [
             0,
             "#0d0887"
            ],
            [
             0.1111111111111111,
             "#46039f"
            ],
            [
             0.2222222222222222,
             "#7201a8"
            ],
            [
             0.3333333333333333,
             "#9c179e"
            ],
            [
             0.4444444444444444,
             "#bd3786"
            ],
            [
             0.5555555555555556,
             "#d8576b"
            ],
            [
             0.6666666666666666,
             "#ed7953"
            ],
            [
             0.7777777777777778,
             "#fb9f3a"
            ],
            [
             0.8888888888888888,
             "#fdca26"
            ],
            [
             1,
             "#f0f921"
            ]
           ]
          },
          "colorway": [
           "#636efa",
           "#EF553B",
           "#00cc96",
           "#ab63fa",
           "#FFA15A",
           "#19d3f3",
           "#FF6692",
           "#B6E880",
           "#FF97FF",
           "#FECB52"
          ],
          "font": {
           "color": "#f2f5fa"
          },
          "geo": {
           "bgcolor": "rgb(17,17,17)",
           "lakecolor": "rgb(17,17,17)",
           "landcolor": "rgb(17,17,17)",
           "showlakes": true,
           "showland": true,
           "subunitcolor": "#506784"
          },
          "hoverlabel": {
           "align": "left"
          },
          "hovermode": "closest",
          "mapbox": {
           "style": "dark"
          },
          "paper_bgcolor": "rgb(17,17,17)",
          "plot_bgcolor": "rgb(17,17,17)",
          "polar": {
           "angularaxis": {
            "gridcolor": "#506784",
            "linecolor": "#506784",
            "ticks": ""
           },
           "bgcolor": "rgb(17,17,17)",
           "radialaxis": {
            "gridcolor": "#506784",
            "linecolor": "#506784",
            "ticks": ""
           }
          },
          "scene": {
           "xaxis": {
            "backgroundcolor": "rgb(17,17,17)",
            "gridcolor": "#506784",
            "gridwidth": 2,
            "linecolor": "#506784",
            "showbackground": true,
            "ticks": "",
            "zerolinecolor": "#C8D4E3"
           },
           "yaxis": {
            "backgroundcolor": "rgb(17,17,17)",
            "gridcolor": "#506784",
            "gridwidth": 2,
            "linecolor": "#506784",
            "showbackground": true,
            "ticks": "",
            "zerolinecolor": "#C8D4E3"
           },
           "zaxis": {
            "backgroundcolor": "rgb(17,17,17)",
            "gridcolor": "#506784",
            "gridwidth": 2,
            "linecolor": "#506784",
            "showbackground": true,
            "ticks": "",
            "zerolinecolor": "#C8D4E3"
           }
          },
          "shapedefaults": {
           "line": {
            "color": "#f2f5fa"
           }
          },
          "sliderdefaults": {
           "bgcolor": "#C8D4E3",
           "bordercolor": "rgb(17,17,17)",
           "borderwidth": 1,
           "tickwidth": 0
          },
          "ternary": {
           "aaxis": {
            "gridcolor": "#506784",
            "linecolor": "#506784",
            "ticks": ""
           },
           "baxis": {
            "gridcolor": "#506784",
            "linecolor": "#506784",
            "ticks": ""
           },
           "bgcolor": "rgb(17,17,17)",
           "caxis": {
            "gridcolor": "#506784",
            "linecolor": "#506784",
            "ticks": ""
           }
          },
          "title": {
           "x": 0.05
          },
          "updatemenudefaults": {
           "bgcolor": "#506784",
           "borderwidth": 0
          },
          "xaxis": {
           "automargin": true,
           "gridcolor": "#283442",
           "linecolor": "#506784",
           "ticks": "",
           "title": {
            "standoff": 15
           },
           "zerolinecolor": "#283442",
           "zerolinewidth": 2
          },
          "yaxis": {
           "automargin": true,
           "gridcolor": "#283442",
           "linecolor": "#506784",
           "ticks": "",
           "title": {
            "standoff": 15
           },
           "zerolinecolor": "#283442",
           "zerolinewidth": 2
          }
         }
        },
        "title": {
         "text": "GDP over the years"
        },
        "xaxis": {
         "anchor": "y",
         "domain": [
          0,
          1
         ],
         "title": {
          "text": "year"
         }
        },
        "yaxis": {
         "anchor": "x",
         "domain": [
          0,
          1
         ],
         "title": {
          "text": "gdp_per_capita_current_usdollar"
         }
        }
       }
      }
     },
     "metadata": {},
     "output_type": "display_data"
    }
   ],
   "source": [
    "fig = px.line(df, x='year', y='gdp_per_capita_current_usdollar',\n",
    "              title='GDP over the years')\n",
    "fig.add_bar(x=df['year'], y=df['gdp_per_capita_current_usdollar'])\n",
    "fig.show()\n"
   ]
  },
  {
   "cell_type": "code",
   "execution_count": 50,
   "metadata": {},
   "outputs": [
    {
     "data": {
      "application/vnd.plotly.v1+json": {
       "config": {
        "plotlyServerURL": "https://plot.ly"
       },
       "data": [
        {
         "hovertemplate": "year=%{x}<br>gdp_growth_annual_percentage=%{y}<extra></extra>",
         "legendgroup": "",
         "line": {
          "color": "#636efa",
          "dash": "solid"
         },
         "marker": {
          "symbol": "circle"
         },
         "mode": "lines",
         "name": "",
         "orientation": "v",
         "showlegend": false,
         "type": "scatter",
         "x": [
          1960,
          1961,
          1962,
          1963,
          1964,
          1965,
          1966,
          1967,
          1968,
          1969,
          1970,
          1971,
          1972,
          1973,
          1974,
          1975,
          1976,
          1977,
          1978,
          1979,
          1980,
          1981,
          1982,
          1983,
          1984,
          1985,
          1986,
          1987,
          1988,
          1989,
          1990,
          1991,
          1992,
          1993,
          1994,
          1995,
          1996,
          1997,
          1998,
          1999,
          2000,
          2001,
          2002,
          2003,
          2004,
          2005,
          2006,
          2007,
          2008,
          2009,
          2010,
          2011,
          2012,
          2013,
          2014,
          2015,
          2016,
          2017,
          2018,
          2019,
          2020
         ],
         "xaxis": "x",
         "y": [
          0,
          3.72,
          2.93,
          5.99,
          7.45,
          -2.64,
          -0.06,
          7.83,
          3.39,
          6.54,
          5.16,
          1.64,
          -0.55,
          3.3,
          1.19,
          9.15,
          1.66,
          7.25,
          5.71,
          -5.24,
          6.74,
          6.01,
          3.48,
          7.29,
          3.82,
          5.25,
          4.78,
          3.97,
          9.63,
          5.95,
          5.53,
          1.06,
          5.48,
          4.75,
          6.66,
          7.57,
          7.55,
          4.05,
          6.18,
          8.85,
          3.84,
          4.82,
          3.8,
          7.86,
          7.92,
          7.92,
          8.06,
          7.66,
          3.09,
          7.86,
          8.5,
          5.24,
          5.46,
          6.39,
          7.41,
          8,
          8.26,
          6.8,
          6.53,
          4.04,
          -7.25
         ],
         "yaxis": "y"
        },
        {
         "marker": {
          "color": "#a0c0f0"
         },
         "type": "bar",
         "x": [
          1960,
          1961,
          1962,
          1963,
          1964,
          1965,
          1966,
          1967,
          1968,
          1969,
          1970,
          1971,
          1972,
          1973,
          1974,
          1975,
          1976,
          1977,
          1978,
          1979,
          1980,
          1981,
          1982,
          1983,
          1984,
          1985,
          1986,
          1987,
          1988,
          1989,
          1990,
          1991,
          1992,
          1993,
          1994,
          1995,
          1996,
          1997,
          1998,
          1999,
          2000,
          2001,
          2002,
          2003,
          2004,
          2005,
          2006,
          2007,
          2008,
          2009,
          2010,
          2011,
          2012,
          2013,
          2014,
          2015,
          2016,
          2017,
          2018,
          2019,
          2020
         ],
         "y": [
          0,
          3.72,
          2.93,
          5.99,
          7.45,
          -2.64,
          -0.06,
          7.83,
          3.39,
          6.54,
          5.16,
          1.64,
          -0.55,
          3.3,
          1.19,
          9.15,
          1.66,
          7.25,
          5.71,
          -5.24,
          6.74,
          6.01,
          3.48,
          7.29,
          3.82,
          5.25,
          4.78,
          3.97,
          9.63,
          5.95,
          5.53,
          1.06,
          5.48,
          4.75,
          6.66,
          7.57,
          7.55,
          4.05,
          6.18,
          8.85,
          3.84,
          4.82,
          3.8,
          7.86,
          7.92,
          7.92,
          8.06,
          7.66,
          3.09,
          7.86,
          8.5,
          5.24,
          5.46,
          6.39,
          7.41,
          8,
          8.26,
          6.8,
          6.53,
          4.04,
          -7.25
         ]
        }
       ],
       "layout": {
        "legend": {
         "tracegroupgap": 0
        },
        "template": {
         "data": {
          "bar": [
           {
            "error_x": {
             "color": "#f2f5fa"
            },
            "error_y": {
             "color": "#f2f5fa"
            },
            "marker": {
             "line": {
              "color": "rgb(17,17,17)",
              "width": 0.5
             },
             "pattern": {
              "fillmode": "overlay",
              "size": 10,
              "solidity": 0.2
             }
            },
            "type": "bar"
           }
          ],
          "barpolar": [
           {
            "marker": {
             "line": {
              "color": "rgb(17,17,17)",
              "width": 0.5
             },
             "pattern": {
              "fillmode": "overlay",
              "size": 10,
              "solidity": 0.2
             }
            },
            "type": "barpolar"
           }
          ],
          "carpet": [
           {
            "aaxis": {
             "endlinecolor": "#A2B1C6",
             "gridcolor": "#506784",
             "linecolor": "#506784",
             "minorgridcolor": "#506784",
             "startlinecolor": "#A2B1C6"
            },
            "baxis": {
             "endlinecolor": "#A2B1C6",
             "gridcolor": "#506784",
             "linecolor": "#506784",
             "minorgridcolor": "#506784",
             "startlinecolor": "#A2B1C6"
            },
            "type": "carpet"
           }
          ],
          "choropleth": [
           {
            "colorbar": {
             "outlinewidth": 0,
             "ticks": ""
            },
            "type": "choropleth"
           }
          ],
          "contour": [
           {
            "colorbar": {
             "outlinewidth": 0,
             "ticks": ""
            },
            "colorscale": [
             [
              0,
              "#0d0887"
             ],
             [
              0.1111111111111111,
              "#46039f"
             ],
             [
              0.2222222222222222,
              "#7201a8"
             ],
             [
              0.3333333333333333,
              "#9c179e"
             ],
             [
              0.4444444444444444,
              "#bd3786"
             ],
             [
              0.5555555555555556,
              "#d8576b"
             ],
             [
              0.6666666666666666,
              "#ed7953"
             ],
             [
              0.7777777777777778,
              "#fb9f3a"
             ],
             [
              0.8888888888888888,
              "#fdca26"
             ],
             [
              1,
              "#f0f921"
             ]
            ],
            "type": "contour"
           }
          ],
          "contourcarpet": [
           {
            "colorbar": {
             "outlinewidth": 0,
             "ticks": ""
            },
            "type": "contourcarpet"
           }
          ],
          "heatmap": [
           {
            "colorbar": {
             "outlinewidth": 0,
             "ticks": ""
            },
            "colorscale": [
             [
              0,
              "#0d0887"
             ],
             [
              0.1111111111111111,
              "#46039f"
             ],
             [
              0.2222222222222222,
              "#7201a8"
             ],
             [
              0.3333333333333333,
              "#9c179e"
             ],
             [
              0.4444444444444444,
              "#bd3786"
             ],
             [
              0.5555555555555556,
              "#d8576b"
             ],
             [
              0.6666666666666666,
              "#ed7953"
             ],
             [
              0.7777777777777778,
              "#fb9f3a"
             ],
             [
              0.8888888888888888,
              "#fdca26"
             ],
             [
              1,
              "#f0f921"
             ]
            ],
            "type": "heatmap"
           }
          ],
          "heatmapgl": [
           {
            "colorbar": {
             "outlinewidth": 0,
             "ticks": ""
            },
            "colorscale": [
             [
              0,
              "#0d0887"
             ],
             [
              0.1111111111111111,
              "#46039f"
             ],
             [
              0.2222222222222222,
              "#7201a8"
             ],
             [
              0.3333333333333333,
              "#9c179e"
             ],
             [
              0.4444444444444444,
              "#bd3786"
             ],
             [
              0.5555555555555556,
              "#d8576b"
             ],
             [
              0.6666666666666666,
              "#ed7953"
             ],
             [
              0.7777777777777778,
              "#fb9f3a"
             ],
             [
              0.8888888888888888,
              "#fdca26"
             ],
             [
              1,
              "#f0f921"
             ]
            ],
            "type": "heatmapgl"
           }
          ],
          "histogram": [
           {
            "marker": {
             "pattern": {
              "fillmode": "overlay",
              "size": 10,
              "solidity": 0.2
             }
            },
            "type": "histogram"
           }
          ],
          "histogram2d": [
           {
            "colorbar": {
             "outlinewidth": 0,
             "ticks": ""
            },
            "colorscale": [
             [
              0,
              "#0d0887"
             ],
             [
              0.1111111111111111,
              "#46039f"
             ],
             [
              0.2222222222222222,
              "#7201a8"
             ],
             [
              0.3333333333333333,
              "#9c179e"
             ],
             [
              0.4444444444444444,
              "#bd3786"
             ],
             [
              0.5555555555555556,
              "#d8576b"
             ],
             [
              0.6666666666666666,
              "#ed7953"
             ],
             [
              0.7777777777777778,
              "#fb9f3a"
             ],
             [
              0.8888888888888888,
              "#fdca26"
             ],
             [
              1,
              "#f0f921"
             ]
            ],
            "type": "histogram2d"
           }
          ],
          "histogram2dcontour": [
           {
            "colorbar": {
             "outlinewidth": 0,
             "ticks": ""
            },
            "colorscale": [
             [
              0,
              "#0d0887"
             ],
             [
              0.1111111111111111,
              "#46039f"
             ],
             [
              0.2222222222222222,
              "#7201a8"
             ],
             [
              0.3333333333333333,
              "#9c179e"
             ],
             [
              0.4444444444444444,
              "#bd3786"
             ],
             [
              0.5555555555555556,
              "#d8576b"
             ],
             [
              0.6666666666666666,
              "#ed7953"
             ],
             [
              0.7777777777777778,
              "#fb9f3a"
             ],
             [
              0.8888888888888888,
              "#fdca26"
             ],
             [
              1,
              "#f0f921"
             ]
            ],
            "type": "histogram2dcontour"
           }
          ],
          "mesh3d": [
           {
            "colorbar": {
             "outlinewidth": 0,
             "ticks": ""
            },
            "type": "mesh3d"
           }
          ],
          "parcoords": [
           {
            "line": {
             "colorbar": {
              "outlinewidth": 0,
              "ticks": ""
             }
            },
            "type": "parcoords"
           }
          ],
          "pie": [
           {
            "automargin": true,
            "type": "pie"
           }
          ],
          "scatter": [
           {
            "marker": {
             "line": {
              "color": "#283442"
             }
            },
            "type": "scatter"
           }
          ],
          "scatter3d": [
           {
            "line": {
             "colorbar": {
              "outlinewidth": 0,
              "ticks": ""
             }
            },
            "marker": {
             "colorbar": {
              "outlinewidth": 0,
              "ticks": ""
             }
            },
            "type": "scatter3d"
           }
          ],
          "scattercarpet": [
           {
            "marker": {
             "colorbar": {
              "outlinewidth": 0,
              "ticks": ""
             }
            },
            "type": "scattercarpet"
           }
          ],
          "scattergeo": [
           {
            "marker": {
             "colorbar": {
              "outlinewidth": 0,
              "ticks": ""
             }
            },
            "type": "scattergeo"
           }
          ],
          "scattergl": [
           {
            "marker": {
             "line": {
              "color": "#283442"
             }
            },
            "type": "scattergl"
           }
          ],
          "scattermapbox": [
           {
            "marker": {
             "colorbar": {
              "outlinewidth": 0,
              "ticks": ""
             }
            },
            "type": "scattermapbox"
           }
          ],
          "scatterpolar": [
           {
            "marker": {
             "colorbar": {
              "outlinewidth": 0,
              "ticks": ""
             }
            },
            "type": "scatterpolar"
           }
          ],
          "scatterpolargl": [
           {
            "marker": {
             "colorbar": {
              "outlinewidth": 0,
              "ticks": ""
             }
            },
            "type": "scatterpolargl"
           }
          ],
          "scatterternary": [
           {
            "marker": {
             "colorbar": {
              "outlinewidth": 0,
              "ticks": ""
             }
            },
            "type": "scatterternary"
           }
          ],
          "surface": [
           {
            "colorbar": {
             "outlinewidth": 0,
             "ticks": ""
            },
            "colorscale": [
             [
              0,
              "#0d0887"
             ],
             [
              0.1111111111111111,
              "#46039f"
             ],
             [
              0.2222222222222222,
              "#7201a8"
             ],
             [
              0.3333333333333333,
              "#9c179e"
             ],
             [
              0.4444444444444444,
              "#bd3786"
             ],
             [
              0.5555555555555556,
              "#d8576b"
             ],
             [
              0.6666666666666666,
              "#ed7953"
             ],
             [
              0.7777777777777778,
              "#fb9f3a"
             ],
             [
              0.8888888888888888,
              "#fdca26"
             ],
             [
              1,
              "#f0f921"
             ]
            ],
            "type": "surface"
           }
          ],
          "table": [
           {
            "cells": {
             "fill": {
              "color": "#506784"
             },
             "line": {
              "color": "rgb(17,17,17)"
             }
            },
            "header": {
             "fill": {
              "color": "#2a3f5f"
             },
             "line": {
              "color": "rgb(17,17,17)"
             }
            },
            "type": "table"
           }
          ]
         },
         "layout": {
          "annotationdefaults": {
           "arrowcolor": "#f2f5fa",
           "arrowhead": 0,
           "arrowwidth": 1
          },
          "autotypenumbers": "strict",
          "coloraxis": {
           "colorbar": {
            "outlinewidth": 0,
            "ticks": ""
           }
          },
          "colorscale": {
           "diverging": [
            [
             0,
             "#8e0152"
            ],
            [
             0.1,
             "#c51b7d"
            ],
            [
             0.2,
             "#de77ae"
            ],
            [
             0.3,
             "#f1b6da"
            ],
            [
             0.4,
             "#fde0ef"
            ],
            [
             0.5,
             "#f7f7f7"
            ],
            [
             0.6,
             "#e6f5d0"
            ],
            [
             0.7,
             "#b8e186"
            ],
            [
             0.8,
             "#7fbc41"
            ],
            [
             0.9,
             "#4d9221"
            ],
            [
             1,
             "#276419"
            ]
           ],
           "sequential": [
            [
             0,
             "#0d0887"
            ],
            [
             0.1111111111111111,
             "#46039f"
            ],
            [
             0.2222222222222222,
             "#7201a8"
            ],
            [
             0.3333333333333333,
             "#9c179e"
            ],
            [
             0.4444444444444444,
             "#bd3786"
            ],
            [
             0.5555555555555556,
             "#d8576b"
            ],
            [
             0.6666666666666666,
             "#ed7953"
            ],
            [
             0.7777777777777778,
             "#fb9f3a"
            ],
            [
             0.8888888888888888,
             "#fdca26"
            ],
            [
             1,
             "#f0f921"
            ]
           ],
           "sequentialminus": [
            [
             0,
             "#0d0887"
            ],
            [
             0.1111111111111111,
             "#46039f"
            ],
            [
             0.2222222222222222,
             "#7201a8"
            ],
            [
             0.3333333333333333,
             "#9c179e"
            ],
            [
             0.4444444444444444,
             "#bd3786"
            ],
            [
             0.5555555555555556,
             "#d8576b"
            ],
            [
             0.6666666666666666,
             "#ed7953"
            ],
            [
             0.7777777777777778,
             "#fb9f3a"
            ],
            [
             0.8888888888888888,
             "#fdca26"
            ],
            [
             1,
             "#f0f921"
            ]
           ]
          },
          "colorway": [
           "#636efa",
           "#EF553B",
           "#00cc96",
           "#ab63fa",
           "#FFA15A",
           "#19d3f3",
           "#FF6692",
           "#B6E880",
           "#FF97FF",
           "#FECB52"
          ],
          "font": {
           "color": "#f2f5fa"
          },
          "geo": {
           "bgcolor": "rgb(17,17,17)",
           "lakecolor": "rgb(17,17,17)",
           "landcolor": "rgb(17,17,17)",
           "showlakes": true,
           "showland": true,
           "subunitcolor": "#506784"
          },
          "hoverlabel": {
           "align": "left"
          },
          "hovermode": "closest",
          "mapbox": {
           "style": "dark"
          },
          "paper_bgcolor": "rgb(17,17,17)",
          "plot_bgcolor": "rgb(17,17,17)",
          "polar": {
           "angularaxis": {
            "gridcolor": "#506784",
            "linecolor": "#506784",
            "ticks": ""
           },
           "bgcolor": "rgb(17,17,17)",
           "radialaxis": {
            "gridcolor": "#506784",
            "linecolor": "#506784",
            "ticks": ""
           }
          },
          "scene": {
           "xaxis": {
            "backgroundcolor": "rgb(17,17,17)",
            "gridcolor": "#506784",
            "gridwidth": 2,
            "linecolor": "#506784",
            "showbackground": true,
            "ticks": "",
            "zerolinecolor": "#C8D4E3"
           },
           "yaxis": {
            "backgroundcolor": "rgb(17,17,17)",
            "gridcolor": "#506784",
            "gridwidth": 2,
            "linecolor": "#506784",
            "showbackground": true,
            "ticks": "",
            "zerolinecolor": "#C8D4E3"
           },
           "zaxis": {
            "backgroundcolor": "rgb(17,17,17)",
            "gridcolor": "#506784",
            "gridwidth": 2,
            "linecolor": "#506784",
            "showbackground": true,
            "ticks": "",
            "zerolinecolor": "#C8D4E3"
           }
          },
          "shapedefaults": {
           "line": {
            "color": "#f2f5fa"
           }
          },
          "sliderdefaults": {
           "bgcolor": "#C8D4E3",
           "bordercolor": "rgb(17,17,17)",
           "borderwidth": 1,
           "tickwidth": 0
          },
          "ternary": {
           "aaxis": {
            "gridcolor": "#506784",
            "linecolor": "#506784",
            "ticks": ""
           },
           "baxis": {
            "gridcolor": "#506784",
            "linecolor": "#506784",
            "ticks": ""
           },
           "bgcolor": "rgb(17,17,17)",
           "caxis": {
            "gridcolor": "#506784",
            "linecolor": "#506784",
            "ticks": ""
           }
          },
          "title": {
           "x": 0.05
          },
          "updatemenudefaults": {
           "bgcolor": "#506784",
           "borderwidth": 0
          },
          "xaxis": {
           "automargin": true,
           "gridcolor": "#283442",
           "linecolor": "#506784",
           "ticks": "",
           "title": {
            "standoff": 15
           },
           "zerolinecolor": "#283442",
           "zerolinewidth": 2
          },
          "yaxis": {
           "automargin": true,
           "gridcolor": "#283442",
           "linecolor": "#506784",
           "ticks": "",
           "title": {
            "standoff": 15
           },
           "zerolinecolor": "#283442",
           "zerolinewidth": 2
          }
         }
        },
        "title": {
         "text": "GDP Growth over the years"
        },
        "xaxis": {
         "anchor": "y",
         "domain": [
          0,
          1
         ],
         "title": {
          "text": "year"
         }
        },
        "yaxis": {
         "anchor": "x",
         "domain": [
          0,
          1
         ],
         "title": {
          "text": "gdp_growth_annual_percentage"
         }
        }
       }
      }
     },
     "metadata": {},
     "output_type": "display_data"
    }
   ],
   "source": [
    "fig = px.line(df, x='year', y='gdp_growth_annual_percentage', title='GDP Growth over the years')\n",
    "fig.add_bar(x=df['year'], y=df['gdp_growth_annual_percentage'], marker_color='#a0c0f0')\n",
    "fig.show()"
   ]
  },
  {
   "cell_type": "code",
   "execution_count": 52,
   "metadata": {},
   "outputs": [
    {
     "data": {
      "application/vnd.plotly.v1+json": {
       "config": {
        "plotlyServerURL": "https://plot.ly"
       },
       "data": [
        {
         "hovertemplate": "variable=imports_of_goods_and_services_percentage_of_gdp<br>year=%{x}<br>Percentage of GDP=%{y}<extra></extra>",
         "legendgroup": "imports_of_goods_and_services_percentage_of_gdp",
         "line": {
          "color": "#636efa",
          "dash": "solid"
         },
         "marker": {
          "symbol": "circle"
         },
         "mode": "lines",
         "name": "imports_of_goods_and_services_percentage_of_gdp",
         "orientation": "v",
         "showlegend": true,
         "type": "scatter",
         "x": [
          1960,
          1961,
          1962,
          1963,
          1964,
          1965,
          1966,
          1967,
          1968,
          1969,
          1970,
          1971,
          1972,
          1973,
          1974,
          1975,
          1976,
          1977,
          1978,
          1979,
          1980,
          1981,
          1982,
          1983,
          1984,
          1985,
          1986,
          1987,
          1988,
          1989,
          1990,
          1991,
          1992,
          1993,
          1994,
          1995,
          1996,
          1997,
          1998,
          1999,
          2000,
          2001,
          2002,
          2003,
          2004,
          2005,
          2006,
          2007,
          2008,
          2009,
          2010,
          2011,
          2012,
          2013,
          2014,
          2015,
          2016,
          2017,
          2018,
          2019,
          2020
         ],
         "xaxis": "x",
         "y": [
          6.83,
          5.96,
          6.03,
          5.91,
          5.69,
          5.21,
          6.67,
          5.95,
          4.94,
          4.03,
          3.88,
          4,
          3.71,
          4.72,
          6.02,
          6.65,
          6.11,
          6.26,
          6.59,
          8.17,
          9.25,
          8.57,
          8.14,
          7.85,
          7.73,
          7.65,
          7.02,
          6.98,
          7.46,
          8.15,
          8.45,
          8.49,
          9.59,
          9.82,
          10.19,
          12.02,
          11.54,
          11.93,
          12.68,
          13.36,
          13.9,
          13.43,
          15.24,
          15.64,
          19.64,
          22.4,
          24.46,
          24.89,
          29.27,
          25.87,
          26.85,
          31.08,
          31.26,
          28.41,
          25.95,
          22.11,
          20.92,
          21.95,
          23.69,
          21.27,
          19.1
         ],
         "yaxis": "y"
        },
        {
         "hovertemplate": "variable=exports_of_goods_and_services_percentage_of_gdp<br>year=%{x}<br>Percentage of GDP=%{y}<extra></extra>",
         "legendgroup": "exports_of_goods_and_services_percentage_of_gdp",
         "line": {
          "color": "#EF553B",
          "dash": "solid"
         },
         "marker": {
          "symbol": "circle"
         },
         "mode": "lines",
         "name": "exports_of_goods_and_services_percentage_of_gdp",
         "orientation": "v",
         "showlegend": true,
         "type": "scatter",
         "x": [
          1960,
          1961,
          1962,
          1963,
          1964,
          1965,
          1966,
          1967,
          1968,
          1969,
          1970,
          1971,
          1972,
          1973,
          1974,
          1975,
          1976,
          1977,
          1978,
          1979,
          1980,
          1981,
          1982,
          1983,
          1984,
          1985,
          1986,
          1987,
          1988,
          1989,
          1990,
          1991,
          1992,
          1993,
          1994,
          1995,
          1996,
          1997,
          1998,
          1999,
          2000,
          2001,
          2002,
          2003,
          2004,
          2005,
          2006,
          2007,
          2008,
          2009,
          2010,
          2011,
          2012,
          2013,
          2014,
          2015,
          2016,
          2017,
          2018,
          2019,
          2020
         ],
         "xaxis": "x",
         "y": [
          4.46,
          4.3,
          4.17,
          4.28,
          3.73,
          3.31,
          4.14,
          4.03,
          4.04,
          3.71,
          3.78,
          3.67,
          4.03,
          4.21,
          4.83,
          5.65,
          6.69,
          6.38,
          6.31,
          6.75,
          6.14,
          5.94,
          5.98,
          5.84,
          6.28,
          5.25,
          5.2,
          5.6,
          6.04,
          7.02,
          7.05,
          8.49,
          8.84,
          9.83,
          9.89,
          10.84,
          10.39,
          10.69,
          11.02,
          11.45,
          13,
          12.56,
          14.26,
          14.95,
          17.86,
          19.61,
          21.27,
          20.8,
          24.1,
          20.4,
          22.4,
          24.54,
          24.53,
          25.43,
          22.97,
          19.81,
          19.16,
          18.79,
          19.93,
          18.69,
          18.71
         ],
         "yaxis": "y"
        }
       ],
       "layout": {
        "legend": {
         "title": {
          "text": "variable"
         },
         "tracegroupgap": 0
        },
        "template": {
         "data": {
          "bar": [
           {
            "error_x": {
             "color": "#f2f5fa"
            },
            "error_y": {
             "color": "#f2f5fa"
            },
            "marker": {
             "line": {
              "color": "rgb(17,17,17)",
              "width": 0.5
             },
             "pattern": {
              "fillmode": "overlay",
              "size": 10,
              "solidity": 0.2
             }
            },
            "type": "bar"
           }
          ],
          "barpolar": [
           {
            "marker": {
             "line": {
              "color": "rgb(17,17,17)",
              "width": 0.5
             },
             "pattern": {
              "fillmode": "overlay",
              "size": 10,
              "solidity": 0.2
             }
            },
            "type": "barpolar"
           }
          ],
          "carpet": [
           {
            "aaxis": {
             "endlinecolor": "#A2B1C6",
             "gridcolor": "#506784",
             "linecolor": "#506784",
             "minorgridcolor": "#506784",
             "startlinecolor": "#A2B1C6"
            },
            "baxis": {
             "endlinecolor": "#A2B1C6",
             "gridcolor": "#506784",
             "linecolor": "#506784",
             "minorgridcolor": "#506784",
             "startlinecolor": "#A2B1C6"
            },
            "type": "carpet"
           }
          ],
          "choropleth": [
           {
            "colorbar": {
             "outlinewidth": 0,
             "ticks": ""
            },
            "type": "choropleth"
           }
          ],
          "contour": [
           {
            "colorbar": {
             "outlinewidth": 0,
             "ticks": ""
            },
            "colorscale": [
             [
              0,
              "#0d0887"
             ],
             [
              0.1111111111111111,
              "#46039f"
             ],
             [
              0.2222222222222222,
              "#7201a8"
             ],
             [
              0.3333333333333333,
              "#9c179e"
             ],
             [
              0.4444444444444444,
              "#bd3786"
             ],
             [
              0.5555555555555556,
              "#d8576b"
             ],
             [
              0.6666666666666666,
              "#ed7953"
             ],
             [
              0.7777777777777778,
              "#fb9f3a"
             ],
             [
              0.8888888888888888,
              "#fdca26"
             ],
             [
              1,
              "#f0f921"
             ]
            ],
            "type": "contour"
           }
          ],
          "contourcarpet": [
           {
            "colorbar": {
             "outlinewidth": 0,
             "ticks": ""
            },
            "type": "contourcarpet"
           }
          ],
          "heatmap": [
           {
            "colorbar": {
             "outlinewidth": 0,
             "ticks": ""
            },
            "colorscale": [
             [
              0,
              "#0d0887"
             ],
             [
              0.1111111111111111,
              "#46039f"
             ],
             [
              0.2222222222222222,
              "#7201a8"
             ],
             [
              0.3333333333333333,
              "#9c179e"
             ],
             [
              0.4444444444444444,
              "#bd3786"
             ],
             [
              0.5555555555555556,
              "#d8576b"
             ],
             [
              0.6666666666666666,
              "#ed7953"
             ],
             [
              0.7777777777777778,
              "#fb9f3a"
             ],
             [
              0.8888888888888888,
              "#fdca26"
             ],
             [
              1,
              "#f0f921"
             ]
            ],
            "type": "heatmap"
           }
          ],
          "heatmapgl": [
           {
            "colorbar": {
             "outlinewidth": 0,
             "ticks": ""
            },
            "colorscale": [
             [
              0,
              "#0d0887"
             ],
             [
              0.1111111111111111,
              "#46039f"
             ],
             [
              0.2222222222222222,
              "#7201a8"
             ],
             [
              0.3333333333333333,
              "#9c179e"
             ],
             [
              0.4444444444444444,
              "#bd3786"
             ],
             [
              0.5555555555555556,
              "#d8576b"
             ],
             [
              0.6666666666666666,
              "#ed7953"
             ],
             [
              0.7777777777777778,
              "#fb9f3a"
             ],
             [
              0.8888888888888888,
              "#fdca26"
             ],
             [
              1,
              "#f0f921"
             ]
            ],
            "type": "heatmapgl"
           }
          ],
          "histogram": [
           {
            "marker": {
             "pattern": {
              "fillmode": "overlay",
              "size": 10,
              "solidity": 0.2
             }
            },
            "type": "histogram"
           }
          ],
          "histogram2d": [
           {
            "colorbar": {
             "outlinewidth": 0,
             "ticks": ""
            },
            "colorscale": [
             [
              0,
              "#0d0887"
             ],
             [
              0.1111111111111111,
              "#46039f"
             ],
             [
              0.2222222222222222,
              "#7201a8"
             ],
             [
              0.3333333333333333,
              "#9c179e"
             ],
             [
              0.4444444444444444,
              "#bd3786"
             ],
             [
              0.5555555555555556,
              "#d8576b"
             ],
             [
              0.6666666666666666,
              "#ed7953"
             ],
             [
              0.7777777777777778,
              "#fb9f3a"
             ],
             [
              0.8888888888888888,
              "#fdca26"
             ],
             [
              1,
              "#f0f921"
             ]
            ],
            "type": "histogram2d"
           }
          ],
          "histogram2dcontour": [
           {
            "colorbar": {
             "outlinewidth": 0,
             "ticks": ""
            },
            "colorscale": [
             [
              0,
              "#0d0887"
             ],
             [
              0.1111111111111111,
              "#46039f"
             ],
             [
              0.2222222222222222,
              "#7201a8"
             ],
             [
              0.3333333333333333,
              "#9c179e"
             ],
             [
              0.4444444444444444,
              "#bd3786"
             ],
             [
              0.5555555555555556,
              "#d8576b"
             ],
             [
              0.6666666666666666,
              "#ed7953"
             ],
             [
              0.7777777777777778,
              "#fb9f3a"
             ],
             [
              0.8888888888888888,
              "#fdca26"
             ],
             [
              1,
              "#f0f921"
             ]
            ],
            "type": "histogram2dcontour"
           }
          ],
          "mesh3d": [
           {
            "colorbar": {
             "outlinewidth": 0,
             "ticks": ""
            },
            "type": "mesh3d"
           }
          ],
          "parcoords": [
           {
            "line": {
             "colorbar": {
              "outlinewidth": 0,
              "ticks": ""
             }
            },
            "type": "parcoords"
           }
          ],
          "pie": [
           {
            "automargin": true,
            "type": "pie"
           }
          ],
          "scatter": [
           {
            "marker": {
             "line": {
              "color": "#283442"
             }
            },
            "type": "scatter"
           }
          ],
          "scatter3d": [
           {
            "line": {
             "colorbar": {
              "outlinewidth": 0,
              "ticks": ""
             }
            },
            "marker": {
             "colorbar": {
              "outlinewidth": 0,
              "ticks": ""
             }
            },
            "type": "scatter3d"
           }
          ],
          "scattercarpet": [
           {
            "marker": {
             "colorbar": {
              "outlinewidth": 0,
              "ticks": ""
             }
            },
            "type": "scattercarpet"
           }
          ],
          "scattergeo": [
           {
            "marker": {
             "colorbar": {
              "outlinewidth": 0,
              "ticks": ""
             }
            },
            "type": "scattergeo"
           }
          ],
          "scattergl": [
           {
            "marker": {
             "line": {
              "color": "#283442"
             }
            },
            "type": "scattergl"
           }
          ],
          "scattermapbox": [
           {
            "marker": {
             "colorbar": {
              "outlinewidth": 0,
              "ticks": ""
             }
            },
            "type": "scattermapbox"
           }
          ],
          "scatterpolar": [
           {
            "marker": {
             "colorbar": {
              "outlinewidth": 0,
              "ticks": ""
             }
            },
            "type": "scatterpolar"
           }
          ],
          "scatterpolargl": [
           {
            "marker": {
             "colorbar": {
              "outlinewidth": 0,
              "ticks": ""
             }
            },
            "type": "scatterpolargl"
           }
          ],
          "scatterternary": [
           {
            "marker": {
             "colorbar": {
              "outlinewidth": 0,
              "ticks": ""
             }
            },
            "type": "scatterternary"
           }
          ],
          "surface": [
           {
            "colorbar": {
             "outlinewidth": 0,
             "ticks": ""
            },
            "colorscale": [
             [
              0,
              "#0d0887"
             ],
             [
              0.1111111111111111,
              "#46039f"
             ],
             [
              0.2222222222222222,
              "#7201a8"
             ],
             [
              0.3333333333333333,
              "#9c179e"
             ],
             [
              0.4444444444444444,
              "#bd3786"
             ],
             [
              0.5555555555555556,
              "#d8576b"
             ],
             [
              0.6666666666666666,
              "#ed7953"
             ],
             [
              0.7777777777777778,
              "#fb9f3a"
             ],
             [
              0.8888888888888888,
              "#fdca26"
             ],
             [
              1,
              "#f0f921"
             ]
            ],
            "type": "surface"
           }
          ],
          "table": [
           {
            "cells": {
             "fill": {
              "color": "#506784"
             },
             "line": {
              "color": "rgb(17,17,17)"
             }
            },
            "header": {
             "fill": {
              "color": "#2a3f5f"
             },
             "line": {
              "color": "rgb(17,17,17)"
             }
            },
            "type": "table"
           }
          ]
         },
         "layout": {
          "annotationdefaults": {
           "arrowcolor": "#f2f5fa",
           "arrowhead": 0,
           "arrowwidth": 1
          },
          "autotypenumbers": "strict",
          "coloraxis": {
           "colorbar": {
            "outlinewidth": 0,
            "ticks": ""
           }
          },
          "colorscale": {
           "diverging": [
            [
             0,
             "#8e0152"
            ],
            [
             0.1,
             "#c51b7d"
            ],
            [
             0.2,
             "#de77ae"
            ],
            [
             0.3,
             "#f1b6da"
            ],
            [
             0.4,
             "#fde0ef"
            ],
            [
             0.5,
             "#f7f7f7"
            ],
            [
             0.6,
             "#e6f5d0"
            ],
            [
             0.7,
             "#b8e186"
            ],
            [
             0.8,
             "#7fbc41"
            ],
            [
             0.9,
             "#4d9221"
            ],
            [
             1,
             "#276419"
            ]
           ],
           "sequential": [
            [
             0,
             "#0d0887"
            ],
            [
             0.1111111111111111,
             "#46039f"
            ],
            [
             0.2222222222222222,
             "#7201a8"
            ],
            [
             0.3333333333333333,
             "#9c179e"
            ],
            [
             0.4444444444444444,
             "#bd3786"
            ],
            [
             0.5555555555555556,
             "#d8576b"
            ],
            [
             0.6666666666666666,
             "#ed7953"
            ],
            [
             0.7777777777777778,
             "#fb9f3a"
            ],
            [
             0.8888888888888888,
             "#fdca26"
            ],
            [
             1,
             "#f0f921"
            ]
           ],
           "sequentialminus": [
            [
             0,
             "#0d0887"
            ],
            [
             0.1111111111111111,
             "#46039f"
            ],
            [
             0.2222222222222222,
             "#7201a8"
            ],
            [
             0.3333333333333333,
             "#9c179e"
            ],
            [
             0.4444444444444444,
             "#bd3786"
            ],
            [
             0.5555555555555556,
             "#d8576b"
            ],
            [
             0.6666666666666666,
             "#ed7953"
            ],
            [
             0.7777777777777778,
             "#fb9f3a"
            ],
            [
             0.8888888888888888,
             "#fdca26"
            ],
            [
             1,
             "#f0f921"
            ]
           ]
          },
          "colorway": [
           "#636efa",
           "#EF553B",
           "#00cc96",
           "#ab63fa",
           "#FFA15A",
           "#19d3f3",
           "#FF6692",
           "#B6E880",
           "#FF97FF",
           "#FECB52"
          ],
          "font": {
           "color": "#f2f5fa"
          },
          "geo": {
           "bgcolor": "rgb(17,17,17)",
           "lakecolor": "rgb(17,17,17)",
           "landcolor": "rgb(17,17,17)",
           "showlakes": true,
           "showland": true,
           "subunitcolor": "#506784"
          },
          "hoverlabel": {
           "align": "left"
          },
          "hovermode": "closest",
          "mapbox": {
           "style": "dark"
          },
          "paper_bgcolor": "rgb(17,17,17)",
          "plot_bgcolor": "rgb(17,17,17)",
          "polar": {
           "angularaxis": {
            "gridcolor": "#506784",
            "linecolor": "#506784",
            "ticks": ""
           },
           "bgcolor": "rgb(17,17,17)",
           "radialaxis": {
            "gridcolor": "#506784",
            "linecolor": "#506784",
            "ticks": ""
           }
          },
          "scene": {
           "xaxis": {
            "backgroundcolor": "rgb(17,17,17)",
            "gridcolor": "#506784",
            "gridwidth": 2,
            "linecolor": "#506784",
            "showbackground": true,
            "ticks": "",
            "zerolinecolor": "#C8D4E3"
           },
           "yaxis": {
            "backgroundcolor": "rgb(17,17,17)",
            "gridcolor": "#506784",
            "gridwidth": 2,
            "linecolor": "#506784",
            "showbackground": true,
            "ticks": "",
            "zerolinecolor": "#C8D4E3"
           },
           "zaxis": {
            "backgroundcolor": "rgb(17,17,17)",
            "gridcolor": "#506784",
            "gridwidth": 2,
            "linecolor": "#506784",
            "showbackground": true,
            "ticks": "",
            "zerolinecolor": "#C8D4E3"
           }
          },
          "shapedefaults": {
           "line": {
            "color": "#f2f5fa"
           }
          },
          "sliderdefaults": {
           "bgcolor": "#C8D4E3",
           "bordercolor": "rgb(17,17,17)",
           "borderwidth": 1,
           "tickwidth": 0
          },
          "ternary": {
           "aaxis": {
            "gridcolor": "#506784",
            "linecolor": "#506784",
            "ticks": ""
           },
           "baxis": {
            "gridcolor": "#506784",
            "linecolor": "#506784",
            "ticks": ""
           },
           "bgcolor": "rgb(17,17,17)",
           "caxis": {
            "gridcolor": "#506784",
            "linecolor": "#506784",
            "ticks": ""
           }
          },
          "title": {
           "x": 0.05
          },
          "updatemenudefaults": {
           "bgcolor": "#506784",
           "borderwidth": 0
          },
          "xaxis": {
           "automargin": true,
           "gridcolor": "#283442",
           "linecolor": "#506784",
           "ticks": "",
           "title": {
            "standoff": 15
           },
           "zerolinecolor": "#283442",
           "zerolinewidth": 2
          },
          "yaxis": {
           "automargin": true,
           "gridcolor": "#283442",
           "linecolor": "#506784",
           "ticks": "",
           "title": {
            "standoff": 15
           },
           "zerolinecolor": "#283442",
           "zerolinewidth": 2
          }
         }
        },
        "title": {
         "text": "Imports and exports over the years"
        },
        "xaxis": {
         "anchor": "y",
         "domain": [
          0,
          1
         ],
         "title": {
          "text": "year"
         }
        },
        "yaxis": {
         "anchor": "x",
         "domain": [
          0,
          1
         ],
         "title": {
          "text": "Percentage of GDP"
         }
        }
       }
      }
     },
     "metadata": {},
     "output_type": "display_data"
    }
   ],
   "source": [
    "fig = px.line(df, x='year', y=['imports_of_goods_and_services_percentage_of_gdp',\n",
    "              'exports_of_goods_and_services_percentage_of_gdp'], title='Imports and exports over the years')\n",
    "fig.show()"
   ]
  },
  {
   "cell_type": "code",
   "execution_count": 56,
   "metadata": {},
   "outputs": [
    {
     "data": {
      "text/plain": [
       "<AxesSubplot: >"
      ]
     },
     "execution_count": 56,
     "metadata": {},
     "output_type": "execute_result"
    },
    {
     "data": {
      "image/png": "[encoded data removed]",
      "text/plain": [
       "<Figure size 720x720 with 2 Axes>"
      ]
     },
     "metadata": {},
     "output_type": "display_data"
    }
   ],
   "source": [
    "# corr between imports and exports and gdp\n",
    "corr = df[['imports_of_goods_and_services_percentage_of_gdp',\n",
    "    'exports_of_goods_and_services_percentage_of_gdp',\n",
    "    'gdp_per_capita_current_usdollar']].corr()\n",
    "\n",
    "plt.figure(figsize=(10, 10))\n",
    "sns.heatmap(corr, annot=True, cmap='coolwarm')"
   ]
  },
  {
   "cell_type": "markdown",
   "metadata": {},
   "source": [
    "From the above observations that maybe gdp growth is correlated to imports and the exports. So, we can plot a scatter plot to see the correlation between the two."
   ]
  },
  {
   "cell_type": "code",
   "execution_count": 58,
   "metadata": {},
   "outputs": [
    {
     "data": {
      "application/vnd.plotly.v1+json": {
       "config": {
        "plotlyServerURL": "https://plot.ly"
       },
       "data": [
        {
         "alignmentgroup": "True",
         "hovertemplate": "year=%{x}<br>gdp_growth_annual_percentage=%{y}<extra></extra>",
         "legendgroup": "",
         "marker": {
          "color": "#636efa",
          "pattern": {
           "shape": ""
          }
         },
         "name": "",
         "offsetgroup": "",
         "orientation": "v",
         "showlegend": false,
         "textposition": "auto",
         "type": "bar",
         "x": [
          1960,
          1961,
          1962,
          1963,
          1964,
          1965,
          1966,
          1967,
          1968,
          1969,
          1970,
          1971,
          1972,
          1973,
          1974,
          1975,
          1976,
          1977,
          1978,
          1979,
          1980,
          1981,
          1982,
          1983,
          1984,
          1985,
          1986,
          1987,
          1988,
          1989,
          1990,
          1991,
          1992,
          1993,
          1994,
          1995,
          1996,
          1997,
          1998,
          1999,
          2000,
          2001,
          2002,
          2003,
          2004,
          2005,
          2006,
          2007,
          2008,
          2009,
          2010,
          2011,
          2012,
          2013,
          2014,
          2015,
          2016,
          2017,
          2018,
          2019,
          2020
         ],
         "xaxis": "x",
         "y": [
          0,
          3.72,
          2.93,
          5.99,
          7.45,
          -2.64,
          -0.06,
          7.83,
          3.39,
          6.54,
          5.16,
          1.64,
          -0.55,
          3.3,
          1.19,
          9.15,
          1.66,
          7.25,
          5.71,
          -5.24,
          6.74,
          6.01,
          3.48,
          7.29,
          3.82,
          5.25,
          4.78,
          3.97,
          9.63,
          5.95,
          5.53,
          1.06,
          5.48,
          4.75,
          6.66,
          7.57,
          7.55,
          4.05,
          6.18,
          8.85,
          3.84,
          4.82,
          3.8,
          7.86,
          7.92,
          7.92,
          8.06,
          7.66,
          3.09,
          7.86,
          8.5,
          5.24,
          5.46,
          6.39,
          7.41,
          8,
          8.26,
          6.8,
          6.53,
          4.04,
          -7.25
         ],
         "yaxis": "y"
        },
        {
         "mode": "lines",
         "name": "imports",
         "type": "scatter",
         "x": [
          1960,
          1961,
          1962,
          1963,
          1964,
          1965,
          1966,
          1967,
          1968,
          1969,
          1970,
          1971,
          1972,
          1973,
          1974,
          1975,
          1976,
          1977,
          1978,
          1979,
          1980,
          1981,
          1982,
          1983,
          1984,
          1985,
          1986,
          1987,
          1988,
          1989,
          1990,
          1991,
          1992,
          1993,
          1994,
          1995,
          1996,
          1997,
          1998,
          1999,
          2000,
          2001,
          2002,
          2003,
          2004,
          2005,
          2006,
          2007,
          2008,
          2009,
          2010,
          2011,
          2012,
          2013,
          2014,
          2015,
          2016,
          2017,
          2018,
          2019,
          2020
         ],
         "y": [
          6.83,
          5.96,
          6.03,
          5.91,
          5.69,
          5.21,
          6.67,
          5.95,
          4.94,
          4.03,
          3.88,
          4,
          3.71,
          4.72,
          6.02,
          6.65,
          6.11,
          6.26,
          6.59,
          8.17,
          9.25,
          8.57,
          8.14,
          7.85,
          7.73,
          7.65,
          7.02,
          6.98,
          7.46,
          8.15,
          8.45,
          8.49,
          9.59,
          9.82,
          10.19,
          12.02,
          11.54,
          11.93,
          12.68,
          13.36,
          13.9,
          13.43,
          15.24,
          15.64,
          19.64,
          22.4,
          24.46,
          24.89,
          29.27,
          25.87,
          26.85,
          31.08,
          31.26,
          28.41,
          25.95,
          22.11,
          20.92,
          21.95,
          23.69,
          21.27,
          19.1
         ]
        },
        {
         "mode": "lines",
         "name": "exports",
         "type": "scatter",
         "x": [
          1960,
          1961,
          1962,
          1963,
          1964,
          1965,
          1966,
          1967,
          1968,
          1969,
          1970,
          1971,
          1972,
          1973,
          1974,
          1975,
          1976,
          1977,
          1978,
          1979,
          1980,
          1981,
          1982,
          1983,
          1984,
          1985,
          1986,
          1987,
          1988,
          1989,
          1990,
          1991,
          1992,
          1993,
          1994,
          1995,
          1996,
          1997,
          1998,
          1999,
          2000,
          2001,
          2002,
          2003,
          2004,
          2005,
          2006,
          2007,
          2008,
          2009,
          2010,
          2011,
          2012,
          2013,
          2014,
          2015,
          2016,
          2017,
          2018,
          2019,
          2020
         ],
         "y": [
          4.46,
          4.3,
          4.17,
          4.28,
          3.73,
          3.31,
          4.14,
          4.03,
          4.04,
          3.71,
          3.78,
          3.67,
          4.03,
          4.21,
          4.83,
          5.65,
          6.69,
          6.38,
          6.31,
          6.75,
          6.14,
          5.94,
          5.98,
          5.84,
          6.28,
          5.25,
          5.2,
          5.6,
          6.04,
          7.02,
          7.05,
          8.49,
          8.84,
          9.83,
          9.89,
          10.84,
          10.39,
          10.69,
          11.02,
          11.45,
          13,
          12.56,
          14.26,
          14.95,
          17.86,
          19.61,
          21.27,
          20.8,
          24.1,
          20.4,
          22.4,
          24.54,
          24.53,
          25.43,
          22.97,
          19.81,
          19.16,
          18.79,
          19.93,
          18.69,
          18.71
         ]
        }
       ],
       "layout": {
        "barmode": "relative",
        "legend": {
         "tracegroupgap": 0
        },
        "template": {
         "data": {
          "bar": [
           {
            "error_x": {
             "color": "#f2f5fa"
            },
            "error_y": {
             "color": "#f2f5fa"
            },
            "marker": {
             "line": {
              "color": "rgb(17,17,17)",
              "width": 0.5
             },
             "pattern": {
              "fillmode": "overlay",
              "size": 10,
              "solidity": 0.2
             }
            },
            "type": "bar"
           }
          ],
          "barpolar": [
           {
            "marker": {
             "line": {
              "color": "rgb(17,17,17)",
              "width": 0.5
             },
             "pattern": {
              "fillmode": "overlay",
              "size": 10,
              "solidity": 0.2
             }
            },
            "type": "barpolar"
           }
          ],
          "carpet": [
           {
            "aaxis": {
             "endlinecolor": "#A2B1C6",
             "gridcolor": "#506784",
             "linecolor": "#506784",
             "minorgridcolor": "#506784",
             "startlinecolor": "#A2B1C6"
            },
            "baxis": {
             "endlinecolor": "#A2B1C6",
             "gridcolor": "#506784",
             "linecolor": "#506784",
             "minorgridcolor": "#506784",
             "startlinecolor": "#A2B1C6"
            },
            "type": "carpet"
           }
          ],
          "choropleth": [
           {
            "colorbar": {
             "outlinewidth": 0,
             "ticks": ""
            },
            "type": "choropleth"
           }
          ],
          "contour": [
           {
            "colorbar": {
             "outlinewidth": 0,
             "ticks": ""
            },
            "colorscale": [
             [
              0,
              "#0d0887"
             ],
             [
              0.1111111111111111,
              "#46039f"
             ],
             [
              0.2222222222222222,
              "#7201a8"
             ],
             [
              0.3333333333333333,
              "#9c179e"
             ],
             [
              0.4444444444444444,
              "#bd3786"
             ],
             [
              0.5555555555555556,
              "#d8576b"
             ],
             [
              0.6666666666666666,
              "#ed7953"
             ],
             [
              0.7777777777777778,
              "#fb9f3a"
             ],
             [
              0.8888888888888888,
              "#fdca26"
             ],
             [
              1,
              "#f0f921"
             ]
            ],
            "type": "contour"
           }
          ],
          "contourcarpet": [
           {
            "colorbar": {
             "outlinewidth": 0,
             "ticks": ""
            },
            "type": "contourcarpet"
           }
          ],
          "heatmap": [
           {
            "colorbar": {
             "outlinewidth": 0,
             "ticks": ""
            },
            "colorscale": [
             [
              0,
              "#0d0887"
             ],
             [
              0.1111111111111111,
              "#46039f"
             ],
             [
              0.2222222222222222,
              "#7201a8"
             ],
             [
              0.3333333333333333,
              "#9c179e"
             ],
             [
              0.4444444444444444,
              "#bd3786"
             ],
             [
              0.5555555555555556,
              "#d8576b"
             ],
             [
              0.6666666666666666,
              "#ed7953"
             ],
             [
              0.7777777777777778,
              "#fb9f3a"
             ],
             [
              0.8888888888888888,
              "#fdca26"
             ],
             [
              1,
              "#f0f921"
             ]
            ],
            "type": "heatmap"
           }
          ],
          "heatmapgl": [
           {
            "colorbar": {
             "outlinewidth": 0,
             "ticks": ""
            },
            "colorscale": [
             [
              0,
              "#0d0887"
             ],
             [
              0.1111111111111111,
              "#46039f"
             ],
             [
              0.2222222222222222,
              "#7201a8"
             ],
             [
              0.3333333333333333,
              "#9c179e"
             ],
             [
              0.4444444444444444,
              "#bd3786"
             ],
             [
              0.5555555555555556,
              "#d8576b"
             ],
             [
              0.6666666666666666,
              "#ed7953"
             ],
             [
              0.7777777777777778,
              "#fb9f3a"
             ],
             [
              0.8888888888888888,
              "#fdca26"
             ],
             [
              1,
              "#f0f921"
             ]
            ],
            "type": "heatmapgl"
           }
          ],
          "histogram": [
           {
            "marker": {
             "pattern": {
              "fillmode": "overlay",
              "size": 10,
              "solidity": 0.2
             }
            },
            "type": "histogram"
           }
          ],
          "histogram2d": [
           {
            "colorbar": {
             "outlinewidth": 0,
             "ticks": ""
            },
            "colorscale": [
             [
              0,
              "#0d0887"
             ],
             [
              0.1111111111111111,
              "#46039f"
             ],
             [
              0.2222222222222222,
              "#7201a8"
             ],
             [
              0.3333333333333333,
              "#9c179e"
             ],
             [
              0.4444444444444444,
              "#bd3786"
             ],
             [
              0.5555555555555556,
              "#d8576b"
             ],
             [
              0.6666666666666666,
              "#ed7953"
             ],
             [
              0.7777777777777778,
              "#fb9f3a"
             ],
             [
              0.8888888888888888,
              "#fdca26"
             ],
             [
              1,
              "#f0f921"
             ]
            ],
            "type": "histogram2d"
           }
          ],
          "histogram2dcontour": [
           {
            "colorbar": {
             "outlinewidth": 0,
             "ticks": ""
            },
            "colorscale": [
             [
              0,
              "#0d0887"
             ],
             [
              0.1111111111111111,
              "#46039f"
             ],
             [
              0.2222222222222222,
              "#7201a8"
             ],
             [
              0.3333333333333333,
              "#9c179e"
             ],
             [
              0.4444444444444444,
              "#bd3786"
             ],
             [
              0.5555555555555556,
              "#d8576b"
             ],
             [
              0.6666666666666666,
              "#ed7953"
             ],
             [
              0.7777777777777778,
              "#fb9f3a"
             ],
             [
              0.8888888888888888,
              "#fdca26"
             ],
             [
              1,
              "#f0f921"
             ]
            ],
            "type": "histogram2dcontour"
           }
          ],
          "mesh3d": [
           {
            "colorbar": {
             "outlinewidth": 0,
             "ticks": ""
            },
            "type": "mesh3d"
           }
          ],
          "parcoords": [
           {
            "line": {
             "colorbar": {
              "outlinewidth": 0,
              "ticks": ""
             }
            },
            "type": "parcoords"
           }
          ],
          "pie": [
           {
            "automargin": true,
            "type": "pie"
           }
          ],
          "scatter": [
           {
            "marker": {
             "line": {
              "color": "#283442"
             }
            },
            "type": "scatter"
           }
          ],
          "scatter3d": [
           {
            "line": {
             "colorbar": {
              "outlinewidth": 0,
              "ticks": ""
             }
            },
            "marker": {
             "colorbar": {
              "outlinewidth": 0,
              "ticks": ""
             }
            },
            "type": "scatter3d"
           }
          ],
          "scattercarpet": [
           {
            "marker": {
             "colorbar": {
              "outlinewidth": 0,
              "ticks": ""
             }
            },
            "type": "scattercarpet"
           }
          ],
          "scattergeo": [
           {
            "marker": {
             "colorbar": {
              "outlinewidth": 0,
              "ticks": ""
             }
            },
            "type": "scattergeo"
           }
          ],
          "scattergl": [
           {
            "marker": {
             "line": {
              "color": "#283442"
             }
            },
            "type": "scattergl"
           }
          ],
          "scattermapbox": [
           {
            "marker": {
             "colorbar": {
              "outlinewidth": 0,
              "ticks": ""
             }
            },
            "type": "scattermapbox"
           }
          ],
          "scatterpolar": [
           {
            "marker": {
             "colorbar": {
              "outlinewidth": 0,
              "ticks": ""
             }
            },
            "type": "scatterpolar"
           }
          ],
          "scatterpolargl": [
           {
            "marker": {
             "colorbar": {
              "outlinewidth": 0,
              "ticks": ""
             }
            },
            "type": "scatterpolargl"
           }
          ],
          "scatterternary": [
           {
            "marker": {
             "colorbar": {
              "outlinewidth": 0,
              "ticks": ""
             }
            },
            "type": "scatterternary"
           }
          ],
          "surface": [
           {
            "colorbar": {
             "outlinewidth": 0,
             "ticks": ""
            },
            "colorscale": [
             [
              0,
              "#0d0887"
             ],
             [
              0.1111111111111111,
              "#46039f"
             ],
             [
              0.2222222222222222,
              "#7201a8"
             ],
             [
              0.3333333333333333,
              "#9c179e"
             ],
             [
              0.4444444444444444,
              "#bd3786"
             ],
             [
              0.5555555555555556,
              "#d8576b"
             ],
             [
              0.6666666666666666,
              "#ed7953"
             ],
             [
              0.7777777777777778,
              "#fb9f3a"
             ],
             [
              0.8888888888888888,
              "#fdca26"
             ],
             [
              1,
              "#f0f921"
             ]
            ],
            "type": "surface"
           }
          ],
          "table": [
           {
            "cells": {
             "fill": {
              "color": "#506784"
             },
             "line": {
              "color": "rgb(17,17,17)"
             }
            },
            "header": {
             "fill": {
              "color": "#2a3f5f"
             },
             "line": {
              "color": "rgb(17,17,17)"
             }
            },
            "type": "table"
           }
          ]
         },
         "layout": {
          "annotationdefaults": {
           "arrowcolor": "#f2f5fa",
           "arrowhead": 0,
           "arrowwidth": 1
          },
          "autotypenumbers": "strict",
          "coloraxis": {
           "colorbar": {
            "outlinewidth": 0,
            "ticks": ""
           }
          },
          "colorscale": {
           "diverging": [
            [
             0,
             "#8e0152"
            ],
            [
             0.1,
             "#c51b7d"
            ],
            [
             0.2,
             "#de77ae"
            ],
            [
             0.3,
             "#f1b6da"
            ],
            [
             0.4,
             "#fde0ef"
            ],
            [
             0.5,
             "#f7f7f7"
            ],
            [
             0.6,
             "#e6f5d0"
            ],
            [
             0.7,
             "#b8e186"
            ],
            [
             0.8,
             "#7fbc41"
            ],
            [
             0.9,
             "#4d9221"
            ],
            [
             1,
             "#276419"
            ]
           ],
           "sequential": [
            [
             0,
             "#0d0887"
            ],
            [
             0.1111111111111111,
             "#46039f"
            ],
            [
             0.2222222222222222,
             "#7201a8"
            ],
            [
             0.3333333333333333,
             "#9c179e"
            ],
            [
             0.4444444444444444,
             "#bd3786"
            ],
            [
             0.5555555555555556,
             "#d8576b"
            ],
            [
             0.6666666666666666,
             "#ed7953"
            ],
            [
             0.7777777777777778,
             "#fb9f3a"
            ],
            [
             0.8888888888888888,
             "#fdca26"
            ],
            [
             1,
             "#f0f921"
            ]
           ],
           "sequentialminus": [
            [
             0,
             "#0d0887"
            ],
            [
             0.1111111111111111,
             "#46039f"
            ],
            [
             0.2222222222222222,
             "#7201a8"
            ],
            [
             0.3333333333333333,
             "#9c179e"
            ],
            [
             0.4444444444444444,
             "#bd3786"
            ],
            [
             0.5555555555555556,
             "#d8576b"
            ],
            [
             0.6666666666666666,
             "#ed7953"
            ],
            [
             0.7777777777777778,
             "#fb9f3a"
            ],
            [
             0.8888888888888888,
             "#fdca26"
            ],
            [
             1,
             "#f0f921"
            ]
           ]
          },
          "colorway": [
           "#636efa",
           "#EF553B",
           "#00cc96",
           "#ab63fa",
           "#FFA15A",
           "#19d3f3",
           "#FF6692",
           "#B6E880",
           "#FF97FF",
           "#FECB52"
          ],
          "font": {
           "color": "#f2f5fa"
          },
          "geo": {
           "bgcolor": "rgb(17,17,17)",
           "lakecolor": "rgb(17,17,17)",
           "landcolor": "rgb(17,17,17)",
           "showlakes": true,
           "showland": true,
           "subunitcolor": "#506784"
          },
          "hoverlabel": {
           "align": "left"
          },
          "hovermode": "closest",
          "mapbox": {
           "style": "dark"
          },
          "paper_bgcolor": "rgb(17,17,17)",
          "plot_bgcolor": "rgb(17,17,17)",
          "polar": {
           "angularaxis": {
            "gridcolor": "#506784",
            "linecolor": "#506784",
            "ticks": ""
           },
           "bgcolor": "rgb(17,17,17)",
           "radialaxis": {
            "gridcolor": "#506784",
            "linecolor": "#506784",
            "ticks": ""
           }
          },
          "scene": {
           "xaxis": {
            "backgroundcolor": "rgb(17,17,17)",
            "gridcolor": "#506784",
            "gridwidth": 2,
            "linecolor": "#506784",
            "showbackground": true,
            "ticks": "",
            "zerolinecolor": "#C8D4E3"
           },
           "yaxis": {
            "backgroundcolor": "rgb(17,17,17)",
            "gridcolor": "#506784",
            "gridwidth": 2,
            "linecolor": "#506784",
            "showbackground": true,
            "ticks": "",
            "zerolinecolor": "#C8D4E3"
           },
           "zaxis": {
            "backgroundcolor": "rgb(17,17,17)",
            "gridcolor": "#506784",
            "gridwidth": 2,
            "linecolor": "#506784",
            "showbackground": true,
            "ticks": "",
            "zerolinecolor": "#C8D4E3"
           }
          },
          "shapedefaults": {
           "line": {
            "color": "#f2f5fa"
           }
          },
          "sliderdefaults": {
           "bgcolor": "#C8D4E3",
           "bordercolor": "rgb(17,17,17)",
           "borderwidth": 1,
           "tickwidth": 0
          },
          "ternary": {
           "aaxis": {
            "gridcolor": "#506784",
            "linecolor": "#506784",
            "ticks": ""
           },
           "baxis": {
            "gridcolor": "#506784",
            "linecolor": "#506784",
            "ticks": ""
           },
           "bgcolor": "rgb(17,17,17)",
           "caxis": {
            "gridcolor": "#506784",
            "linecolor": "#506784",
            "ticks": ""
           }
          },
          "title": {
           "x": 0.05
          },
          "updatemenudefaults": {
           "bgcolor": "#506784",
           "borderwidth": 0
          },
          "xaxis": {
           "automargin": true,
           "gridcolor": "#283442",
           "linecolor": "#506784",
           "ticks": "",
           "title": {
            "standoff": 15
           },
           "zerolinecolor": "#283442",
           "zerolinewidth": 2
          },
          "yaxis": {
           "automargin": true,
           "gridcolor": "#283442",
           "linecolor": "#506784",
           "ticks": "",
           "title": {
            "standoff": 15
           },
           "zerolinecolor": "#283442",
           "zerolinewidth": 2
          }
         }
        },
        "title": {
         "text": "GDP per capita over the years"
        },
        "xaxis": {
         "anchor": "y",
         "domain": [
          0,
          1
         ],
         "title": {
          "text": "year"
         }
        },
        "yaxis": {
         "anchor": "x",
         "domain": [
          0,
          1
         ],
         "title": {
          "text": "gdp_growth_annual_percentage"
         }
        }
       }
      }
     },
     "metadata": {},
     "output_type": "display_data"
    }
   ],
   "source": [
    "# gdp bar plot\n",
    "fig = px.bar(df, x='year', y='gdp_growth_annual_percentage',\n",
    "             title='GDP per capita over the years')\n",
    "fig.add_scatter(x=df['year'], y=df['imports_of_goods_and_services_percentage_of_gdp'], mode='lines', name='imports')\n",
    "fig.add_scatter(x=df['year'], y=df['exports_of_goods_and_services_percentage_of_gdp'], mode='lines', name='exports')\n",
    "fig.show()"
   ]
  },
  {
   "cell_type": "markdown",
   "metadata": {},
   "source": [
    "## Forecasting GDP Growth"
   ]
  },
  {
   "cell_type": "code",
   "execution_count": 69,
   "metadata": {},
   "outputs": [],
   "source": [
    "# split the data \n",
    "train = df[df['year'] < 2015]\n",
    "test = df[df['year'] >= 2015]"
   ]
  },
  {
   "cell_type": "code",
   "execution_count": 70,
   "metadata": {},
   "outputs": [
    {
     "data": {
      "application/vnd.plotly.v1+json": {
       "config": {
        "plotlyServerURL": "https://plot.ly"
       },
       "data": [
        {
         "alignmentgroup": "True",
         "hovertemplate": "year=%{x}<br>gdp_per_capita_current_usdollar=%{y}<extra></extra>",
         "legendgroup": "",
         "marker": {
          "color": "#636efa",
          "pattern": {
           "shape": ""
          }
         },
         "name": "",
         "offsetgroup": "",
         "orientation": "v",
         "showlegend": false,
         "textposition": "auto",
         "type": "bar",
         "x": [
          1960,
          1961,
          1962,
          1963,
          1964,
          1965,
          1966,
          1967,
          1968,
          1969,
          1970,
          1971,
          1972,
          1973,
          1974,
          1975,
          1976,
          1977,
          1978,
          1979,
          1980,
          1981,
          1982,
          1983,
          1984,
          1985,
          1986,
          1987,
          1988,
          1989,
          1990,
          1991,
          1992,
          1993,
          1994,
          1995,
          1996,
          1997,
          1998,
          1999,
          2000,
          2001,
          2002,
          2003,
          2004,
          2005,
          2006,
          2007,
          2008,
          2009,
          2010,
          2011,
          2012,
          2013,
          2014
         ],
         "xaxis": "x",
         "y": [
          82,
          85,
          90,
          101,
          116,
          119,
          90,
          96,
          100,
          108,
          112,
          119,
          123,
          144,
          163,
          158,
          161,
          186,
          206,
          224,
          267,
          270,
          274,
          291,
          277,
          296,
          310,
          340,
          354,
          346,
          368,
          303,
          317,
          301,
          346,
          374,
          400,
          415,
          413,
          442,
          443,
          452,
          471,
          547,
          628,
          715,
          807,
          1028,
          999,
          1102,
          1358,
          1458,
          1444,
          1450,
          1574
         ],
         "yaxis": "y"
        },
        {
         "name": "test",
         "type": "bar",
         "x": [
          2015,
          2016,
          2017,
          2018,
          2019,
          2020
         ],
         "y": [
          1606,
          1733,
          1981,
          1997,
          2101,
          1928
         ]
        }
       ],
       "layout": {
        "barmode": "relative",
        "legend": {
         "tracegroupgap": 0
        },
        "template": {
         "data": {
          "bar": [
           {
            "error_x": {
             "color": "#f2f5fa"
            },
            "error_y": {
             "color": "#f2f5fa"
            },
            "marker": {
             "line": {
              "color": "rgb(17,17,17)",
              "width": 0.5
             },
             "pattern": {
              "fillmode": "overlay",
              "size": 10,
              "solidity": 0.2
             }
            },
            "type": "bar"
           }
          ],
          "barpolar": [
           {
            "marker": {
             "line": {
              "color": "rgb(17,17,17)",
              "width": 0.5
             },
             "pattern": {
              "fillmode": "overlay",
              "size": 10,
              "solidity": 0.2
             }
            },
            "type": "barpolar"
           }
          ],
          "carpet": [
           {
            "aaxis": {
             "endlinecolor": "#A2B1C6",
             "gridcolor": "#506784",
             "linecolor": "#506784",
             "minorgridcolor": "#506784",
             "startlinecolor": "#A2B1C6"
            },
            "baxis": {
             "endlinecolor": "#A2B1C6",
             "gridcolor": "#506784",
             "linecolor": "#506784",
             "minorgridcolor": "#506784",
             "startlinecolor": "#A2B1C6"
            },
            "type": "carpet"
           }
          ],
          "choropleth": [
           {
            "colorbar": {
             "outlinewidth": 0,
             "ticks": ""
            },
            "type": "choropleth"
           }
          ],
          "contour": [
           {
            "colorbar": {
             "outlinewidth": 0,
             "ticks": ""
            },
            "colorscale": [
             [
              0,
              "#0d0887"
             ],
             [
              0.1111111111111111,
              "#46039f"
             ],
             [
              0.2222222222222222,
              "#7201a8"
             ],
             [
              0.3333333333333333,
              "#9c179e"
             ],
             [
              0.4444444444444444,
              "#bd3786"
             ],
             [
              0.5555555555555556,
              "#d8576b"
             ],
             [
              0.6666666666666666,
              "#ed7953"
             ],
             [
              0.7777777777777778,
              "#fb9f3a"
             ],
             [
              0.8888888888888888,
              "#fdca26"
             ],
             [
              1,
              "#f0f921"
             ]
            ],
            "type": "contour"
           }
          ],
          "contourcarpet": [
           {
            "colorbar": {
             "outlinewidth": 0,
             "ticks": ""
            },
            "type": "contourcarpet"
           }
          ],
          "heatmap": [
           {
            "colorbar": {
             "outlinewidth": 0,
             "ticks": ""
            },
            "colorscale": [
             [
              0,
              "#0d0887"
             ],
             [
              0.1111111111111111,
              "#46039f"
             ],
             [
              0.2222222222222222,
              "#7201a8"
             ],
             [
              0.3333333333333333,
              "#9c179e"
             ],
             [
              0.4444444444444444,
              "#bd3786"
             ],
             [
              0.5555555555555556,
              "#d8576b"
             ],
             [
              0.6666666666666666,
              "#ed7953"
             ],
             [
              0.7777777777777778,
              "#fb9f3a"
             ],
             [
              0.8888888888888888,
              "#fdca26"
             ],
             [
              1,
              "#f0f921"
             ]
            ],
            "type": "heatmap"
           }
          ],
          "heatmapgl": [
           {
            "colorbar": {
             "outlinewidth": 0,
             "ticks": ""
            },
            "colorscale": [
             [
              0,
              "#0d0887"
             ],
             [
              0.1111111111111111,
              "#46039f"
             ],
             [
              0.2222222222222222,
              "#7201a8"
             ],
             [
              0.3333333333333333,
              "#9c179e"
             ],
             [
              0.4444444444444444,
              "#bd3786"
             ],
             [
              0.5555555555555556,
              "#d8576b"
             ],
             [
              0.6666666666666666,
              "#ed7953"
             ],
             [
              0.7777777777777778,
              "#fb9f3a"
             ],
             [
              0.8888888888888888,
              "#fdca26"
             ],
             [
              1,
              "#f0f921"
             ]
            ],
            "type": "heatmapgl"
           }
          ],
          "histogram": [
           {
            "marker": {
             "pattern": {
              "fillmode": "overlay",
              "size": 10,
              "solidity": 0.2
             }
            },
            "type": "histogram"
           }
          ],
          "histogram2d": [
           {
            "colorbar": {
             "outlinewidth": 0,
             "ticks": ""
            },
            "colorscale": [
             [
              0,
              "#0d0887"
             ],
             [
              0.1111111111111111,
              "#46039f"
             ],
             [
              0.2222222222222222,
              "#7201a8"
             ],
             [
              0.3333333333333333,
              "#9c179e"
             ],
             [
              0.4444444444444444,
              "#bd3786"
             ],
             [
              0.5555555555555556,
              "#d8576b"
             ],
             [
              0.6666666666666666,
              "#ed7953"
             ],
             [
              0.7777777777777778,
              "#fb9f3a"
             ],
             [
              0.8888888888888888,
              "#fdca26"
             ],
             [
              1,
              "#f0f921"
             ]
            ],
            "type": "histogram2d"
           }
          ],
          "histogram2dcontour": [
           {
            "colorbar": {
             "outlinewidth": 0,
             "ticks": ""
            },
            "colorscale": [
             [
              0,
              "#0d0887"
             ],
             [
              0.1111111111111111,
              "#46039f"
             ],
             [
              0.2222222222222222,
              "#7201a8"
             ],
             [
              0.3333333333333333,
              "#9c179e"
             ],
             [
              0.4444444444444444,
              "#bd3786"
             ],
             [
              0.5555555555555556,
              "#d8576b"
             ],
             [
              0.6666666666666666,
              "#ed7953"
             ],
             [
              0.7777777777777778,
              "#fb9f3a"
             ],
             [
              0.8888888888888888,
              "#fdca26"
             ],
             [
              1,
              "#f0f921"
             ]
            ],
            "type": "histogram2dcontour"
           }
          ],
          "mesh3d": [
           {
            "colorbar": {
             "outlinewidth": 0,
             "ticks": ""
            },
            "type": "mesh3d"
           }
          ],
          "parcoords": [
           {
            "line": {
             "colorbar": {
              "outlinewidth": 0,
              "ticks": ""
             }
            },
            "type": "parcoords"
           }
          ],
          "pie": [
           {
            "automargin": true,
            "type": "pie"
           }
          ],
          "scatter": [
           {
            "marker": {
             "line": {
              "color": "#283442"
             }
            },
            "type": "scatter"
           }
          ],
          "scatter3d": [
           {
            "line": {
             "colorbar": {
              "outlinewidth": 0,
              "ticks": ""
             }
            },
            "marker": {
             "colorbar": {
              "outlinewidth": 0,
              "ticks": ""
             }
            },
            "type": "scatter3d"
           }
          ],
          "scattercarpet": [
           {
            "marker": {
             "colorbar": {
              "outlinewidth": 0,
              "ticks": ""
             }
            },
            "type": "scattercarpet"
           }
          ],
          "scattergeo": [
           {
            "marker": {
             "colorbar": {
              "outlinewidth": 0,
              "ticks": ""
             }
            },
            "type": "scattergeo"
           }
          ],
          "scattergl": [
           {
            "marker": {
             "line": {
              "color": "#283442"
             }
            },
            "type": "scattergl"
           }
          ],
          "scattermapbox": [
           {
            "marker": {
             "colorbar": {
              "outlinewidth": 0,
              "ticks": ""
             }
            },
            "type": "scattermapbox"
           }
          ],
          "scatterpolar": [
           {
            "marker": {
             "colorbar": {
              "outlinewidth": 0,
              "ticks": ""
             }
            },
            "type": "scatterpolar"
           }
          ],
          "scatterpolargl": [
           {
            "marker": {
             "colorbar": {
              "outlinewidth": 0,
              "ticks": ""
             }
            },
            "type": "scatterpolargl"
           }
          ],
          "scatterternary": [
           {
            "marker": {
             "colorbar": {
              "outlinewidth": 0,
              "ticks": ""
             }
            },
            "type": "scatterternary"
           }
          ],
          "surface": [
           {
            "colorbar": {
             "outlinewidth": 0,
             "ticks": ""
            },
            "colorscale": [
             [
              0,
              "#0d0887"
             ],
             [
              0.1111111111111111,
              "#46039f"
             ],
             [
              0.2222222222222222,
              "#7201a8"
             ],
             [
              0.3333333333333333,
              "#9c179e"
             ],
             [
              0.4444444444444444,
              "#bd3786"
             ],
             [
              0.5555555555555556,
              "#d8576b"
             ],
             [
              0.6666666666666666,
              "#ed7953"
             ],
             [
              0.7777777777777778,
              "#fb9f3a"
             ],
             [
              0.8888888888888888,
              "#fdca26"
             ],
             [
              1,
              "#f0f921"
             ]
            ],
            "type": "surface"
           }
          ],
          "table": [
           {
            "cells": {
             "fill": {
              "color": "#506784"
             },
             "line": {
              "color": "rgb(17,17,17)"
             }
            },
            "header": {
             "fill": {
              "color": "#2a3f5f"
             },
             "line": {
              "color": "rgb(17,17,17)"
             }
            },
            "type": "table"
           }
          ]
         },
         "layout": {
          "annotationdefaults": {
           "arrowcolor": "#f2f5fa",
           "arrowhead": 0,
           "arrowwidth": 1
          },
          "autotypenumbers": "strict",
          "coloraxis": {
           "colorbar": {
            "outlinewidth": 0,
            "ticks": ""
           }
          },
          "colorscale": {
           "diverging": [
            [
             0,
             "#8e0152"
            ],
            [
             0.1,
             "#c51b7d"
            ],
            [
             0.2,
             "#de77ae"
            ],
            [
             0.3,
             "#f1b6da"
            ],
            [
             0.4,
             "#fde0ef"
            ],
            [
             0.5,
             "#f7f7f7"
            ],
            [
             0.6,
             "#e6f5d0"
            ],
            [
             0.7,
             "#b8e186"
            ],
            [
             0.8,
             "#7fbc41"
            ],
            [
             0.9,
             "#4d9221"
            ],
            [
             1,
             "#276419"
            ]
           ],
           "sequential": [
            [
             0,
             "#0d0887"
            ],
            [
             0.1111111111111111,
             "#46039f"
            ],
            [
             0.2222222222222222,
             "#7201a8"
            ],
            [
             0.3333333333333333,
             "#9c179e"
            ],
            [
             0.4444444444444444,
             "#bd3786"
            ],
            [
             0.5555555555555556,
             "#d8576b"
            ],
            [
             0.6666666666666666,
             "#ed7953"
            ],
            [
             0.7777777777777778,
             "#fb9f3a"
            ],
            [
             0.8888888888888888,
             "#fdca26"
            ],
            [
             1,
             "#f0f921"
            ]
           ],
           "sequentialminus": [
            [
             0,
             "#0d0887"
            ],
            [
             0.1111111111111111,
             "#46039f"
            ],
            [
             0.2222222222222222,
             "#7201a8"
            ],
            [
             0.3333333333333333,
             "#9c179e"
            ],
            [
             0.4444444444444444,
             "#bd3786"
            ],
            [
             0.5555555555555556,
             "#d8576b"
            ],
            [
             0.6666666666666666,
             "#ed7953"
            ],
            [
             0.7777777777777778,
             "#fb9f3a"
            ],
            [
             0.8888888888888888,
             "#fdca26"
            ],
            [
             1,
             "#f0f921"
            ]
           ]
          },
          "colorway": [
           "#636efa",
           "#EF553B",
           "#00cc96",
           "#ab63fa",
           "#FFA15A",
           "#19d3f3",
           "#FF6692",
           "#B6E880",
           "#FF97FF",
           "#FECB52"
          ],
          "font": {
           "color": "#f2f5fa"
          },
          "geo": {
           "bgcolor": "rgb(17,17,17)",
           "lakecolor": "rgb(17,17,17)",
           "landcolor": "rgb(17,17,17)",
           "showlakes": true,
           "showland": true,
           "subunitcolor": "#506784"
          },
          "hoverlabel": {
           "align": "left"
          },
          "hovermode": "closest",
          "mapbox": {
           "style": "dark"
          },
          "paper_bgcolor": "rgb(17,17,17)",
          "plot_bgcolor": "rgb(17,17,17)",
          "polar": {
           "angularaxis": {
            "gridcolor": "#506784",
            "linecolor": "#506784",
            "ticks": ""
           },
           "bgcolor": "rgb(17,17,17)",
           "radialaxis": {
            "gridcolor": "#506784",
            "linecolor": "#506784",
            "ticks": ""
           }
          },
          "scene": {
           "xaxis": {
            "backgroundcolor": "rgb(17,17,17)",
            "gridcolor": "#506784",
            "gridwidth": 2,
            "linecolor": "#506784",
            "showbackground": true,
            "ticks": "",
            "zerolinecolor": "#C8D4E3"
           },
           "yaxis": {
            "backgroundcolor": "rgb(17,17,17)",
            "gridcolor": "#506784",
            "gridwidth": 2,
            "linecolor": "#506784",
            "showbackground": true,
            "ticks": "",
            "zerolinecolor": "#C8D4E3"
           },
           "zaxis": {
            "backgroundcolor": "rgb(17,17,17)",
            "gridcolor": "#506784",
            "gridwidth": 2,
            "linecolor": "#506784",
            "showbackground": true,
            "ticks": "",
            "zerolinecolor": "#C8D4E3"
           }
          },
          "shapedefaults": {
           "line": {
            "color": "#f2f5fa"
           }
          },
          "sliderdefaults": {
           "bgcolor": "#C8D4E3",
           "bordercolor": "rgb(17,17,17)",
           "borderwidth": 1,
           "tickwidth": 0
          },
          "ternary": {
           "aaxis": {
            "gridcolor": "#506784",
            "linecolor": "#506784",
            "ticks": ""
           },
           "baxis": {
            "gridcolor": "#506784",
            "linecolor": "#506784",
            "ticks": ""
           },
           "bgcolor": "rgb(17,17,17)",
           "caxis": {
            "gridcolor": "#506784",
            "linecolor": "#506784",
            "ticks": ""
           }
          },
          "title": {
           "x": 0.05
          },
          "updatemenudefaults": {
           "bgcolor": "#506784",
           "borderwidth": 0
          },
          "xaxis": {
           "automargin": true,
           "gridcolor": "#283442",
           "linecolor": "#506784",
           "ticks": "",
           "title": {
            "standoff": 15
           },
           "zerolinecolor": "#283442",
           "zerolinewidth": 2
          },
          "yaxis": {
           "automargin": true,
           "gridcolor": "#283442",
           "linecolor": "#506784",
           "ticks": "",
           "title": {
            "standoff": 15
           },
           "zerolinecolor": "#283442",
           "zerolinewidth": 2
          }
         }
        },
        "title": {
         "text": "Train Test Split"
        },
        "xaxis": {
         "anchor": "y",
         "domain": [
          0,
          1
         ],
         "title": {
          "text": "year"
         }
        },
        "yaxis": {
         "anchor": "x",
         "domain": [
          0,
          1
         ],
         "title": {
          "text": "gdp_per_capita_current_usdollar"
         }
        }
       }
      }
     },
     "metadata": {},
     "output_type": "display_data"
    }
   ],
   "source": [
    "# plot both train and test data \n",
    "fig = px.bar(train, x='year', y='gdp_per_capita_current_usdollar', title='Train Test Split')\n",
    "fig.add_bar(x=test['year'], y=test['gdp_per_capita_current_usdollar'], name='test')\n",
    "fig.show()"
   ]
  },
  {
   "cell_type": "code",
   "execution_count": 75,
   "metadata": {},
   "outputs": [
    {
     "name": "stdout",
     "output_type": "stream",
     "text": [
      "[0]\tvalidation_0-rmse:583.04710\tvalidation_1-rmse:1887.22022\n",
      "[1]\tvalidation_0-rmse:577.98618\tvalidation_1-rmse:1876.51675\n",
      "[2]\tvalidation_0-rmse:572.97437\tvalidation_1-rmse:1865.91099\n",
      "[3]\tvalidation_0-rmse:568.01127\tvalidation_1-rmse:1855.40210\n",
      "[4]\tvalidation_0-rmse:563.09644\tvalidation_1-rmse:1844.98933\n",
      "[5]\tvalidation_0-rmse:558.22902\tvalidation_1-rmse:1834.67172\n",
      "[6]\tvalidation_0-rmse:553.40836\tvalidation_1-rmse:1824.44830\n",
      "[7]\tvalidation_0-rmse:548.63413\tvalidation_1-rmse:1814.31838\n",
      "[8]\tvalidation_0-rmse:543.87278\tvalidation_1-rmse:1803.90503\n",
      "[9]\tvalidation_0-rmse:539.15631\tvalidation_1-rmse:1793.58590\n",
      "[10]\tvalidation_0-rmse:534.48435\tvalidation_1-rmse:1783.36015\n",
      "[11]\tvalidation_0-rmse:529.88631\tvalidation_1-rmse:1773.58857\n",
      "[12]\tvalidation_0-rmse:525.30112\tvalidation_1-rmse:1763.54383\n",
      "[13]\tvalidation_0-rmse:520.75922\tvalidation_1-rmse:1753.59001\n",
      "[14]\tvalidation_0-rmse:516.26026\tvalidation_1-rmse:1743.72627\n",
      "[15]\tvalidation_0-rmse:511.83238\tvalidation_1-rmse:1734.30066\n",
      "[16]\tvalidation_0-rmse:507.41705\tvalidation_1-rmse:1724.61154\n",
      "[17]\tvalidation_0-rmse:503.04354\tvalidation_1-rmse:1715.01020\n",
      "[18]\tvalidation_0-rmse:498.71814\tvalidation_1-rmse:1705.12707\n",
      "[19]\tvalidation_0-rmse:494.43286\tvalidation_1-rmse:1695.33245\n",
      "[20]\tvalidation_0-rmse:490.18727\tvalidation_1-rmse:1685.62535\n",
      "[21]\tvalidation_0-rmse:485.98109\tvalidation_1-rmse:1676.00518\n",
      "[22]\tvalidation_0-rmse:481.81288\tvalidation_1-rmse:1666.47095\n",
      "[23]\tvalidation_0-rmse:477.68334\tvalidation_1-rmse:1657.02215\n",
      "[24]\tvalidation_0-rmse:473.59296\tvalidation_1-rmse:1647.65785\n",
      "[25]\tvalidation_0-rmse:469.53959\tvalidation_1-rmse:1638.37727\n",
      "[26]\tvalidation_0-rmse:465.52390\tvalidation_1-rmse:1629.17994\n",
      "[27]\tvalidation_0-rmse:461.54495\tvalidation_1-rmse:1620.06476\n",
      "[28]\tvalidation_0-rmse:457.60258\tvalidation_1-rmse:1611.03124\n",
      "[29]\tvalidation_0-rmse:453.69676\tvalidation_1-rmse:1602.07840\n",
      "[30]\tvalidation_0-rmse:449.82649\tvalidation_1-rmse:1593.20585\n",
      "[31]\tvalidation_0-rmse:445.99261\tvalidation_1-rmse:1584.41279\n",
      "[32]\tvalidation_0-rmse:442.19316\tvalidation_1-rmse:1575.69830\n",
      "[33]\tvalidation_0-rmse:438.42988\tvalidation_1-rmse:1567.06182\n",
      "[34]\tvalidation_0-rmse:434.70009\tvalidation_1-rmse:1558.50282\n",
      "[35]\tvalidation_0-rmse:431.00469\tvalidation_1-rmse:1550.02033\n",
      "[36]\tvalidation_0-rmse:427.34483\tvalidation_1-rmse:1541.61378\n",
      "[37]\tvalidation_0-rmse:423.71726\tvalidation_1-rmse:1533.28248\n",
      "[38]\tvalidation_0-rmse:420.12458\tvalidation_1-rmse:1525.02589\n",
      "[39]\tvalidation_0-rmse:416.56147\tvalidation_1-rmse:1516.84314\n",
      "[40]\tvalidation_0-rmse:413.03058\tvalidation_1-rmse:1508.20530\n",
      "[41]\tvalidation_0-rmse:409.53132\tvalidation_1-rmse:1500.16415\n",
      "[42]\tvalidation_0-rmse:406.06525\tvalidation_1-rmse:1491.67040\n",
      "[43]\tvalidation_0-rmse:402.62679\tvalidation_1-rmse:1483.25021\n",
      "[44]\tvalidation_0-rmse:399.22175\tvalidation_1-rmse:1474.90264\n",
      "[45]\tvalidation_0-rmse:395.84391\tvalidation_1-rmse:1466.62737\n",
      "[46]\tvalidation_0-rmse:392.49768\tvalidation_1-rmse:1458.92346\n",
      "[47]\tvalidation_0-rmse:389.17886\tvalidation_1-rmse:1450.78630\n",
      "[48]\tvalidation_0-rmse:385.89228\tvalidation_1-rmse:1442.71960\n",
      "[49]\tvalidation_0-rmse:382.63208\tvalidation_1-rmse:1434.72261\n",
      "[50]\tvalidation_0-rmse:379.40101\tvalidation_1-rmse:1427.27911\n",
      "[51]\tvalidation_0-rmse:376.20036\tvalidation_1-rmse:1419.41557\n",
      "[52]\tvalidation_0-rmse:373.02562\tvalidation_1-rmse:1411.62016\n",
      "[53]\tvalidation_0-rmse:369.88147\tvalidation_1-rmse:1403.89203\n",
      "[54]\tvalidation_0-rmse:366.76274\tvalidation_1-rmse:1396.23094\n",
      "[55]\tvalidation_0-rmse:363.67161\tvalidation_1-rmse:1389.09970\n",
      "[56]\tvalidation_0-rmse:360.60858\tvalidation_1-rmse:1381.28668\n",
      "[57]\tvalidation_0-rmse:357.57046\tvalidation_1-rmse:1373.53951\n",
      "[58]\tvalidation_0-rmse:354.55783\tvalidation_1-rmse:1365.85742\n",
      "[59]\tvalidation_0-rmse:351.57238\tvalidation_1-rmse:1358.24010\n",
      "[60]\tvalidation_0-rmse:348.61184\tvalidation_1-rmse:1350.95374\n",
      "[61]\tvalidation_0-rmse:345.68141\tvalidation_1-rmse:1344.63936\n",
      "[62]\tvalidation_0-rmse:342.76972\tvalidation_1-rmse:1337.20072\n",
      "[63]\tvalidation_0-rmse:339.88454\tvalidation_1-rmse:1329.82464\n",
      "[64]\tvalidation_0-rmse:337.03224\tvalidation_1-rmse:1323.67278\n",
      "[65]\tvalidation_0-rmse:334.18527\tvalidation_1-rmse:1317.34765\n",
      "[66]\tvalidation_0-rmse:331.36019\tvalidation_1-rmse:1310.13888\n",
      "[67]\tvalidation_0-rmse:328.56434\tvalidation_1-rmse:1303.92286\n",
      "[68]\tvalidation_0-rmse:325.78745\tvalidation_1-rmse:1296.82716\n",
      "[69]\tvalidation_0-rmse:323.04186\tvalidation_1-rmse:1290.71858\n",
      "[70]\tvalidation_0-rmse:320.31233\tvalidation_1-rmse:1283.73414\n",
      "[71]\tvalidation_0-rmse:317.61873\tvalidation_1-rmse:1276.80858\n",
      "[72]\tvalidation_0-rmse:314.94529\tvalidation_1-rmse:1270.85545\n",
      "[73]\tvalidation_0-rmse:312.28530\tvalidation_1-rmse:1264.03832\n",
      "[74]\tvalidation_0-rmse:309.65995\tvalidation_1-rmse:1258.18812\n",
      "[75]\tvalidation_0-rmse:307.04531\tvalidation_1-rmse:1251.47796\n",
      "[76]\tvalidation_0-rmse:304.46719\tvalidation_1-rmse:1245.72875\n",
      "[77]\tvalidation_0-rmse:301.89712\tvalidation_1-rmse:1239.12360\n",
      "[78]\tvalidation_0-rmse:299.36544\tvalidation_1-rmse:1233.47401\n",
      "[79]\tvalidation_0-rmse:296.83784\tvalidation_1-rmse:1226.97226\n",
      "[80]\tvalidation_0-rmse:294.35610\tvalidation_1-rmse:1220.52521\n",
      "[81]\tvalidation_0-rmse:291.87183\tvalidation_1-rmse:1214.13263\n",
      "[82]\tvalidation_0-rmse:289.42779\tvalidation_1-rmse:1208.67265\n",
      "[83]\tvalidation_0-rmse:286.99756\tvalidation_1-rmse:1202.38004\n",
      "[84]\tvalidation_0-rmse:284.59767\tvalidation_1-rmse:1197.01477\n",
      "[85]\tvalidation_0-rmse:282.19690\tvalidation_1-rmse:1190.82058\n",
      "[86]\tvalidation_0-rmse:279.81942\tvalidation_1-rmse:1185.32657\n",
      "[87]\tvalidation_0-rmse:277.45955\tvalidation_1-rmse:1179.23098\n",
      "[88]\tvalidation_0-rmse:275.12362\tvalidation_1-rmse:1173.83093\n",
      "[89]\tvalidation_0-rmse:272.80976\tvalidation_1-rmse:1168.47945\n",
      "[90]\tvalidation_0-rmse:270.50950\tvalidation_1-rmse:1162.52606\n",
      "[91]\tvalidation_0-rmse:268.23744\tvalidation_1-rmse:1157.26646\n",
      "[92]\tvalidation_0-rmse:265.97634\tvalidation_1-rmse:1151.40779\n",
      "[93]\tvalidation_0-rmse:263.74406\tvalidation_1-rmse:1146.23824\n",
      "[94]\tvalidation_0-rmse:261.52145\tvalidation_1-rmse:1140.47275\n",
      "[95]\tvalidation_0-rmse:259.33873\tvalidation_1-rmse:1134.75578\n",
      "[96]\tvalidation_0-rmse:257.16754\tvalidation_1-rmse:1129.71701\n",
      "[97]\tvalidation_0-rmse:255.00220\tvalidation_1-rmse:1124.09102\n",
      "[98]\tvalidation_0-rmse:252.86667\tvalidation_1-rmse:1119.13871\n",
      "[99]\tvalidation_0-rmse:250.74748\tvalidation_1-rmse:1113.60194\n",
      "[100]\tvalidation_0-rmse:248.63619\tvalidation_1-rmse:1108.11202\n",
      "[101]\tvalidation_0-rmse:246.55955\tvalidation_1-rmse:1103.28500\n",
      "[102]\tvalidation_0-rmse:244.48424\tvalidation_1-rmse:1097.88228\n",
      "[103]\tvalidation_0-rmse:242.45297\tvalidation_1-rmse:1092.52520\n",
      "[104]\tvalidation_0-rmse:240.41312\tvalidation_1-rmse:1087.21338\n",
      "[105]\tvalidation_0-rmse:238.40299\tvalidation_1-rmse:1082.54743\n",
      "[106]\tvalidation_0-rmse:236.39861\tvalidation_1-rmse:1077.32001\n",
      "[107]\tvalidation_0-rmse:234.42866\tvalidation_1-rmse:1072.13674\n",
      "[108]\tvalidation_0-rmse:232.47136\tvalidation_1-rmse:1067.58907\n",
      "[109]\tvalidation_0-rmse:230.51782\tvalidation_1-rmse:1062.48802\n",
      "[110]\tvalidation_0-rmse:228.58048\tvalidation_1-rmse:1057.43022\n",
      "[111]\tvalidation_0-rmse:226.68395\tvalidation_1-rmse:1052.41514\n",
      "[112]\tvalidation_0-rmse:224.79242\tvalidation_1-rmse:1048.01922\n",
      "[113]\tvalidation_0-rmse:222.90487\tvalidation_1-rmse:1043.08384\n",
      "[114]\tvalidation_0-rmse:221.04216\tvalidation_1-rmse:1038.19008\n",
      "[115]\tvalidation_0-rmse:219.20038\tvalidation_1-rmse:1033.90571\n",
      "[116]\tvalidation_0-rmse:217.36009\tvalidation_1-rmse:1029.08961\n",
      "[117]\tvalidation_0-rmse:215.53585\tvalidation_1-rmse:1024.31427\n",
      "[118]\tvalidation_0-rmse:213.74246\tvalidation_1-rmse:1020.13852\n",
      "[119]\tvalidation_0-rmse:211.94993\tvalidation_1-rmse:1015.43892\n",
      "[120]\tvalidation_0-rmse:210.19435\tvalidation_1-rmse:1010.77905\n",
      "[121]\tvalidation_0-rmse:208.44764\tvalidation_1-rmse:1006.15867\n",
      "[122]\tvalidation_0-rmse:206.70009\tvalidation_1-rmse:1001.57738\n",
      "[123]\tvalidation_0-rmse:204.98336\tvalidation_1-rmse:997.57489\n",
      "[124]\tvalidation_0-rmse:203.26617\tvalidation_1-rmse:993.06625\n",
      "[125]\tvalidation_0-rmse:201.58040\tvalidation_1-rmse:989.13265\n",
      "[126]\tvalidation_0-rmse:199.89242\tvalidation_1-rmse:984.69556\n",
      "[127]\tvalidation_0-rmse:198.22692\tvalidation_1-rmse:980.29597\n",
      "[128]\tvalidation_0-rmse:196.58789\tvalidation_1-rmse:975.93369\n",
      "[129]\tvalidation_0-rmse:194.94245\tvalidation_1-rmse:971.60836\n",
      "[130]\tvalidation_0-rmse:193.32870\tvalidation_1-rmse:967.83800\n",
      "[131]\tvalidation_0-rmse:191.71182\tvalidation_1-rmse:963.58126\n",
      "[132]\tvalidation_0-rmse:190.12726\tvalidation_1-rmse:959.87593\n",
      "[133]\tvalidation_0-rmse:188.53806\tvalidation_1-rmse:955.68659\n",
      "[134]\tvalidation_0-rmse:186.97629\tvalidation_1-rmse:951.53280\n",
      "[135]\tvalidation_0-rmse:185.41370\tvalidation_1-rmse:947.41417\n",
      "[136]\tvalidation_0-rmse:183.88404\tvalidation_1-rmse:943.83311\n",
      "[137]\tvalidation_0-rmse:182.34856\tvalidation_1-rmse:939.77971\n",
      "[138]\tvalidation_0-rmse:180.84423\tvalidation_1-rmse:935.76070\n",
      "[139]\tvalidation_0-rmse:179.33459\tvalidation_1-rmse:931.77579\n",
      "[140]\tvalidation_0-rmse:177.85797\tvalidation_1-rmse:928.31479\n",
      "[141]\tvalidation_0-rmse:176.38139\tvalidation_1-rmse:924.39292\n",
      "[142]\tvalidation_0-rmse:174.91061\tvalidation_1-rmse:920.50435\n",
      "[143]\tvalidation_0-rmse:173.47312\tvalidation_1-rmse:917.13149\n",
      "[144]\tvalidation_0-rmse:172.02752\tvalidation_1-rmse:913.30443\n",
      "[145]\tvalidation_0-rmse:170.61095\tvalidation_1-rmse:909.50988\n",
      "[146]\tvalidation_0-rmse:169.19046\tvalidation_1-rmse:905.74746\n",
      "[147]\tvalidation_0-rmse:167.80288\tvalidation_1-rmse:902.48782\n",
      "[148]\tvalidation_0-rmse:166.40643\tvalidation_1-rmse:898.78499\n",
      "[149]\tvalidation_0-rmse:165.03382\tvalidation_1-rmse:895.11358\n",
      "[150]\tvalidation_0-rmse:163.66083\tvalidation_1-rmse:891.47329\n",
      "[151]\tvalidation_0-rmse:162.32050\tvalidation_1-rmse:887.86388\n",
      "[152]\tvalidation_0-rmse:160.98682\tvalidation_1-rmse:884.28507\n",
      "[153]\tvalidation_0-rmse:159.64917\tvalidation_1-rmse:880.73660\n",
      "[154]\tvalidation_0-rmse:158.33473\tvalidation_1-rmse:877.21826\n",
      "[155]\tvalidation_0-rmse:157.04123\tvalidation_1-rmse:873.72980\n",
      "[156]\tvalidation_0-rmse:155.73794\tvalidation_1-rmse:870.27099\n",
      "[157]\tvalidation_0-rmse:154.44567\tvalidation_1-rmse:866.84145\n",
      "[158]\tvalidation_0-rmse:153.18444\tvalidation_1-rmse:863.87036\n",
      "[159]\tvalidation_0-rmse:151.92098\tvalidation_1-rmse:860.49519\n",
      "[160]\tvalidation_0-rmse:150.66859\tvalidation_1-rmse:857.43523\n",
      "[161]\tvalidation_0-rmse:149.42047\tvalidation_1-rmse:854.11469\n",
      "[162]\tvalidation_0-rmse:148.18340\tvalidation_1-rmse:850.82232\n",
      "[163]\tvalidation_0-rmse:146.96138\tvalidation_1-rmse:847.83972\n",
      "[164]\tvalidation_0-rmse:145.75916\tvalidation_1-rmse:844.60061\n",
      "[165]\tvalidation_0-rmse:144.55344\tvalidation_1-rmse:841.38906\n",
      "[166]\tvalidation_0-rmse:143.36584\tvalidation_1-rmse:838.48186\n",
      "[167]\tvalidation_0-rmse:142.19099\tvalidation_1-rmse:835.32222\n",
      "[168]\tvalidation_0-rmse:141.01623\tvalidation_1-rmse:832.18938\n",
      "[169]\tvalidation_0-rmse:139.86700\tvalidation_1-rmse:829.08323\n",
      "[170]\tvalidation_0-rmse:138.71276\tvalidation_1-rmse:826.00338\n",
      "[171]\tvalidation_0-rmse:137.57362\tvalidation_1-rmse:823.21653\n",
      "[172]\tvalidation_0-rmse:136.44481\tvalidation_1-rmse:820.18649\n",
      "[173]\tvalidation_0-rmse:135.33310\tvalidation_1-rmse:817.18229\n",
      "[174]\tvalidation_0-rmse:134.21802\tvalidation_1-rmse:814.20353\n",
      "[175]\tvalidation_0-rmse:133.11831\tvalidation_1-rmse:811.50980\n",
      "[176]\tvalidation_0-rmse:132.02252\tvalidation_1-rmse:808.57924\n",
      "[177]\tvalidation_0-rmse:130.95386\tvalidation_1-rmse:805.67365\n",
      "[178]\tvalidation_0-rmse:129.88609\tvalidation_1-rmse:802.79277\n",
      "[179]\tvalidation_0-rmse:128.81830\tvalidation_1-rmse:799.93634\n",
      "[180]\tvalidation_0-rmse:127.76571\tvalidation_1-rmse:797.35407\n",
      "[181]\tvalidation_0-rmse:126.71642\tvalidation_1-rmse:794.54387\n",
      "[182]\tvalidation_0-rmse:125.69020\tvalidation_1-rmse:791.75754\n",
      "[183]\tvalidation_0-rmse:124.67512\tvalidation_1-rmse:788.99492\n",
      "[184]\tvalidation_0-rmse:123.65291\tvalidation_1-rmse:786.25577\n",
      "[185]\tvalidation_0-rmse:122.64848\tvalidation_1-rmse:783.53985\n",
      "[186]\tvalidation_0-rmse:121.64977\tvalidation_1-rmse:781.08516\n",
      "[187]\tvalidation_0-rmse:120.65402\tvalidation_1-rmse:778.41326\n",
      "[188]\tvalidation_0-rmse:119.68011\tvalidation_1-rmse:775.76396\n",
      "[189]\tvalidation_0-rmse:118.70662\tvalidation_1-rmse:773.13728\n",
      "[190]\tvalidation_0-rmse:117.75101\tvalidation_1-rmse:770.53283\n",
      "[191]\tvalidation_0-rmse:116.78951\tvalidation_1-rmse:767.95063\n",
      "[192]\tvalidation_0-rmse:115.84207\tvalidation_1-rmse:765.61724\n",
      "[193]\tvalidation_0-rmse:114.89698\tvalidation_1-rmse:763.07682\n",
      "[194]\tvalidation_0-rmse:113.97286\tvalidation_1-rmse:760.55791\n",
      "[195]\tvalidation_0-rmse:113.04429\tvalidation_1-rmse:758.06050\n",
      "[196]\tvalidation_0-rmse:112.13920\tvalidation_1-rmse:755.58434\n",
      "[197]\tvalidation_0-rmse:111.22685\tvalidation_1-rmse:753.12919\n",
      "[198]\tvalidation_0-rmse:110.32812\tvalidation_1-rmse:750.91104\n",
      "[199]\tvalidation_0-rmse:109.43953\tvalidation_1-rmse:748.49558\n",
      "[200]\tvalidation_0-rmse:108.55093\tvalidation_1-rmse:746.10076\n",
      "[201]\tvalidation_0-rmse:107.68335\tvalidation_1-rmse:743.72631\n",
      "[202]\tvalidation_0-rmse:106.81491\tvalidation_1-rmse:741.37202\n",
      "[203]\tvalidation_0-rmse:105.94982\tvalidation_1-rmse:739.03775\n",
      "[204]\tvalidation_0-rmse:105.09750\tvalidation_1-rmse:736.92929\n",
      "[205]\tvalidation_0-rmse:104.25847\tvalidation_1-rmse:734.63273\n",
      "[206]\tvalidation_0-rmse:103.41559\tvalidation_1-rmse:732.35582\n",
      "[207]\tvalidation_0-rmse:102.58604\tvalidation_1-rmse:730.30068\n",
      "[208]\tvalidation_0-rmse:101.76520\tvalidation_1-rmse:728.06050\n",
      "[209]\tvalidation_0-rmse:100.94433\tvalidation_1-rmse:725.83949\n",
      "[210]\tvalidation_0-rmse:100.14369\tvalidation_1-rmse:723.63738\n",
      "[211]\tvalidation_0-rmse:99.33727\tvalidation_1-rmse:721.45392\n",
      "[212]\tvalidation_0-rmse:98.54854\tvalidation_1-rmse:719.28900\n",
      "[213]\tvalidation_0-rmse:97.76205\tvalidation_1-rmse:717.33552\n",
      "[214]\tvalidation_0-rmse:96.97632\tvalidation_1-rmse:715.09886\n",
      "[215]\tvalidation_0-rmse:96.20997\tvalidation_1-rmse:712.88052\n",
      "[216]\tvalidation_0-rmse:95.44402\tvalidation_1-rmse:710.97538\n",
      "[217]\tvalidation_0-rmse:94.68176\tvalidation_1-rmse:708.79077\n",
      "[218]\tvalidation_0-rmse:93.92962\tvalidation_1-rmse:706.91782\n",
      "[219]\tvalidation_0-rmse:93.18624\tvalidation_1-rmse:704.76643\n",
      "[220]\tvalidation_0-rmse:92.43941\tvalidation_1-rmse:702.63263\n",
      "[221]\tvalidation_0-rmse:91.70702\tvalidation_1-rmse:700.80605\n",
      "[222]\tvalidation_0-rmse:90.98472\tvalidation_1-rmse:698.70461\n",
      "[223]\tvalidation_0-rmse:90.26557\tvalidation_1-rmse:696.90900\n",
      "[224]\tvalidation_0-rmse:89.54943\tvalidation_1-rmse:694.83954\n",
      "[225]\tvalidation_0-rmse:88.84462\tvalidation_1-rmse:693.07427\n",
      "[226]\tvalidation_0-rmse:88.13462\tvalidation_1-rmse:691.03618\n",
      "[227]\tvalidation_0-rmse:87.44226\tvalidation_1-rmse:689.01471\n",
      "[228]\tvalidation_0-rmse:86.74573\tvalidation_1-rmse:687.19760\n",
      "[229]\tvalidation_0-rmse:86.05927\tvalidation_1-rmse:685.20760\n",
      "[230]\tvalidation_0-rmse:85.37514\tvalidation_1-rmse:683.42084\n",
      "[231]\tvalidation_0-rmse:84.69443\tvalidation_1-rmse:681.46171\n",
      "[232]\tvalidation_0-rmse:84.03202\tvalidation_1-rmse:679.79690\n",
      "[233]\tvalidation_0-rmse:83.36622\tvalidation_1-rmse:678.05433\n",
      "[234]\tvalidation_0-rmse:82.70672\tvalidation_1-rmse:676.32707\n",
      "[235]\tvalidation_0-rmse:82.05742\tvalidation_1-rmse:674.42601\n",
      "[236]\tvalidation_0-rmse:81.40964\tvalidation_1-rmse:672.72750\n",
      "[237]\tvalidation_0-rmse:80.76574\tvalidation_1-rmse:670.85596\n",
      "[238]\tvalidation_0-rmse:80.12955\tvalidation_1-rmse:669.18580\n",
      "[239]\tvalidation_0-rmse:79.49336\tvalidation_1-rmse:667.34327\n",
      "[240]\tvalidation_0-rmse:78.86862\tvalidation_1-rmse:665.70087\n",
      "[241]\tvalidation_0-rmse:78.25160\tvalidation_1-rmse:663.88686\n",
      "[242]\tvalidation_0-rmse:77.64202\tvalidation_1-rmse:662.08771\n",
      "[243]\tvalidation_0-rmse:77.03184\tvalidation_1-rmse:660.48574\n",
      "[244]\tvalidation_0-rmse:76.43039\tvalidation_1-rmse:658.71439\n",
      "[245]\tvalidation_0-rmse:75.83260\tvalidation_1-rmse:657.13906\n",
      "[246]\tvalidation_0-rmse:75.23846\tvalidation_1-rmse:655.39511\n",
      "[247]\tvalidation_0-rmse:74.64981\tvalidation_1-rmse:653.84619\n",
      "[248]\tvalidation_0-rmse:74.07059\tvalidation_1-rmse:652.12915\n",
      "[249]\tvalidation_0-rmse:73.48617\tvalidation_1-rmse:650.42623\n",
      "[250]\tvalidation_0-rmse:72.91287\tvalidation_1-rmse:648.91528\n",
      "[251]\tvalidation_0-rmse:72.34829\tvalidation_1-rmse:647.23866\n",
      "[252]\tvalidation_0-rmse:71.78676\tvalidation_1-rmse:645.75300\n",
      "[253]\tvalidation_0-rmse:71.23176\tvalidation_1-rmse:644.10230\n",
      "[254]\tvalidation_0-rmse:70.67941\tvalidation_1-rmse:642.46511\n",
      "[255]\tvalidation_0-rmse:70.13097\tvalidation_1-rmse:641.01605\n",
      "[256]\tvalidation_0-rmse:69.58321\tvalidation_1-rmse:639.40406\n",
      "[257]\tvalidation_0-rmse:69.04836\tvalidation_1-rmse:637.80531\n",
      "[258]\tvalidation_0-rmse:68.51430\tvalidation_1-rmse:636.39177\n",
      "[259]\tvalidation_0-rmse:67.98851\tvalidation_1-rmse:634.81773\n",
      "[260]\tvalidation_0-rmse:67.46575\tvalidation_1-rmse:633.25656\n",
      "[261]\tvalidation_0-rmse:66.94572\tvalidation_1-rmse:631.87779\n",
      "[262]\tvalidation_0-rmse:66.43328\tvalidation_1-rmse:630.34071\n",
      "[263]\tvalidation_0-rmse:65.92377\tvalidation_1-rmse:628.81614\n",
      "[264]\tvalidation_0-rmse:65.41733\tvalidation_1-rmse:627.47126\n",
      "[265]\tvalidation_0-rmse:64.91437\tvalidation_1-rmse:625.97016\n",
      "[266]\tvalidation_0-rmse:64.41918\tvalidation_1-rmse:624.48133\n",
      "[267]\tvalidation_0-rmse:63.92826\tvalidation_1-rmse:623.00476\n",
      "[268]\tvalidation_0-rmse:63.43921\tvalidation_1-rmse:621.70352\n",
      "[269]\tvalidation_0-rmse:62.95076\tvalidation_1-rmse:620.24967\n",
      "[270]\tvalidation_0-rmse:62.47224\tvalidation_1-rmse:618.80773\n",
      "[271]\tvalidation_0-rmse:61.99612\tvalidation_1-rmse:617.53842\n",
      "[272]\tvalidation_0-rmse:61.52437\tvalidation_1-rmse:616.11871\n",
      "[273]\tvalidation_0-rmse:61.05804\tvalidation_1-rmse:614.71053\n",
      "[274]\tvalidation_0-rmse:60.59373\tvalidation_1-rmse:613.31387\n",
      "[275]\tvalidation_0-rmse:60.13525\tvalidation_1-rmse:612.08585\n",
      "[276]\tvalidation_0-rmse:59.68082\tvalidation_1-rmse:610.71070\n",
      "[277]\tvalidation_0-rmse:59.22892\tvalidation_1-rmse:609.34681\n",
      "[278]\tvalidation_0-rmse:58.78252\tvalidation_1-rmse:608.14889\n",
      "[279]\tvalidation_0-rmse:58.33645\tvalidation_1-rmse:606.80600\n",
      "[280]\tvalidation_0-rmse:57.89741\tvalidation_1-rmse:605.47403\n",
      "[281]\tvalidation_0-rmse:57.46170\tvalidation_1-rmse:604.30571\n",
      "[282]\tvalidation_0-rmse:57.02869\tvalidation_1-rmse:602.99423\n",
      "[283]\tvalidation_0-rmse:56.60086\tvalidation_1-rmse:601.69344\n",
      "[284]\tvalidation_0-rmse:56.17674\tvalidation_1-rmse:600.40331\n",
      "[285]\tvalidation_0-rmse:55.75695\tvalidation_1-rmse:599.12374\n",
      "[286]\tvalidation_0-rmse:55.34013\tvalidation_1-rmse:597.85470\n",
      "[287]\tvalidation_0-rmse:54.92760\tvalidation_1-rmse:596.59595\n",
      "[288]\tvalidation_0-rmse:54.51625\tvalidation_1-rmse:595.34751\n",
      "[289]\tvalidation_0-rmse:54.11095\tvalidation_1-rmse:594.25274\n",
      "[290]\tvalidation_0-rmse:53.70546\tvalidation_1-rmse:593.02357\n",
      "[291]\tvalidation_0-rmse:53.30708\tvalidation_1-rmse:591.80446\n",
      "[292]\tvalidation_0-rmse:52.91141\tvalidation_1-rmse:590.59526\n",
      "[293]\tvalidation_0-rmse:52.51998\tvalidation_1-rmse:589.39601\n",
      "[294]\tvalidation_0-rmse:52.13120\tvalidation_1-rmse:588.20655\n",
      "[295]\tvalidation_0-rmse:51.74659\tvalidation_1-rmse:587.02679\n",
      "[296]\tvalidation_0-rmse:51.36456\tvalidation_1-rmse:585.85671\n",
      "[297]\tvalidation_0-rmse:50.98677\tvalidation_1-rmse:584.83070\n",
      "[298]\tvalidation_0-rmse:50.60982\tvalidation_1-rmse:583.67855\n",
      "[299]\tvalidation_0-rmse:50.23637\tvalidation_1-rmse:582.53582\n",
      "[300]\tvalidation_0-rmse:49.86749\tvalidation_1-rmse:581.40242\n",
      "[301]\tvalidation_0-rmse:49.49918\tvalidation_1-rmse:580.27833\n",
      "[302]\tvalidation_0-rmse:49.13724\tvalidation_1-rmse:579.16344\n",
      "[303]\tvalidation_0-rmse:48.77800\tvalidation_1-rmse:578.05761\n",
      "[304]\tvalidation_0-rmse:48.42192\tvalidation_1-rmse:576.96086\n",
      "[305]\tvalidation_0-rmse:48.06893\tvalidation_1-rmse:575.87305\n",
      "[306]\tvalidation_0-rmse:47.71777\tvalidation_1-rmse:574.79418\n",
      "[307]\tvalidation_0-rmse:47.37191\tvalidation_1-rmse:573.84816\n",
      "[308]\tvalidation_0-rmse:47.02309\tvalidation_1-rmse:572.84827\n",
      "[309]\tvalidation_0-rmse:46.67767\tvalidation_1-rmse:571.85695\n",
      "[310]\tvalidation_0-rmse:46.33777\tvalidation_1-rmse:570.81087\n",
      "[311]\tvalidation_0-rmse:45.99878\tvalidation_1-rmse:569.83587\n",
      "[312]\tvalidation_0-rmse:45.66598\tvalidation_1-rmse:568.80634\n",
      "[313]\tvalidation_0-rmse:45.33726\tvalidation_1-rmse:567.78516\n",
      "[314]\tvalidation_0-rmse:45.01036\tvalidation_1-rmse:566.77231\n",
      "[315]\tvalidation_0-rmse:44.68288\tvalidation_1-rmse:565.82861\n",
      "[316]\tvalidation_0-rmse:44.36292\tvalidation_1-rmse:564.83184\n",
      "[317]\tvalidation_0-rmse:44.04381\tvalidation_1-rmse:563.84314\n",
      "[318]\tvalidation_0-rmse:43.72956\tvalidation_1-rmse:562.86255\n",
      "[319]\tvalidation_0-rmse:43.41388\tvalidation_1-rmse:561.94930\n",
      "[320]\tvalidation_0-rmse:43.10525\tvalidation_1-rmse:560.98416\n",
      "[321]\tvalidation_0-rmse:42.79834\tvalidation_1-rmse:560.02699\n",
      "[322]\tvalidation_0-rmse:42.49337\tvalidation_1-rmse:559.07754\n",
      "[323]\tvalidation_0-rmse:42.19304\tvalidation_1-rmse:558.13594\n",
      "[324]\tvalidation_0-rmse:41.89618\tvalidation_1-rmse:557.20194\n",
      "[325]\tvalidation_0-rmse:41.60125\tvalidation_1-rmse:556.27566\n",
      "[326]\tvalidation_0-rmse:41.30900\tvalidation_1-rmse:555.35687\n",
      "[327]\tvalidation_0-rmse:41.02017\tvalidation_1-rmse:554.44554\n",
      "[328]\tvalidation_0-rmse:40.73321\tvalidation_1-rmse:553.54170\n",
      "[329]\tvalidation_0-rmse:40.44780\tvalidation_1-rmse:552.64522\n",
      "[330]\tvalidation_0-rmse:40.16296\tvalidation_1-rmse:551.75609\n",
      "[331]\tvalidation_0-rmse:39.88456\tvalidation_1-rmse:550.87420\n",
      "[332]\tvalidation_0-rmse:39.60873\tvalidation_1-rmse:549.99954\n",
      "[333]\tvalidation_0-rmse:39.33546\tvalidation_1-rmse:549.13199\n",
      "[334]\tvalidation_0-rmse:39.06389\tvalidation_1-rmse:548.27156\n",
      "[335]\tvalidation_0-rmse:38.79564\tvalidation_1-rmse:547.41812\n",
      "[336]\tvalidation_0-rmse:38.52906\tvalidation_1-rmse:546.57167\n",
      "[337]\tvalidation_0-rmse:38.26579\tvalidation_1-rmse:545.73209\n",
      "[338]\tvalidation_0-rmse:38.00323\tvalidation_1-rmse:544.89937\n",
      "[339]\tvalidation_0-rmse:37.74487\tvalidation_1-rmse:544.07353\n",
      "[340]\tvalidation_0-rmse:37.48776\tvalidation_1-rmse:543.25431\n",
      "[341]\tvalidation_0-rmse:37.23419\tvalidation_1-rmse:542.44185\n",
      "[342]\tvalidation_0-rmse:36.98187\tvalidation_1-rmse:541.63600\n",
      "[343]\tvalidation_0-rmse:36.73131\tvalidation_1-rmse:540.83677\n",
      "[344]\tvalidation_0-rmse:36.48170\tvalidation_1-rmse:540.04406\n",
      "[345]\tvalidation_0-rmse:36.23743\tvalidation_1-rmse:539.34862\n",
      "[346]\tvalidation_0-rmse:35.99139\tvalidation_1-rmse:538.61352\n",
      "[347]\tvalidation_0-rmse:35.74742\tvalidation_1-rmse:537.88467\n",
      "[348]\tvalidation_0-rmse:35.50765\tvalidation_1-rmse:537.11596\n",
      "[349]\tvalidation_0-rmse:35.26843\tvalidation_1-rmse:536.39903\n",
      "[350]\tvalidation_0-rmse:35.03439\tvalidation_1-rmse:535.64248\n",
      "[351]\tvalidation_0-rmse:34.80257\tvalidation_1-rmse:534.89206\n",
      "[352]\tvalidation_0-rmse:34.57178\tvalidation_1-rmse:534.14779\n",
      "[353]\tvalidation_0-rmse:34.34194\tvalidation_1-rmse:533.40953\n",
      "[354]\tvalidation_0-rmse:34.11768\tvalidation_1-rmse:532.67730\n",
      "[355]\tvalidation_0-rmse:33.89559\tvalidation_1-rmse:531.95109\n",
      "[356]\tvalidation_0-rmse:33.67457\tvalidation_1-rmse:531.23076\n",
      "[357]\tvalidation_0-rmse:33.45569\tvalidation_1-rmse:530.51634\n",
      "[358]\tvalidation_0-rmse:33.23993\tvalidation_1-rmse:529.80769\n",
      "[359]\tvalidation_0-rmse:33.02496\tvalidation_1-rmse:529.10482\n",
      "[360]\tvalidation_0-rmse:32.81337\tvalidation_1-rmse:528.40773\n",
      "[361]\tvalidation_0-rmse:32.60277\tvalidation_1-rmse:527.71628\n",
      "[362]\tvalidation_0-rmse:32.39528\tvalidation_1-rmse:527.03049\n",
      "[363]\tvalidation_0-rmse:32.18802\tvalidation_1-rmse:526.35024\n",
      "[364]\tvalidation_0-rmse:31.98125\tvalidation_1-rmse:525.67553\n",
      "[365]\tvalidation_0-rmse:31.77906\tvalidation_1-rmse:524.90012\n",
      "[366]\tvalidation_0-rmse:31.57558\tvalidation_1-rmse:524.27416\n",
      "[367]\tvalidation_0-rmse:31.37612\tvalidation_1-rmse:523.42527\n",
      "[368]\tvalidation_0-rmse:31.17684\tvalidation_1-rmse:522.80875\n",
      "[369]\tvalidation_0-rmse:30.97926\tvalidation_1-rmse:522.19752\n",
      "[370]\tvalidation_0-rmse:30.78378\tvalidation_1-rmse:521.59144\n",
      "[371]\tvalidation_0-rmse:30.59141\tvalidation_1-rmse:520.84237\n",
      "[372]\tvalidation_0-rmse:30.39967\tvalidation_1-rmse:520.24573\n",
      "[373]\tvalidation_0-rmse:30.21034\tvalidation_1-rmse:519.65413\n",
      "[374]\tvalidation_0-rmse:30.02093\tvalidation_1-rmse:518.82920\n",
      "[375]\tvalidation_0-rmse:29.83475\tvalidation_1-rmse:518.24645\n",
      "[376]\tvalidation_0-rmse:29.65009\tvalidation_1-rmse:517.42883\n",
      "[377]\tvalidation_0-rmse:29.46679\tvalidation_1-rmse:516.61540\n",
      "[378]\tvalidation_0-rmse:29.28482\tvalidation_1-rmse:515.80617\n",
      "[379]\tvalidation_0-rmse:29.10418\tvalidation_1-rmse:515.00112\n",
      "[380]\tvalidation_0-rmse:28.92528\tvalidation_1-rmse:514.20026\n",
      "[381]\tvalidation_0-rmse:28.74723\tvalidation_1-rmse:513.40358\n",
      "[382]\tvalidation_0-rmse:28.57050\tvalidation_1-rmse:512.61109\n",
      "[383]\tvalidation_0-rmse:28.39506\tvalidation_1-rmse:511.82266\n",
      "[384]\tvalidation_0-rmse:28.22089\tvalidation_1-rmse:511.03830\n",
      "[385]\tvalidation_0-rmse:28.04837\tvalidation_1-rmse:510.25801\n",
      "[386]\tvalidation_0-rmse:27.87672\tvalidation_1-rmse:509.48177\n",
      "[387]\tvalidation_0-rmse:27.70630\tvalidation_1-rmse:508.70960\n",
      "[388]\tvalidation_0-rmse:27.53712\tvalidation_1-rmse:507.94137\n",
      "[389]\tvalidation_0-rmse:27.36915\tvalidation_1-rmse:507.17720\n",
      "[390]\tvalidation_0-rmse:27.20279\tvalidation_1-rmse:506.41697\n",
      "[391]\tvalidation_0-rmse:27.03727\tvalidation_1-rmse:505.66068\n",
      "[392]\tvalidation_0-rmse:26.87257\tvalidation_1-rmse:504.90834\n",
      "[393]\tvalidation_0-rmse:26.70908\tvalidation_1-rmse:504.15981\n",
      "[394]\tvalidation_0-rmse:26.54707\tvalidation_1-rmse:503.41522\n",
      "[395]\tvalidation_0-rmse:26.38592\tvalidation_1-rmse:502.67444\n",
      "[396]\tvalidation_0-rmse:26.22591\tvalidation_1-rmse:501.93761\n",
      "[397]\tvalidation_0-rmse:26.06706\tvalidation_1-rmse:501.20458\n",
      "[398]\tvalidation_0-rmse:25.90935\tvalidation_1-rmse:500.47537\n",
      "[399]\tvalidation_0-rmse:25.75223\tvalidation_1-rmse:499.74986\n",
      "[400]\tvalidation_0-rmse:25.59622\tvalidation_1-rmse:499.02815\n",
      "[401]\tvalidation_0-rmse:25.44132\tvalidation_1-rmse:498.31015\n",
      "[402]\tvalidation_0-rmse:25.28750\tvalidation_1-rmse:497.59583\n",
      "[403]\tvalidation_0-rmse:25.13460\tvalidation_1-rmse:496.88533\n",
      "[404]\tvalidation_0-rmse:24.98409\tvalidation_1-rmse:496.17852\n",
      "[405]\tvalidation_0-rmse:24.83463\tvalidation_1-rmse:495.47528\n",
      "[406]\tvalidation_0-rmse:24.68624\tvalidation_1-rmse:494.77573\n",
      "[407]\tvalidation_0-rmse:24.53888\tvalidation_1-rmse:494.07975\n",
      "[408]\tvalidation_0-rmse:24.39256\tvalidation_1-rmse:493.38745\n",
      "[409]\tvalidation_0-rmse:24.24727\tvalidation_1-rmse:492.69873\n",
      "[410]\tvalidation_0-rmse:24.10221\tvalidation_1-rmse:492.01357\n",
      "[411]\tvalidation_0-rmse:23.95816\tvalidation_1-rmse:491.33198\n",
      "[412]\tvalidation_0-rmse:23.81512\tvalidation_1-rmse:490.65396\n",
      "[413]\tvalidation_0-rmse:23.67380\tvalidation_1-rmse:489.97938\n",
      "[414]\tvalidation_0-rmse:23.53271\tvalidation_1-rmse:489.30837\n",
      "[415]\tvalidation_0-rmse:23.39259\tvalidation_1-rmse:488.64080\n",
      "[416]\tvalidation_0-rmse:23.25345\tvalidation_1-rmse:487.97668\n",
      "[417]\tvalidation_0-rmse:23.11526\tvalidation_1-rmse:487.31600\n",
      "[418]\tvalidation_0-rmse:22.97875\tvalidation_1-rmse:486.65877\n",
      "[419]\tvalidation_0-rmse:22.84246\tvalidation_1-rmse:486.00497\n",
      "[420]\tvalidation_0-rmse:22.70710\tvalidation_1-rmse:485.35450\n",
      "[421]\tvalidation_0-rmse:22.57267\tvalidation_1-rmse:484.70736\n",
      "[422]\tvalidation_0-rmse:22.43985\tvalidation_1-rmse:484.06364\n",
      "[423]\tvalidation_0-rmse:22.30725\tvalidation_1-rmse:483.42326\n",
      "[424]\tvalidation_0-rmse:22.17557\tvalidation_1-rmse:482.78619\n",
      "[425]\tvalidation_0-rmse:22.04479\tvalidation_1-rmse:482.15244\n",
      "[426]\tvalidation_0-rmse:21.91490\tvalidation_1-rmse:481.52190\n",
      "[427]\tvalidation_0-rmse:21.78655\tvalidation_1-rmse:480.89467\n",
      "[428]\tvalidation_0-rmse:21.65840\tvalidation_1-rmse:480.27063\n",
      "[429]\tvalidation_0-rmse:21.53116\tvalidation_1-rmse:479.64992\n",
      "[430]\tvalidation_0-rmse:21.40479\tvalidation_1-rmse:479.03240\n",
      "[431]\tvalidation_0-rmse:21.27987\tvalidation_1-rmse:478.41808\n",
      "[432]\tvalidation_0-rmse:21.15518\tvalidation_1-rmse:477.80696\n",
      "[433]\tvalidation_0-rmse:21.03135\tvalidation_1-rmse:477.19903\n",
      "[434]\tvalidation_0-rmse:20.90835\tvalidation_1-rmse:476.59417\n",
      "[435]\tvalidation_0-rmse:20.78680\tvalidation_1-rmse:475.99251\n",
      "[436]\tvalidation_0-rmse:20.66545\tvalidation_1-rmse:475.39393\n",
      "[437]\tvalidation_0-rmse:20.54545\tvalidation_1-rmse:474.79842\n",
      "[438]\tvalidation_0-rmse:20.42574\tvalidation_1-rmse:474.20598\n",
      "[439]\tvalidation_0-rmse:20.30680\tvalidation_1-rmse:473.61662\n",
      "[440]\tvalidation_0-rmse:20.18867\tvalidation_1-rmse:473.03033\n",
      "[441]\tvalidation_0-rmse:20.07136\tvalidation_1-rmse:472.44711\n",
      "[442]\tvalidation_0-rmse:19.95482\tvalidation_1-rmse:471.86684\n",
      "[443]\tvalidation_0-rmse:19.83921\tvalidation_1-rmse:471.28965\n",
      "[444]\tvalidation_0-rmse:19.72436\tvalidation_1-rmse:470.71541\n",
      "[445]\tvalidation_0-rmse:19.61029\tvalidation_1-rmse:470.14411\n",
      "[446]\tvalidation_0-rmse:19.49698\tvalidation_1-rmse:469.57577\n",
      "[447]\tvalidation_0-rmse:19.38443\tvalidation_1-rmse:469.01037\n",
      "[448]\tvalidation_0-rmse:19.27264\tvalidation_1-rmse:468.44793\n",
      "[449]\tvalidation_0-rmse:19.16161\tvalidation_1-rmse:467.88843\n",
      "[450]\tvalidation_0-rmse:19.05132\tvalidation_1-rmse:467.33187\n",
      "[451]\tvalidation_0-rmse:18.94177\tvalidation_1-rmse:466.77816\n",
      "[452]\tvalidation_0-rmse:18.83294\tvalidation_1-rmse:466.22727\n",
      "[453]\tvalidation_0-rmse:18.72485\tvalidation_1-rmse:465.67920\n",
      "[454]\tvalidation_0-rmse:18.61749\tvalidation_1-rmse:465.13408\n",
      "[455]\tvalidation_0-rmse:18.51017\tvalidation_1-rmse:464.59178\n",
      "[456]\tvalidation_0-rmse:18.40355\tvalidation_1-rmse:464.05220\n",
      "[457]\tvalidation_0-rmse:18.29763\tvalidation_1-rmse:463.51544\n",
      "[458]\tvalidation_0-rmse:18.19240\tvalidation_1-rmse:462.98151\n",
      "[459]\tvalidation_0-rmse:18.08850\tvalidation_1-rmse:462.45028\n",
      "[460]\tvalidation_0-rmse:17.98464\tvalidation_1-rmse:461.92186\n",
      "[461]\tvalidation_0-rmse:17.88146\tvalidation_1-rmse:461.39616\n",
      "[462]\tvalidation_0-rmse:17.77894\tvalidation_1-rmse:460.87317\n",
      "[463]\tvalidation_0-rmse:17.67726\tvalidation_1-rmse:460.35287\n",
      "[464]\tvalidation_0-rmse:17.57624\tvalidation_1-rmse:459.83528\n",
      "[465]\tvalidation_0-rmse:17.47607\tvalidation_1-rmse:459.32040\n",
      "[466]\tvalidation_0-rmse:17.37635\tvalidation_1-rmse:458.80810\n",
      "[467]\tvalidation_0-rmse:17.27730\tvalidation_1-rmse:458.29849\n",
      "[468]\tvalidation_0-rmse:17.17888\tvalidation_1-rmse:457.79148\n",
      "[469]\tvalidation_0-rmse:17.08110\tvalidation_1-rmse:457.28716\n",
      "[470]\tvalidation_0-rmse:16.98396\tvalidation_1-rmse:456.78542\n",
      "[471]\tvalidation_0-rmse:16.88709\tvalidation_1-rmse:456.28628\n",
      "[472]\tvalidation_0-rmse:16.79118\tvalidation_1-rmse:455.78970\n",
      "[473]\tvalidation_0-rmse:16.69554\tvalidation_1-rmse:455.29572\n",
      "[474]\tvalidation_0-rmse:16.60104\tvalidation_1-rmse:454.80430\n",
      "[475]\tvalidation_0-rmse:16.50697\tvalidation_1-rmse:454.31535\n",
      "[476]\tvalidation_0-rmse:16.41314\tvalidation_1-rmse:453.82898\n",
      "[477]\tvalidation_0-rmse:16.32029\tvalidation_1-rmse:453.34507\n",
      "[478]\tvalidation_0-rmse:16.22766\tvalidation_1-rmse:452.86374\n",
      "[479]\tvalidation_0-rmse:16.13599\tvalidation_1-rmse:452.38487\n",
      "[480]\tvalidation_0-rmse:16.04454\tvalidation_1-rmse:451.90845\n",
      "[481]\tvalidation_0-rmse:15.95424\tvalidation_1-rmse:451.43451\n",
      "[482]\tvalidation_0-rmse:15.86394\tvalidation_1-rmse:450.96301\n",
      "[483]\tvalidation_0-rmse:15.77480\tvalidation_1-rmse:450.49397\n",
      "[484]\tvalidation_0-rmse:15.68564\tvalidation_1-rmse:450.02739\n",
      "[485]\tvalidation_0-rmse:15.59740\tvalidation_1-rmse:449.56315\n",
      "[486]\tvalidation_0-rmse:15.50994\tvalidation_1-rmse:449.10136\n",
      "[487]\tvalidation_0-rmse:15.42256\tvalidation_1-rmse:448.64192\n",
      "[488]\tvalidation_0-rmse:15.33622\tvalidation_1-rmse:448.18492\n",
      "[489]\tvalidation_0-rmse:15.24985\tvalidation_1-rmse:447.73027\n",
      "[490]\tvalidation_0-rmse:15.16458\tvalidation_1-rmse:447.27795\n",
      "[491]\tvalidation_0-rmse:15.07930\tvalidation_1-rmse:446.82797\n",
      "[492]\tvalidation_0-rmse:14.99364\tvalidation_1-rmse:446.38032\n",
      "[493]\tvalidation_0-rmse:14.90858\tvalidation_1-rmse:445.93501\n",
      "[494]\tvalidation_0-rmse:14.82382\tvalidation_1-rmse:445.49193\n",
      "[495]\tvalidation_0-rmse:14.73966\tvalidation_1-rmse:445.05117\n",
      "[496]\tvalidation_0-rmse:14.65606\tvalidation_1-rmse:444.61263\n",
      "[497]\tvalidation_0-rmse:14.57324\tvalidation_1-rmse:444.17642\n",
      "[498]\tvalidation_0-rmse:14.49095\tvalidation_1-rmse:443.74243\n",
      "[499]\tvalidation_0-rmse:14.40921\tvalidation_1-rmse:443.31065\n",
      "[500]\tvalidation_0-rmse:14.32800\tvalidation_1-rmse:442.88110\n",
      "[501]\tvalidation_0-rmse:14.24732\tvalidation_1-rmse:442.45375\n",
      "[502]\tvalidation_0-rmse:14.16716\tvalidation_1-rmse:442.02863\n",
      "[503]\tvalidation_0-rmse:14.08754\tvalidation_1-rmse:441.60570\n",
      "[504]\tvalidation_0-rmse:14.00843\tvalidation_1-rmse:441.18500\n",
      "[505]\tvalidation_0-rmse:13.92985\tvalidation_1-rmse:440.76651\n",
      "[506]\tvalidation_0-rmse:13.85176\tvalidation_1-rmse:440.35011\n",
      "[507]\tvalidation_0-rmse:13.77419\tvalidation_1-rmse:439.93593\n",
      "[508]\tvalidation_0-rmse:13.69711\tvalidation_1-rmse:439.52383\n",
      "[509]\tvalidation_0-rmse:13.62053\tvalidation_1-rmse:439.11384\n",
      "[510]\tvalidation_0-rmse:13.54447\tvalidation_1-rmse:438.70605\n",
      "[511]\tvalidation_0-rmse:13.46870\tvalidation_1-rmse:438.30035\n",
      "[512]\tvalidation_0-rmse:13.39344\tvalidation_1-rmse:437.89676\n",
      "[513]\tvalidation_0-rmse:13.31868\tvalidation_1-rmse:437.49525\n",
      "[514]\tvalidation_0-rmse:13.24455\tvalidation_1-rmse:437.09571\n",
      "[515]\tvalidation_0-rmse:13.17090\tvalidation_1-rmse:436.69828\n",
      "[516]\tvalidation_0-rmse:13.09772\tvalidation_1-rmse:436.30292\n",
      "[517]\tvalidation_0-rmse:13.02500\tvalidation_1-rmse:435.90955\n",
      "[518]\tvalidation_0-rmse:12.95262\tvalidation_1-rmse:435.51826\n",
      "[519]\tvalidation_0-rmse:12.88080\tvalidation_1-rmse:435.12895\n",
      "[520]\tvalidation_0-rmse:12.80944\tvalidation_1-rmse:434.74161\n",
      "[521]\tvalidation_0-rmse:12.73845\tvalidation_1-rmse:434.35636\n",
      "[522]\tvalidation_0-rmse:12.66799\tvalidation_1-rmse:433.97309\n",
      "[523]\tvalidation_0-rmse:12.59791\tvalidation_1-rmse:433.59178\n",
      "[524]\tvalidation_0-rmse:12.52834\tvalidation_1-rmse:433.21244\n",
      "[525]\tvalidation_0-rmse:12.45921\tvalidation_1-rmse:432.83507\n",
      "[526]\tvalidation_0-rmse:12.39046\tvalidation_1-rmse:432.45956\n",
      "[527]\tvalidation_0-rmse:12.32211\tvalidation_1-rmse:432.08603\n",
      "[528]\tvalidation_0-rmse:12.25422\tvalidation_1-rmse:431.71445\n",
      "[529]\tvalidation_0-rmse:12.18677\tvalidation_1-rmse:431.34473\n",
      "[530]\tvalidation_0-rmse:12.11970\tvalidation_1-rmse:430.97698\n",
      "[531]\tvalidation_0-rmse:12.05305\tvalidation_1-rmse:430.61109\n",
      "[532]\tvalidation_0-rmse:11.98689\tvalidation_1-rmse:430.24705\n",
      "[533]\tvalidation_0-rmse:11.92108\tvalidation_1-rmse:429.88497\n",
      "[534]\tvalidation_0-rmse:11.85568\tvalidation_1-rmse:429.52474\n",
      "[535]\tvalidation_0-rmse:11.79077\tvalidation_1-rmse:429.16636\n",
      "[536]\tvalidation_0-rmse:11.72619\tvalidation_1-rmse:428.80984\n",
      "[537]\tvalidation_0-rmse:11.66203\tvalidation_1-rmse:428.45516\n",
      "[538]\tvalidation_0-rmse:11.59834\tvalidation_1-rmse:428.10222\n",
      "[539]\tvalidation_0-rmse:11.53497\tvalidation_1-rmse:427.75113\n",
      "[540]\tvalidation_0-rmse:11.47200\tvalidation_1-rmse:427.40189\n",
      "[541]\tvalidation_0-rmse:11.40941\tvalidation_1-rmse:427.05438\n",
      "[542]\tvalidation_0-rmse:11.34731\tvalidation_1-rmse:426.70871\n",
      "[543]\tvalidation_0-rmse:11.28550\tvalidation_1-rmse:426.36478\n",
      "[544]\tvalidation_0-rmse:11.22410\tvalidation_1-rmse:426.02270\n",
      "[545]\tvalidation_0-rmse:11.16315\tvalidation_1-rmse:425.68234\n",
      "[546]\tvalidation_0-rmse:11.10245\tvalidation_1-rmse:425.34371\n",
      "[547]\tvalidation_0-rmse:11.04216\tvalidation_1-rmse:425.00683\n",
      "[548]\tvalidation_0-rmse:10.98226\tvalidation_1-rmse:424.67167\n",
      "[549]\tvalidation_0-rmse:10.92268\tvalidation_1-rmse:424.33823\n",
      "[550]\tvalidation_0-rmse:10.86344\tvalidation_1-rmse:424.00653\n",
      "[551]\tvalidation_0-rmse:10.80457\tvalidation_1-rmse:423.67656\n",
      "[552]\tvalidation_0-rmse:10.74611\tvalidation_1-rmse:423.34831\n",
      "[553]\tvalidation_0-rmse:10.68794\tvalidation_1-rmse:423.02168\n",
      "[554]\tvalidation_0-rmse:10.63022\tvalidation_1-rmse:422.69677\n",
      "[555]\tvalidation_0-rmse:10.57285\tvalidation_1-rmse:422.37349\n",
      "[556]\tvalidation_0-rmse:10.51576\tvalidation_1-rmse:422.05192\n",
      "[557]\tvalidation_0-rmse:10.45908\tvalidation_1-rmse:421.73196\n",
      "[558]\tvalidation_0-rmse:10.40268\tvalidation_1-rmse:421.41374\n",
      "[559]\tvalidation_0-rmse:10.34670\tvalidation_1-rmse:421.09711\n",
      "[560]\tvalidation_0-rmse:10.29098\tvalidation_1-rmse:420.78211\n",
      "[561]\tvalidation_0-rmse:10.23571\tvalidation_1-rmse:420.46871\n",
      "[562]\tvalidation_0-rmse:10.18075\tvalidation_1-rmse:420.15693\n",
      "[563]\tvalidation_0-rmse:10.12616\tvalidation_1-rmse:419.84675\n",
      "[564]\tvalidation_0-rmse:10.07177\tvalidation_1-rmse:419.53819\n",
      "[565]\tvalidation_0-rmse:10.01785\tvalidation_1-rmse:419.23122\n",
      "[566]\tvalidation_0-rmse:9.96411\tvalidation_1-rmse:418.92576\n",
      "[567]\tvalidation_0-rmse:9.91084\tvalidation_1-rmse:418.62190\n",
      "[568]\tvalidation_0-rmse:9.85775\tvalidation_1-rmse:418.31965\n",
      "[569]\tvalidation_0-rmse:9.80512\tvalidation_1-rmse:418.01889\n",
      "[570]\tvalidation_0-rmse:9.75283\tvalidation_1-rmse:417.71974\n",
      "[571]\tvalidation_0-rmse:9.70065\tvalidation_1-rmse:417.42208\n",
      "[572]\tvalidation_0-rmse:9.64899\tvalidation_1-rmse:417.12592\n",
      "[573]\tvalidation_0-rmse:9.59752\tvalidation_1-rmse:416.83136\n",
      "[574]\tvalidation_0-rmse:9.54642\tvalidation_1-rmse:416.53828\n",
      "[575]\tvalidation_0-rmse:9.49559\tvalidation_1-rmse:416.24671\n",
      "[576]\tvalidation_0-rmse:9.44499\tvalidation_1-rmse:415.95662\n",
      "[577]\tvalidation_0-rmse:9.39476\tvalidation_1-rmse:415.66802\n",
      "[578]\tvalidation_0-rmse:9.34483\tvalidation_1-rmse:415.38091\n",
      "[579]\tvalidation_0-rmse:9.29517\tvalidation_1-rmse:415.09529\n",
      "[580]\tvalidation_0-rmse:9.24562\tvalidation_1-rmse:414.81116\n",
      "[581]\tvalidation_0-rmse:9.19656\tvalidation_1-rmse:414.52840\n",
      "[582]\tvalidation_0-rmse:9.14776\tvalidation_1-rmse:414.24714\n",
      "[583]\tvalidation_0-rmse:9.09924\tvalidation_1-rmse:413.96736\n",
      "[584]\tvalidation_0-rmse:9.05099\tvalidation_1-rmse:413.68895\n",
      "[585]\tvalidation_0-rmse:9.00306\tvalidation_1-rmse:413.41203\n",
      "[586]\tvalidation_0-rmse:8.95518\tvalidation_1-rmse:413.13649\n",
      "[587]\tvalidation_0-rmse:8.90758\tvalidation_1-rmse:412.86232\n",
      "[588]\tvalidation_0-rmse:8.86029\tvalidation_1-rmse:412.58963\n",
      "[589]\tvalidation_0-rmse:8.81329\tvalidation_1-rmse:412.31831\n",
      "[590]\tvalidation_0-rmse:8.76653\tvalidation_1-rmse:412.04837\n",
      "[591]\tvalidation_0-rmse:8.72009\tvalidation_1-rmse:411.77980\n",
      "[592]\tvalidation_0-rmse:8.67393\tvalidation_1-rmse:411.51260\n",
      "[593]\tvalidation_0-rmse:8.62807\tvalidation_1-rmse:411.24677\n",
      "[594]\tvalidation_0-rmse:8.58236\tvalidation_1-rmse:410.98231\n",
      "[595]\tvalidation_0-rmse:8.53715\tvalidation_1-rmse:410.71923\n",
      "[596]\tvalidation_0-rmse:8.49221\tvalidation_1-rmse:410.45751\n",
      "[597]\tvalidation_0-rmse:8.44752\tvalidation_1-rmse:410.19716\n",
      "[598]\tvalidation_0-rmse:8.40308\tvalidation_1-rmse:409.93807\n",
      "[599]\tvalidation_0-rmse:8.35889\tvalidation_1-rmse:409.68034\n",
      "[600]\tvalidation_0-rmse:8.31491\tvalidation_1-rmse:409.42399\n",
      "[601]\tvalidation_0-rmse:8.27105\tvalidation_1-rmse:409.16888\n",
      "[602]\tvalidation_0-rmse:8.22756\tvalidation_1-rmse:408.91515\n",
      "[603]\tvalidation_0-rmse:8.18432\tvalidation_1-rmse:408.66267\n",
      "[604]\tvalidation_0-rmse:8.14133\tvalidation_1-rmse:408.41145\n",
      "[605]\tvalidation_0-rmse:8.09859\tvalidation_1-rmse:408.16159\n",
      "[606]\tvalidation_0-rmse:8.05590\tvalidation_1-rmse:407.91299\n",
      "[607]\tvalidation_0-rmse:8.01364\tvalidation_1-rmse:407.66564\n",
      "[608]\tvalidation_0-rmse:7.97162\tvalidation_1-rmse:407.41954\n",
      "[609]\tvalidation_0-rmse:7.92983\tvalidation_1-rmse:407.17469\n",
      "[610]\tvalidation_0-rmse:7.88831\tvalidation_1-rmse:406.93110\n",
      "[611]\tvalidation_0-rmse:7.84700\tvalidation_1-rmse:406.68876\n",
      "[612]\tvalidation_0-rmse:7.80581\tvalidation_1-rmse:406.44767\n",
      "[613]\tvalidation_0-rmse:7.76497\tvalidation_1-rmse:406.20783\n",
      "[614]\tvalidation_0-rmse:7.72437\tvalidation_1-rmse:405.96925\n",
      "[615]\tvalidation_0-rmse:7.68399\tvalidation_1-rmse:405.73191\n",
      "[616]\tvalidation_0-rmse:7.64370\tvalidation_1-rmse:405.49571\n",
      "[617]\tvalidation_0-rmse:7.60377\tvalidation_1-rmse:405.26076\n",
      "[618]\tvalidation_0-rmse:7.56408\tvalidation_1-rmse:405.02706\n",
      "[619]\tvalidation_0-rmse:7.52461\tvalidation_1-rmse:404.79450\n",
      "[620]\tvalidation_0-rmse:7.48536\tvalidation_1-rmse:404.56319\n",
      "[621]\tvalidation_0-rmse:7.44633\tvalidation_1-rmse:404.33301\n",
      "[622]\tvalidation_0-rmse:7.40731\tvalidation_1-rmse:404.10398\n",
      "[623]\tvalidation_0-rmse:7.36873\tvalidation_1-rmse:403.87618\n",
      "[624]\tvalidation_0-rmse:7.33036\tvalidation_1-rmse:403.64953\n",
      "[625]\tvalidation_0-rmse:7.29219\tvalidation_1-rmse:403.42401\n",
      "[626]\tvalidation_0-rmse:7.25425\tvalidation_1-rmse:403.19962\n",
      "[627]\tvalidation_0-rmse:7.21640\tvalidation_1-rmse:402.97649\n",
      "[628]\tvalidation_0-rmse:7.17890\tvalidation_1-rmse:402.75448\n",
      "[629]\tvalidation_0-rmse:7.14162\tvalidation_1-rmse:402.53361\n",
      "[630]\tvalidation_0-rmse:7.10451\tvalidation_1-rmse:402.31387\n",
      "[631]\tvalidation_0-rmse:7.06764\tvalidation_1-rmse:402.09516\n",
      "[632]\tvalidation_0-rmse:7.03099\tvalidation_1-rmse:401.87758\n",
      "[633]\tvalidation_0-rmse:6.99455\tvalidation_1-rmse:401.66113\n",
      "[634]\tvalidation_0-rmse:6.95825\tvalidation_1-rmse:401.44582\n",
      "[635]\tvalidation_0-rmse:6.92218\tvalidation_1-rmse:401.23163\n",
      "[636]\tvalidation_0-rmse:6.88631\tvalidation_1-rmse:401.01848\n",
      "[637]\tvalidation_0-rmse:6.85064\tvalidation_1-rmse:400.80644\n",
      "[638]\tvalidation_0-rmse:6.81521\tvalidation_1-rmse:400.59554\n",
      "[639]\tvalidation_0-rmse:6.77994\tvalidation_1-rmse:400.38567\n",
      "[640]\tvalidation_0-rmse:6.74487\tvalidation_1-rmse:400.17692\n",
      "[641]\tvalidation_0-rmse:6.70999\tvalidation_1-rmse:399.96919\n",
      "[642]\tvalidation_0-rmse:6.67530\tvalidation_1-rmse:399.76248\n",
      "[643]\tvalidation_0-rmse:6.64084\tvalidation_1-rmse:399.55690\n",
      "[644]\tvalidation_0-rmse:6.60654\tvalidation_1-rmse:399.35234\n",
      "[645]\tvalidation_0-rmse:6.57244\tvalidation_1-rmse:399.14880\n",
      "[646]\tvalidation_0-rmse:6.53850\tvalidation_1-rmse:398.94627\n",
      "[647]\tvalidation_0-rmse:6.50478\tvalidation_1-rmse:398.74487\n",
      "[648]\tvalidation_0-rmse:6.47126\tvalidation_1-rmse:398.54450\n",
      "[649]\tvalidation_0-rmse:6.43790\tvalidation_1-rmse:398.34513\n",
      "[650]\tvalidation_0-rmse:6.40474\tvalidation_1-rmse:398.14679\n",
      "[651]\tvalidation_0-rmse:6.37176\tvalidation_1-rmse:397.94946\n",
      "[652]\tvalidation_0-rmse:6.33897\tvalidation_1-rmse:397.75315\n",
      "[653]\tvalidation_0-rmse:6.30636\tvalidation_1-rmse:397.55785\n",
      "[654]\tvalidation_0-rmse:6.27394\tvalidation_1-rmse:397.36346\n",
      "[655]\tvalidation_0-rmse:6.24168\tvalidation_1-rmse:397.17009\n",
      "[656]\tvalidation_0-rmse:6.20961\tvalidation_1-rmse:396.97772\n",
      "[657]\tvalidation_0-rmse:6.17771\tvalidation_1-rmse:396.78638\n",
      "[658]\tvalidation_0-rmse:6.14596\tvalidation_1-rmse:396.59594\n",
      "[659]\tvalidation_0-rmse:6.11439\tvalidation_1-rmse:396.40651\n",
      "[660]\tvalidation_0-rmse:6.08301\tvalidation_1-rmse:396.21799\n",
      "[661]\tvalidation_0-rmse:6.05182\tvalidation_1-rmse:396.03047\n",
      "[662]\tvalidation_0-rmse:6.02081\tvalidation_1-rmse:395.84397\n",
      "[663]\tvalidation_0-rmse:5.98996\tvalidation_1-rmse:395.65839\n",
      "[664]\tvalidation_0-rmse:5.95926\tvalidation_1-rmse:395.47369\n",
      "[665]\tvalidation_0-rmse:5.92876\tvalidation_1-rmse:395.29002\n",
      "[666]\tvalidation_0-rmse:5.89842\tvalidation_1-rmse:395.10724\n",
      "[667]\tvalidation_0-rmse:5.86824\tvalidation_1-rmse:394.92536\n",
      "[668]\tvalidation_0-rmse:5.83820\tvalidation_1-rmse:394.74450\n",
      "[669]\tvalidation_0-rmse:5.80831\tvalidation_1-rmse:394.56453\n",
      "[670]\tvalidation_0-rmse:5.77864\tvalidation_1-rmse:394.38548\n",
      "[671]\tvalidation_0-rmse:5.74913\tvalidation_1-rmse:394.20731\n",
      "[672]\tvalidation_0-rmse:5.71974\tvalidation_1-rmse:394.03006\n",
      "[673]\tvalidation_0-rmse:5.69056\tvalidation_1-rmse:393.85370\n",
      "[674]\tvalidation_0-rmse:5.66151\tvalidation_1-rmse:393.67823\n",
      "[675]\tvalidation_0-rmse:5.63265\tvalidation_1-rmse:393.50367\n",
      "[676]\tvalidation_0-rmse:5.60391\tvalidation_1-rmse:393.33002\n",
      "[677]\tvalidation_0-rmse:5.57537\tvalidation_1-rmse:393.15725\n",
      "[678]\tvalidation_0-rmse:5.54695\tvalidation_1-rmse:392.98539\n",
      "[679]\tvalidation_0-rmse:5.51869\tvalidation_1-rmse:392.81443\n",
      "[680]\tvalidation_0-rmse:5.49059\tvalidation_1-rmse:392.64425\n",
      "[681]\tvalidation_0-rmse:5.46268\tvalidation_1-rmse:392.47498\n",
      "[682]\tvalidation_0-rmse:5.43492\tvalidation_1-rmse:392.30660\n",
      "[683]\tvalidation_0-rmse:5.40727\tvalidation_1-rmse:392.13901\n",
      "[684]\tvalidation_0-rmse:5.37978\tvalidation_1-rmse:391.97231\n",
      "[685]\tvalidation_0-rmse:5.35247\tvalidation_1-rmse:391.80641\n",
      "[686]\tvalidation_0-rmse:5.32521\tvalidation_1-rmse:391.64140\n",
      "[687]\tvalidation_0-rmse:5.29820\tvalidation_1-rmse:391.47718\n",
      "[688]\tvalidation_0-rmse:5.27134\tvalidation_1-rmse:391.31385\n",
      "[689]\tvalidation_0-rmse:5.24459\tvalidation_1-rmse:391.15131\n",
      "[690]\tvalidation_0-rmse:5.21799\tvalidation_1-rmse:390.98967\n",
      "[691]\tvalidation_0-rmse:5.19157\tvalidation_1-rmse:390.82881\n",
      "[692]\tvalidation_0-rmse:5.16528\tvalidation_1-rmse:390.66874\n",
      "[693]\tvalidation_0-rmse:5.13910\tvalidation_1-rmse:390.50956\n",
      "[694]\tvalidation_0-rmse:5.11311\tvalidation_1-rmse:390.35117\n",
      "[695]\tvalidation_0-rmse:5.08724\tvalidation_1-rmse:390.19357\n",
      "[696]\tvalidation_0-rmse:5.06112\tvalidation_1-rmse:390.03675\n",
      "[697]\tvalidation_0-rmse:5.03516\tvalidation_1-rmse:389.88072\n",
      "[698]\tvalidation_0-rmse:5.00934\tvalidation_1-rmse:389.72547\n",
      "[699]\tvalidation_0-rmse:4.98369\tvalidation_1-rmse:389.57111\n",
      "[700]\tvalidation_0-rmse:4.95800\tvalidation_1-rmse:389.41754\n",
      "[701]\tvalidation_0-rmse:4.93247\tvalidation_1-rmse:389.26475\n",
      "[702]\tvalidation_0-rmse:4.90706\tvalidation_1-rmse:389.11263\n",
      "[703]\tvalidation_0-rmse:4.88181\tvalidation_1-rmse:388.96131\n",
      "[704]\tvalidation_0-rmse:4.85670\tvalidation_1-rmse:388.81076\n",
      "[705]\tvalidation_0-rmse:4.83174\tvalidation_1-rmse:388.66099\n",
      "[706]\tvalidation_0-rmse:4.80692\tvalidation_1-rmse:388.51201\n",
      "[707]\tvalidation_0-rmse:4.78226\tvalidation_1-rmse:388.36381\n",
      "[708]\tvalidation_0-rmse:4.75772\tvalidation_1-rmse:388.21629\n",
      "[709]\tvalidation_0-rmse:4.73332\tvalidation_1-rmse:388.06955\n",
      "[710]\tvalidation_0-rmse:4.70907\tvalidation_1-rmse:387.92359\n",
      "[711]\tvalidation_0-rmse:4.68494\tvalidation_1-rmse:387.77830\n",
      "[712]\tvalidation_0-rmse:4.66095\tvalidation_1-rmse:387.63380\n",
      "[713]\tvalidation_0-rmse:4.63709\tvalidation_1-rmse:387.49007\n",
      "[714]\tvalidation_0-rmse:4.61335\tvalidation_1-rmse:387.34702\n",
      "[715]\tvalidation_0-rmse:4.59005\tvalidation_1-rmse:387.20475\n",
      "[716]\tvalidation_0-rmse:4.56687\tvalidation_1-rmse:387.06315\n",
      "[717]\tvalidation_0-rmse:4.54383\tvalidation_1-rmse:386.92233\n",
      "[718]\tvalidation_0-rmse:4.52090\tvalidation_1-rmse:386.78218\n",
      "[719]\tvalidation_0-rmse:4.49809\tvalidation_1-rmse:386.64270\n",
      "[720]\tvalidation_0-rmse:4.47541\tvalidation_1-rmse:386.50400\n",
      "[721]\tvalidation_0-rmse:4.45284\tvalidation_1-rmse:386.36597\n",
      "[722]\tvalidation_0-rmse:4.43039\tvalidation_1-rmse:386.22862\n",
      "[723]\tvalidation_0-rmse:4.40806\tvalidation_1-rmse:386.09205\n",
      "[724]\tvalidation_0-rmse:4.38582\tvalidation_1-rmse:385.95614\n",
      "[725]\tvalidation_0-rmse:4.36372\tvalidation_1-rmse:385.82090\n",
      "[726]\tvalidation_0-rmse:4.34171\tvalidation_1-rmse:385.68634\n",
      "[727]\tvalidation_0-rmse:4.31981\tvalidation_1-rmse:385.55244\n",
      "[728]\tvalidation_0-rmse:4.29798\tvalidation_1-rmse:385.41921\n",
      "[729]\tvalidation_0-rmse:4.27627\tvalidation_1-rmse:385.28665\n",
      "[730]\tvalidation_0-rmse:4.25468\tvalidation_1-rmse:385.15487\n",
      "[731]\tvalidation_0-rmse:4.23321\tvalidation_1-rmse:385.02376\n",
      "[732]\tvalidation_0-rmse:4.21184\tvalidation_1-rmse:384.89321\n",
      "[733]\tvalidation_0-rmse:4.19062\tvalidation_1-rmse:384.76333\n",
      "[734]\tvalidation_0-rmse:4.16956\tvalidation_1-rmse:384.63412\n",
      "[735]\tvalidation_0-rmse:4.14861\tvalidation_1-rmse:384.50557\n",
      "[736]\tvalidation_0-rmse:4.12769\tvalidation_1-rmse:384.37769\n",
      "[737]\tvalidation_0-rmse:4.10696\tvalidation_1-rmse:384.25049\n",
      "[738]\tvalidation_0-rmse:4.08636\tvalidation_1-rmse:384.12395\n",
      "[739]\tvalidation_0-rmse:4.06580\tvalidation_1-rmse:383.99807\n",
      "[740]\tvalidation_0-rmse:4.04521\tvalidation_1-rmse:383.87276\n",
      "[741]\tvalidation_0-rmse:4.02474\tvalidation_1-rmse:383.74812\n",
      "[742]\tvalidation_0-rmse:4.00439\tvalidation_1-rmse:383.62414\n",
      "[743]\tvalidation_0-rmse:3.98415\tvalidation_1-rmse:383.50071\n",
      "[744]\tvalidation_0-rmse:3.96396\tvalidation_1-rmse:383.37795\n",
      "[745]\tvalidation_0-rmse:3.94394\tvalidation_1-rmse:383.25587\n",
      "[746]\tvalidation_0-rmse:3.92396\tvalidation_1-rmse:383.13433\n",
      "[747]\tvalidation_0-rmse:3.90415\tvalidation_1-rmse:383.01347\n",
      "[748]\tvalidation_0-rmse:3.88438\tvalidation_1-rmse:382.89317\n",
      "[749]\tvalidation_0-rmse:3.86472\tvalidation_1-rmse:382.77352\n",
      "[750]\tvalidation_0-rmse:3.84521\tvalidation_1-rmse:382.65444\n",
      "[751]\tvalidation_0-rmse:3.82577\tvalidation_1-rmse:382.53602\n",
      "[752]\tvalidation_0-rmse:3.80647\tvalidation_1-rmse:382.41816\n",
      "[753]\tvalidation_0-rmse:3.78721\tvalidation_1-rmse:382.30086\n",
      "[754]\tvalidation_0-rmse:3.76807\tvalidation_1-rmse:382.18422\n",
      "[755]\tvalidation_0-rmse:3.74906\tvalidation_1-rmse:382.06813\n",
      "[756]\tvalidation_0-rmse:3.73011\tvalidation_1-rmse:381.95261\n",
      "[757]\tvalidation_0-rmse:3.71132\tvalidation_1-rmse:381.83775\n",
      "[758]\tvalidation_0-rmse:3.69258\tvalidation_1-rmse:381.72345\n",
      "[759]\tvalidation_0-rmse:3.67397\tvalidation_1-rmse:381.60970\n",
      "[760]\tvalidation_0-rmse:3.65542\tvalidation_1-rmse:381.49650\n",
      "[761]\tvalidation_0-rmse:3.63696\tvalidation_1-rmse:381.38386\n",
      "[762]\tvalidation_0-rmse:3.61866\tvalidation_1-rmse:381.27189\n",
      "[763]\tvalidation_0-rmse:3.60040\tvalidation_1-rmse:381.16047\n",
      "[764]\tvalidation_0-rmse:3.58229\tvalidation_1-rmse:381.04960\n",
      "[765]\tvalidation_0-rmse:3.56422\tvalidation_1-rmse:380.93930\n",
      "[766]\tvalidation_0-rmse:3.54625\tvalidation_1-rmse:380.82954\n",
      "[767]\tvalidation_0-rmse:3.52842\tvalidation_1-rmse:380.72034\n",
      "[768]\tvalidation_0-rmse:3.51064\tvalidation_1-rmse:380.61170\n",
      "[769]\tvalidation_0-rmse:3.49299\tvalidation_1-rmse:380.50361\n",
      "[770]\tvalidation_0-rmse:3.47540\tvalidation_1-rmse:380.39608\n",
      "[771]\tvalidation_0-rmse:3.45790\tvalidation_1-rmse:380.28909\n",
      "[772]\tvalidation_0-rmse:3.44054\tvalidation_1-rmse:380.18267\n",
      "[773]\tvalidation_0-rmse:3.42320\tvalidation_1-rmse:380.07669\n",
      "[774]\tvalidation_0-rmse:3.40602\tvalidation_1-rmse:379.97126\n",
      "[775]\tvalidation_0-rmse:3.38887\tvalidation_1-rmse:379.86639\n",
      "[776]\tvalidation_0-rmse:3.37187\tvalidation_1-rmse:379.76207\n",
      "[777]\tvalidation_0-rmse:3.35491\tvalidation_1-rmse:379.65830\n",
      "[778]\tvalidation_0-rmse:3.33808\tvalidation_1-rmse:379.55498\n",
      "[779]\tvalidation_0-rmse:3.32136\tvalidation_1-rmse:379.45221\n",
      "[780]\tvalidation_0-rmse:3.30466\tvalidation_1-rmse:379.35000\n",
      "[781]\tvalidation_0-rmse:3.28810\tvalidation_1-rmse:379.24834\n",
      "[782]\tvalidation_0-rmse:3.27164\tvalidation_1-rmse:379.14711\n",
      "[783]\tvalidation_0-rmse:3.25521\tvalidation_1-rmse:379.04645\n",
      "[784]\tvalidation_0-rmse:3.23885\tvalidation_1-rmse:378.94623\n",
      "[785]\tvalidation_0-rmse:3.22258\tvalidation_1-rmse:378.84656\n",
      "[786]\tvalidation_0-rmse:3.20644\tvalidation_1-rmse:378.74745\n",
      "[787]\tvalidation_0-rmse:3.19039\tvalidation_1-rmse:378.64878\n",
      "[788]\tvalidation_0-rmse:3.17445\tvalidation_1-rmse:378.55066\n",
      "[789]\tvalidation_0-rmse:3.15852\tvalidation_1-rmse:378.45299\n",
      "[790]\tvalidation_0-rmse:3.14272\tvalidation_1-rmse:378.35586\n",
      "[791]\tvalidation_0-rmse:3.12702\tvalidation_1-rmse:378.25919\n",
      "[792]\tvalidation_0-rmse:3.11122\tvalidation_1-rmse:378.16295\n",
      "[793]\tvalidation_0-rmse:3.09543\tvalidation_1-rmse:378.06726\n",
      "[794]\tvalidation_0-rmse:3.07972\tvalidation_1-rmse:377.97202\n",
      "[795]\tvalidation_0-rmse:3.06410\tvalidation_1-rmse:377.87734\n",
      "[796]\tvalidation_0-rmse:3.04863\tvalidation_1-rmse:377.78309\n",
      "[797]\tvalidation_0-rmse:3.03317\tvalidation_1-rmse:377.68928\n",
      "[798]\tvalidation_0-rmse:3.01780\tvalidation_1-rmse:377.59603\n",
      "[799]\tvalidation_0-rmse:3.00251\tvalidation_1-rmse:377.50322\n",
      "[800]\tvalidation_0-rmse:2.98729\tvalidation_1-rmse:377.41085\n",
      "[801]\tvalidation_0-rmse:2.97215\tvalidation_1-rmse:377.31893\n",
      "[802]\tvalidation_0-rmse:2.95714\tvalidation_1-rmse:377.22745\n",
      "[803]\tvalidation_0-rmse:2.94217\tvalidation_1-rmse:377.13652\n",
      "[804]\tvalidation_0-rmse:2.92727\tvalidation_1-rmse:377.04603\n",
      "[805]\tvalidation_0-rmse:2.91249\tvalidation_1-rmse:376.95598\n",
      "[806]\tvalidation_0-rmse:2.89775\tvalidation_1-rmse:376.86638\n",
      "[807]\tvalidation_0-rmse:2.88311\tvalidation_1-rmse:376.77721\n",
      "[808]\tvalidation_0-rmse:2.86871\tvalidation_1-rmse:376.68849\n",
      "[809]\tvalidation_0-rmse:2.85419\tvalidation_1-rmse:376.60021\n",
      "[810]\tvalidation_0-rmse:2.83974\tvalidation_1-rmse:376.51237\n",
      "[811]\tvalidation_0-rmse:2.82540\tvalidation_1-rmse:376.42498\n",
      "[812]\tvalidation_0-rmse:2.81129\tvalidation_1-rmse:376.33802\n",
      "[813]\tvalidation_0-rmse:2.79707\tvalidation_1-rmse:376.25151\n",
      "[814]\tvalidation_0-rmse:2.78292\tvalidation_1-rmse:376.16544\n",
      "[815]\tvalidation_0-rmse:2.76903\tvalidation_1-rmse:376.07980\n",
      "[816]\tvalidation_0-rmse:2.75503\tvalidation_1-rmse:375.99461\n",
      "[817]\tvalidation_0-rmse:2.74113\tvalidation_1-rmse:375.90987\n",
      "[818]\tvalidation_0-rmse:2.72745\tvalidation_1-rmse:375.82556\n",
      "[819]\tvalidation_0-rmse:2.71367\tvalidation_1-rmse:375.74169\n",
      "[820]\tvalidation_0-rmse:2.70000\tvalidation_1-rmse:375.65827\n",
      "[821]\tvalidation_0-rmse:2.68653\tvalidation_1-rmse:375.57528\n",
      "[822]\tvalidation_0-rmse:2.67298\tvalidation_1-rmse:375.49263\n",
      "[823]\tvalidation_0-rmse:2.65948\tvalidation_1-rmse:375.41042\n",
      "[824]\tvalidation_0-rmse:2.64608\tvalidation_1-rmse:375.32865\n",
      "[825]\tvalidation_0-rmse:2.63288\tvalidation_1-rmse:375.24731\n",
      "[826]\tvalidation_0-rmse:2.61962\tvalidation_1-rmse:375.16632\n",
      "[827]\tvalidation_0-rmse:2.60641\tvalidation_1-rmse:375.08576\n",
      "[828]\tvalidation_0-rmse:2.59326\tvalidation_1-rmse:375.00564\n",
      "[829]\tvalidation_0-rmse:2.58020\tvalidation_1-rmse:374.92596\n",
      "[830]\tvalidation_0-rmse:2.56733\tvalidation_1-rmse:374.84661\n",
      "[831]\tvalidation_0-rmse:2.55440\tvalidation_1-rmse:374.76771\n",
      "[832]\tvalidation_0-rmse:2.54150\tvalidation_1-rmse:374.68913\n",
      "[833]\tvalidation_0-rmse:2.52871\tvalidation_1-rmse:374.61100\n",
      "[834]\tvalidation_0-rmse:2.51611\tvalidation_1-rmse:374.53330\n",
      "[835]\tvalidation_0-rmse:2.50344\tvalidation_1-rmse:374.45594\n",
      "[836]\tvalidation_0-rmse:2.49082\tvalidation_1-rmse:374.37901\n",
      "[837]\tvalidation_0-rmse:2.47827\tvalidation_1-rmse:374.30242\n",
      "[838]\tvalidation_0-rmse:2.46580\tvalidation_1-rmse:374.22626\n",
      "[839]\tvalidation_0-rmse:2.45351\tvalidation_1-rmse:374.15044\n",
      "[840]\tvalidation_0-rmse:2.44117\tvalidation_1-rmse:374.07505\n",
      "[841]\tvalidation_0-rmse:2.42887\tvalidation_1-rmse:374.00000\n",
      "[842]\tvalidation_0-rmse:2.41666\tvalidation_1-rmse:373.92539\n",
      "[843]\tvalidation_0-rmse:2.40461\tvalidation_1-rmse:373.85110\n",
      "[844]\tvalidation_0-rmse:2.39251\tvalidation_1-rmse:373.77716\n",
      "[845]\tvalidation_0-rmse:2.38046\tvalidation_1-rmse:373.70364\n",
      "[846]\tvalidation_0-rmse:2.36850\tvalidation_1-rmse:373.63046\n",
      "[847]\tvalidation_0-rmse:2.35662\tvalidation_1-rmse:373.55771\n",
      "[848]\tvalidation_0-rmse:2.34479\tvalidation_1-rmse:373.48530\n",
      "[849]\tvalidation_0-rmse:2.33302\tvalidation_1-rmse:373.41322\n",
      "[850]\tvalidation_0-rmse:2.32132\tvalidation_1-rmse:373.34158\n",
      "[851]\tvalidation_0-rmse:2.30968\tvalidation_1-rmse:373.27027\n",
      "[852]\tvalidation_0-rmse:2.29809\tvalidation_1-rmse:373.19929\n",
      "[853]\tvalidation_0-rmse:2.28656\tvalidation_1-rmse:373.12863\n",
      "[854]\tvalidation_0-rmse:2.27510\tvalidation_1-rmse:373.05841\n",
      "[855]\tvalidation_0-rmse:2.26369\tvalidation_1-rmse:372.98853\n",
      "[856]\tvalidation_0-rmse:2.25235\tvalidation_1-rmse:372.91898\n",
      "[857]\tvalidation_0-rmse:2.24105\tvalidation_1-rmse:372.84975\n",
      "[858]\tvalidation_0-rmse:2.22982\tvalidation_1-rmse:372.78086\n",
      "[859]\tvalidation_0-rmse:2.21865\tvalidation_1-rmse:372.71240\n",
      "[860]\tvalidation_0-rmse:2.20754\tvalidation_1-rmse:372.64428\n",
      "[861]\tvalidation_0-rmse:2.19649\tvalidation_1-rmse:372.57647\n",
      "[862]\tvalidation_0-rmse:2.18549\tvalidation_1-rmse:372.50901\n",
      "[863]\tvalidation_0-rmse:2.17455\tvalidation_1-rmse:372.44187\n",
      "[864]\tvalidation_0-rmse:2.16366\tvalidation_1-rmse:372.37506\n",
      "[865]\tvalidation_0-rmse:2.15283\tvalidation_1-rmse:372.30859\n",
      "[866]\tvalidation_0-rmse:2.14205\tvalidation_1-rmse:372.24244\n",
      "[867]\tvalidation_0-rmse:2.13133\tvalidation_1-rmse:372.17662\n",
      "[868]\tvalidation_0-rmse:2.12066\tvalidation_1-rmse:372.11113\n",
      "[869]\tvalidation_0-rmse:2.11005\tvalidation_1-rmse:372.04597\n",
      "[870]\tvalidation_0-rmse:2.09949\tvalidation_1-rmse:371.98113\n",
      "[871]\tvalidation_0-rmse:2.08898\tvalidation_1-rmse:371.91663\n",
      "[872]\tvalidation_0-rmse:2.07853\tvalidation_1-rmse:371.85246\n",
      "[873]\tvalidation_0-rmse:2.06814\tvalidation_1-rmse:371.78861\n",
      "[874]\tvalidation_0-rmse:2.05780\tvalidation_1-rmse:371.72510\n",
      "[875]\tvalidation_0-rmse:2.04751\tvalidation_1-rmse:371.66191\n",
      "[876]\tvalidation_0-rmse:2.03728\tvalidation_1-rmse:371.59906\n",
      "[877]\tvalidation_0-rmse:2.02712\tvalidation_1-rmse:371.53653\n",
      "[878]\tvalidation_0-rmse:2.01699\tvalidation_1-rmse:371.47433\n",
      "[879]\tvalidation_0-rmse:2.00692\tvalidation_1-rmse:371.41247\n",
      "[880]\tvalidation_0-rmse:1.99691\tvalidation_1-rmse:371.35092\n",
      "[881]\tvalidation_0-rmse:1.98693\tvalidation_1-rmse:371.28960\n",
      "[882]\tvalidation_0-rmse:1.97701\tvalidation_1-rmse:371.22861\n",
      "[883]\tvalidation_0-rmse:1.96715\tvalidation_1-rmse:371.16795\n",
      "[884]\tvalidation_0-rmse:1.95733\tvalidation_1-rmse:371.10761\n",
      "[885]\tvalidation_0-rmse:1.94757\tvalidation_1-rmse:371.04760\n",
      "[886]\tvalidation_0-rmse:1.93784\tvalidation_1-rmse:370.98782\n",
      "[887]\tvalidation_0-rmse:1.92817\tvalidation_1-rmse:370.92836\n",
      "[888]\tvalidation_0-rmse:1.91855\tvalidation_1-rmse:370.86923\n",
      "[889]\tvalidation_0-rmse:1.90899\tvalidation_1-rmse:370.81043\n",
      "[890]\tvalidation_0-rmse:1.89947\tvalidation_1-rmse:370.75186\n",
      "[891]\tvalidation_0-rmse:1.88999\tvalidation_1-rmse:370.69360\n",
      "[892]\tvalidation_0-rmse:1.88057\tvalidation_1-rmse:370.63567\n",
      "[893]\tvalidation_0-rmse:1.87119\tvalidation_1-rmse:370.57797\n",
      "[894]\tvalidation_0-rmse:1.86186\tvalidation_1-rmse:370.52060\n",
      "[895]\tvalidation_0-rmse:1.85258\tvalidation_1-rmse:370.46355\n",
      "[896]\tvalidation_0-rmse:1.84335\tvalidation_1-rmse:370.40672\n",
      "[897]\tvalidation_0-rmse:1.83416\tvalidation_1-rmse:370.35022\n",
      "[898]\tvalidation_0-rmse:1.82501\tvalidation_1-rmse:370.29394\n",
      "[899]\tvalidation_0-rmse:1.81592\tvalidation_1-rmse:370.23798\n",
      "[900]\tvalidation_0-rmse:1.80687\tvalidation_1-rmse:370.18237\n",
      "[901]\tvalidation_0-rmse:1.79787\tvalidation_1-rmse:370.12696\n",
      "[902]\tvalidation_0-rmse:1.78892\tvalidation_1-rmse:370.07189\n",
      "[903]\tvalidation_0-rmse:1.78000\tvalidation_1-rmse:370.01702\n",
      "[904]\tvalidation_0-rmse:1.77114\tvalidation_1-rmse:369.96250\n",
      "[905]\tvalidation_0-rmse:1.76231\tvalidation_1-rmse:369.90819\n",
      "[906]\tvalidation_0-rmse:1.75355\tvalidation_1-rmse:369.85421\n",
      "[907]\tvalidation_0-rmse:1.74481\tvalidation_1-rmse:369.80044\n",
      "[908]\tvalidation_0-rmse:1.73613\tvalidation_1-rmse:369.74701\n",
      "[909]\tvalidation_0-rmse:1.72748\tvalidation_1-rmse:369.69380\n",
      "[910]\tvalidation_0-rmse:1.71885\tvalidation_1-rmse:369.64091\n",
      "[911]\tvalidation_0-rmse:1.71026\tvalidation_1-rmse:369.58824\n",
      "[912]\tvalidation_0-rmse:1.70171\tvalidation_1-rmse:369.53579\n",
      "[913]\tvalidation_0-rmse:1.69320\tvalidation_1-rmse:369.48367\n",
      "[914]\tvalidation_0-rmse:1.68474\tvalidation_1-rmse:369.43177\n",
      "[915]\tvalidation_0-rmse:1.67632\tvalidation_1-rmse:369.38020\n",
      "[916]\tvalidation_0-rmse:1.66798\tvalidation_1-rmse:369.32884\n",
      "[917]\tvalidation_0-rmse:1.65968\tvalidation_1-rmse:369.27770\n",
      "[918]\tvalidation_0-rmse:1.65143\tvalidation_1-rmse:369.22690\n",
      "[919]\tvalidation_0-rmse:1.64317\tvalidation_1-rmse:369.17630\n",
      "[920]\tvalidation_0-rmse:1.63496\tvalidation_1-rmse:369.12594\n",
      "[921]\tvalidation_0-rmse:1.62680\tvalidation_1-rmse:369.07589\n",
      "[922]\tvalidation_0-rmse:1.61867\tvalidation_1-rmse:369.02606\n",
      "[923]\tvalidation_0-rmse:1.61059\tvalidation_1-rmse:368.97646\n",
      "[924]\tvalidation_0-rmse:1.60255\tvalidation_1-rmse:368.92718\n",
      "[925]\tvalidation_0-rmse:1.59456\tvalidation_1-rmse:368.87812\n",
      "[926]\tvalidation_0-rmse:1.58661\tvalidation_1-rmse:368.82928\n",
      "[927]\tvalidation_0-rmse:1.57872\tvalidation_1-rmse:368.78066\n",
      "[928]\tvalidation_0-rmse:1.57085\tvalidation_1-rmse:368.73236\n",
      "[929]\tvalidation_0-rmse:1.56300\tvalidation_1-rmse:368.68429\n",
      "[930]\tvalidation_0-rmse:1.55517\tvalidation_1-rmse:368.63643\n",
      "[931]\tvalidation_0-rmse:1.54738\tvalidation_1-rmse:368.58879\n",
      "[932]\tvalidation_0-rmse:1.53967\tvalidation_1-rmse:368.54148\n",
      "[933]\tvalidation_0-rmse:1.53197\tvalidation_1-rmse:368.49439\n",
      "[934]\tvalidation_0-rmse:1.52431\tvalidation_1-rmse:368.44752\n",
      "[935]\tvalidation_0-rmse:1.51672\tvalidation_1-rmse:368.40086\n",
      "[936]\tvalidation_0-rmse:1.50916\tvalidation_1-rmse:368.35442\n",
      "[937]\tvalidation_0-rmse:1.50164\tvalidation_1-rmse:368.30820\n",
      "[938]\tvalidation_0-rmse:1.49414\tvalidation_1-rmse:368.26221\n",
      "[939]\tvalidation_0-rmse:1.48668\tvalidation_1-rmse:368.21653\n",
      "[940]\tvalidation_0-rmse:1.47925\tvalidation_1-rmse:368.17107\n",
      "[941]\tvalidation_0-rmse:1.47186\tvalidation_1-rmse:368.12584\n",
      "[942]\tvalidation_0-rmse:1.46450\tvalidation_1-rmse:368.08082\n",
      "[943]\tvalidation_0-rmse:1.45718\tvalidation_1-rmse:368.03602\n",
      "[944]\tvalidation_0-rmse:1.44991\tvalidation_1-rmse:367.99144\n",
      "[945]\tvalidation_0-rmse:1.44266\tvalidation_1-rmse:367.94708\n",
      "[946]\tvalidation_0-rmse:1.43548\tvalidation_1-rmse:367.90294\n",
      "[947]\tvalidation_0-rmse:1.42833\tvalidation_1-rmse:367.85901\n",
      "[948]\tvalidation_0-rmse:1.42119\tvalidation_1-rmse:367.81530\n",
      "[949]\tvalidation_0-rmse:1.41408\tvalidation_1-rmse:367.77182\n",
      "[950]\tvalidation_0-rmse:1.40705\tvalidation_1-rmse:367.72854\n",
      "[951]\tvalidation_0-rmse:1.40006\tvalidation_1-rmse:367.68549\n",
      "[952]\tvalidation_0-rmse:1.39310\tvalidation_1-rmse:367.64266\n",
      "[953]\tvalidation_0-rmse:1.38614\tvalidation_1-rmse:367.60004\n",
      "[954]\tvalidation_0-rmse:1.37925\tvalidation_1-rmse:367.55764\n",
      "[955]\tvalidation_0-rmse:1.37241\tvalidation_1-rmse:367.51546\n",
      "[956]\tvalidation_0-rmse:1.36559\tvalidation_1-rmse:367.47350\n",
      "[957]\tvalidation_0-rmse:1.35882\tvalidation_1-rmse:367.43176\n",
      "[958]\tvalidation_0-rmse:1.35208\tvalidation_1-rmse:367.39023\n",
      "[959]\tvalidation_0-rmse:1.34533\tvalidation_1-rmse:367.34892\n",
      "[960]\tvalidation_0-rmse:1.33866\tvalidation_1-rmse:367.30783\n",
      "[961]\tvalidation_0-rmse:1.33203\tvalidation_1-rmse:367.26696\n",
      "[962]\tvalidation_0-rmse:1.32542\tvalidation_1-rmse:367.22620\n",
      "[963]\tvalidation_0-rmse:1.31884\tvalidation_1-rmse:367.18566\n",
      "[964]\tvalidation_0-rmse:1.31226\tvalidation_1-rmse:367.14533\n",
      "[965]\tvalidation_0-rmse:1.30575\tvalidation_1-rmse:367.10522\n",
      "[966]\tvalidation_0-rmse:1.29928\tvalidation_1-rmse:367.06533\n",
      "[967]\tvalidation_0-rmse:1.29285\tvalidation_1-rmse:367.02567\n",
      "[968]\tvalidation_0-rmse:1.28640\tvalidation_1-rmse:366.98621\n",
      "[969]\tvalidation_0-rmse:1.28002\tvalidation_1-rmse:366.94687\n",
      "[970]\tvalidation_0-rmse:1.27368\tvalidation_1-rmse:366.90774\n",
      "[971]\tvalidation_0-rmse:1.26737\tvalidation_1-rmse:366.86883\n",
      "[972]\tvalidation_0-rmse:1.26105\tvalidation_1-rmse:366.83014\n",
      "[973]\tvalidation_0-rmse:1.25482\tvalidation_1-rmse:366.79166\n",
      "[974]\tvalidation_0-rmse:1.24860\tvalidation_1-rmse:366.75330\n",
      "[975]\tvalidation_0-rmse:1.24237\tvalidation_1-rmse:366.71516\n",
      "[976]\tvalidation_0-rmse:1.23623\tvalidation_1-rmse:366.67723\n",
      "[977]\tvalidation_0-rmse:1.23012\tvalidation_1-rmse:366.63952\n",
      "[978]\tvalidation_0-rmse:1.22397\tvalidation_1-rmse:366.60192\n",
      "[979]\tvalidation_0-rmse:1.21792\tvalidation_1-rmse:366.56453\n",
      "[980]\tvalidation_0-rmse:1.21188\tvalidation_1-rmse:366.52737\n",
      "[981]\tvalidation_0-rmse:1.20589\tvalidation_1-rmse:366.49042\n",
      "[982]\tvalidation_0-rmse:1.19993\tvalidation_1-rmse:366.45359\n",
      "[983]\tvalidation_0-rmse:1.19395\tvalidation_1-rmse:366.41696\n",
      "[984]\tvalidation_0-rmse:1.18805\tvalidation_1-rmse:366.38056\n",
      "[985]\tvalidation_0-rmse:1.18211\tvalidation_1-rmse:366.34427\n",
      "[986]\tvalidation_0-rmse:1.17620\tvalidation_1-rmse:366.30819\n",
      "[987]\tvalidation_0-rmse:1.17033\tvalidation_1-rmse:366.27233\n",
      "[988]\tvalidation_0-rmse:1.16447\tvalidation_1-rmse:366.23659\n",
      "[989]\tvalidation_0-rmse:1.15866\tvalidation_1-rmse:366.20106\n",
      "[990]\tvalidation_0-rmse:1.15290\tvalidation_1-rmse:366.16575\n",
      "[991]\tvalidation_0-rmse:1.14713\tvalidation_1-rmse:366.13053\n",
      "[992]\tvalidation_0-rmse:1.14142\tvalidation_1-rmse:366.09555\n",
      "[993]\tvalidation_0-rmse:1.13570\tvalidation_1-rmse:366.06067\n",
      "[994]\tvalidation_0-rmse:1.13009\tvalidation_1-rmse:366.02601\n",
      "[995]\tvalidation_0-rmse:1.12445\tvalidation_1-rmse:365.99157\n",
      "[996]\tvalidation_0-rmse:1.11884\tvalidation_1-rmse:365.95724\n",
      "[997]\tvalidation_0-rmse:1.11325\tvalidation_1-rmse:365.92312\n",
      "[998]\tvalidation_0-rmse:1.10770\tvalidation_1-rmse:365.88911\n",
      "[999]\tvalidation_0-rmse:1.10221\tvalidation_1-rmse:365.85532\n"
     ]
    },
    {
     "data": {
      "application/vnd.plotly.v1+json": {
       "config": {
        "plotlyServerURL": "https://plot.ly"
       },
       "data": [
        {
         "hovertemplate": "year=%{x}<br>gdp_per_capita_current_usdollar=%{y}<extra></extra>",
         "legendgroup": "",
         "line": {
          "color": "#636efa",
          "dash": "solid"
         },
         "marker": {
          "symbol": "circle"
         },
         "mode": "lines",
         "name": "",
         "orientation": "v",
         "showlegend": false,
         "type": "scatter",
         "x": [
          2015,
          2016,
          2017,
          2018,
          2019,
          2020
         ],
         "xaxis": "x",
         "y": [
          1606,
          1733,
          1981,
          1997,
          2101,
          1928
         ],
         "yaxis": "y"
        },
        {
         "mode": "lines",
         "name": "predictions",
         "type": "scatter",
         "x": [
          2015,
          2016,
          2017,
          2018,
          2019,
          2020
         ],
         "y": [
          1566.421630859375,
          1566.421630859375,
          1566.421630859375,
          1566.421630859375,
          1566.421630859375,
          1566.421630859375
         ]
        }
       ],
       "layout": {
        "legend": {
         "tracegroupgap": 0
        },
        "template": {
         "data": {
          "bar": [
           {
            "error_x": {
             "color": "#f2f5fa"
            },
            "error_y": {
             "color": "#f2f5fa"
            },
            "marker": {
             "line": {
              "color": "rgb(17,17,17)",
              "width": 0.5
             },
             "pattern": {
              "fillmode": "overlay",
              "size": 10,
              "solidity": 0.2
             }
            },
            "type": "bar"
           }
          ],
          "barpolar": [
           {
            "marker": {
             "line": {
              "color": "rgb(17,17,17)",
              "width": 0.5
             },
             "pattern": {
              "fillmode": "overlay",
              "size": 10,
              "solidity": 0.2
             }
            },
            "type": "barpolar"
           }
          ],
          "carpet": [
           {
            "aaxis": {
             "endlinecolor": "#A2B1C6",
             "gridcolor": "#506784",
             "linecolor": "#506784",
             "minorgridcolor": "#506784",
             "startlinecolor": "#A2B1C6"
            },
            "baxis": {
             "endlinecolor": "#A2B1C6",
             "gridcolor": "#506784",
             "linecolor": "#506784",
             "minorgridcolor": "#506784",
             "startlinecolor": "#A2B1C6"
            },
            "type": "carpet"
           }
          ],
          "choropleth": [
           {
            "colorbar": {
             "outlinewidth": 0,
             "ticks": ""
            },
            "type": "choropleth"
           }
          ],
          "contour": [
           {
            "colorbar": {
             "outlinewidth": 0,
             "ticks": ""
            },
            "colorscale": [
             [
              0,
              "#0d0887"
             ],
             [
              0.1111111111111111,
              "#46039f"
             ],
             [
              0.2222222222222222,
              "#7201a8"
             ],
             [
              0.3333333333333333,
              "#9c179e"
             ],
             [
              0.4444444444444444,
              "#bd3786"
             ],
             [
              0.5555555555555556,
              "#d8576b"
             ],
             [
              0.6666666666666666,
              "#ed7953"
             ],
             [
              0.7777777777777778,
              "#fb9f3a"
             ],
             [
              0.8888888888888888,
              "#fdca26"
             ],
             [
              1,
              "#f0f921"
             ]
            ],
            "type": "contour"
           }
          ],
          "contourcarpet": [
           {
            "colorbar": {
             "outlinewidth": 0,
             "ticks": ""
            },
            "type": "contourcarpet"
           }
          ],
          "heatmap": [
           {
            "colorbar": {
             "outlinewidth": 0,
             "ticks": ""
            },
            "colorscale": [
             [
              0,
              "#0d0887"
             ],
             [
              0.1111111111111111,
              "#46039f"
             ],
             [
              0.2222222222222222,
              "#7201a8"
             ],
             [
              0.3333333333333333,
              "#9c179e"
             ],
             [
              0.4444444444444444,
              "#bd3786"
             ],
             [
              0.5555555555555556,
              "#d8576b"
             ],
             [
              0.6666666666666666,
              "#ed7953"
             ],
             [
              0.7777777777777778,
              "#fb9f3a"
             ],
             [
              0.8888888888888888,
              "#fdca26"
             ],
             [
              1,
              "#f0f921"
             ]
            ],
            "type": "heatmap"
           }
          ],
          "heatmapgl": [
           {
            "colorbar": {
             "outlinewidth": 0,
             "ticks": ""
            },
            "colorscale": [
             [
              0,
              "#0d0887"
             ],
             [
              0.1111111111111111,
              "#46039f"
             ],
             [
              0.2222222222222222,
              "#7201a8"
             ],
             [
              0.3333333333333333,
              "#9c179e"
             ],
             [
              0.4444444444444444,
              "#bd3786"
             ],
             [
              0.5555555555555556,
              "#d8576b"
             ],
             [
              0.6666666666666666,
              "#ed7953"
             ],
             [
              0.7777777777777778,
              "#fb9f3a"
             ],
             [
              0.8888888888888888,
              "#fdca26"
             ],
             [
              1,
              "#f0f921"
             ]
            ],
            "type": "heatmapgl"
           }
          ],
          "histogram": [
           {
            "marker": {
             "pattern": {
              "fillmode": "overlay",
              "size": 10,
              "solidity": 0.2
             }
            },
            "type": "histogram"
           }
          ],
          "histogram2d": [
           {
            "colorbar": {
             "outlinewidth": 0,
             "ticks": ""
            },
            "colorscale": [
             [
              0,
              "#0d0887"
             ],
             [
              0.1111111111111111,
              "#46039f"
             ],
             [
              0.2222222222222222,
              "#7201a8"
             ],
             [
              0.3333333333333333,
              "#9c179e"
             ],
             [
              0.4444444444444444,
              "#bd3786"
             ],
             [
              0.5555555555555556,
              "#d8576b"
             ],
             [
              0.6666666666666666,
              "#ed7953"
             ],
             [
              0.7777777777777778,
              "#fb9f3a"
             ],
             [
              0.8888888888888888,
              "#fdca26"
             ],
             [
              1,
              "#f0f921"
             ]
            ],
            "type": "histogram2d"
           }
          ],
          "histogram2dcontour": [
           {
            "colorbar": {
             "outlinewidth": 0,
             "ticks": ""
            },
            "colorscale": [
             [
              0,
              "#0d0887"
             ],
             [
              0.1111111111111111,
              "#46039f"
             ],
             [
              0.2222222222222222,
              "#7201a8"
             ],
             [
              0.3333333333333333,
              "#9c179e"
             ],
             [
              0.4444444444444444,
              "#bd3786"
             ],
             [
              0.5555555555555556,
              "#d8576b"
             ],
             [
              0.6666666666666666,
              "#ed7953"
             ],
             [
              0.7777777777777778,
              "#fb9f3a"
             ],
             [
              0.8888888888888888,
              "#fdca26"
             ],
             [
              1,
              "#f0f921"
             ]
            ],
            "type": "histogram2dcontour"
           }
          ],
          "mesh3d": [
           {
            "colorbar": {
             "outlinewidth": 0,
             "ticks": ""
            },
            "type": "mesh3d"
           }
          ],
          "parcoords": [
           {
            "line": {
             "colorbar": {
              "outlinewidth": 0,
              "ticks": ""
             }
            },
            "type": "parcoords"
           }
          ],
          "pie": [
           {
            "automargin": true,
            "type": "pie"
           }
          ],
          "scatter": [
           {
            "marker": {
             "line": {
              "color": "#283442"
             }
            },
            "type": "scatter"
           }
          ],
          "scatter3d": [
           {
            "line": {
             "colorbar": {
              "outlinewidth": 0,
              "ticks": ""
             }
            },
            "marker": {
             "colorbar": {
              "outlinewidth": 0,
              "ticks": ""
             }
            },
            "type": "scatter3d"
           }
          ],
          "scattercarpet": [
           {
            "marker": {
             "colorbar": {
              "outlinewidth": 0,
              "ticks": ""
             }
            },
            "type": "scattercarpet"
           }
          ],
          "scattergeo": [
           {
            "marker": {
             "colorbar": {
              "outlinewidth": 0,
              "ticks": ""
             }
            },
            "type": "scattergeo"
           }
          ],
          "scattergl": [
           {
            "marker": {
             "line": {
              "color": "#283442"
             }
            },
            "type": "scattergl"
           }
          ],
          "scattermapbox": [
           {
            "marker": {
             "colorbar": {
              "outlinewidth": 0,
              "ticks": ""
             }
            },
            "type": "scattermapbox"
           }
          ],
          "scatterpolar": [
           {
            "marker": {
             "colorbar": {
              "outlinewidth": 0,
              "ticks": ""
             }
            },
            "type": "scatterpolar"
           }
          ],
          "scatterpolargl": [
           {
            "marker": {
             "colorbar": {
              "outlinewidth": 0,
              "ticks": ""
             }
            },
            "type": "scatterpolargl"
           }
          ],
          "scatterternary": [
           {
            "marker": {
             "colorbar": {
              "outlinewidth": 0,
              "ticks": ""
             }
            },
            "type": "scatterternary"
           }
          ],
          "surface": [
           {
            "colorbar": {
             "outlinewidth": 0,
             "ticks": ""
            },
            "colorscale": [
             [
              0,
              "#0d0887"
             ],
             [
              0.1111111111111111,
              "#46039f"
             ],
             [
              0.2222222222222222,
              "#7201a8"
             ],
             [
              0.3333333333333333,
              "#9c179e"
             ],
             [
              0.4444444444444444,
              "#bd3786"
             ],
             [
              0.5555555555555556,
              "#d8576b"
             ],
             [
              0.6666666666666666,
              "#ed7953"
             ],
             [
              0.7777777777777778,
              "#fb9f3a"
             ],
             [
              0.8888888888888888,
              "#fdca26"
             ],
             [
              1,
              "#f0f921"
             ]
            ],
            "type": "surface"
           }
          ],
          "table": [
           {
            "cells": {
             "fill": {
              "color": "#506784"
             },
             "line": {
              "color": "rgb(17,17,17)"
             }
            },
            "header": {
             "fill": {
              "color": "#2a3f5f"
             },
             "line": {
              "color": "rgb(17,17,17)"
             }
            },
            "type": "table"
           }
          ]
         },
         "layout": {
          "annotationdefaults": {
           "arrowcolor": "#f2f5fa",
           "arrowhead": 0,
           "arrowwidth": 1
          },
          "autotypenumbers": "strict",
          "coloraxis": {
           "colorbar": {
            "outlinewidth": 0,
            "ticks": ""
           }
          },
          "colorscale": {
           "diverging": [
            [
             0,
             "#8e0152"
            ],
            [
             0.1,
             "#c51b7d"
            ],
            [
             0.2,
             "#de77ae"
            ],
            [
             0.3,
             "#f1b6da"
            ],
            [
             0.4,
             "#fde0ef"
            ],
            [
             0.5,
             "#f7f7f7"
            ],
            [
             0.6,
             "#e6f5d0"
            ],
            [
             0.7,
             "#b8e186"
            ],
            [
             0.8,
             "#7fbc41"
            ],
            [
             0.9,
             "#4d9221"
            ],
            [
             1,
             "#276419"
            ]
           ],
           "sequential": [
            [
             0,
             "#0d0887"
            ],
            [
             0.1111111111111111,
             "#46039f"
            ],
            [
             0.2222222222222222,
             "#7201a8"
            ],
            [
             0.3333333333333333,
             "#9c179e"
            ],
            [
             0.4444444444444444,
             "#bd3786"
            ],
            [
             0.5555555555555556,
             "#d8576b"
            ],
            [
             0.6666666666666666,
             "#ed7953"
            ],
            [
             0.7777777777777778,
             "#fb9f3a"
            ],
            [
             0.8888888888888888,
             "#fdca26"
            ],
            [
             1,
             "#f0f921"
            ]
           ],
           "sequentialminus": [
            [
             0,
             "#0d0887"
            ],
            [
             0.1111111111111111,
             "#46039f"
            ],
            [
             0.2222222222222222,
             "#7201a8"
            ],
            [
             0.3333333333333333,
             "#9c179e"
            ],
            [
             0.4444444444444444,
             "#bd3786"
            ],
            [
             0.5555555555555556,
             "#d8576b"
            ],
            [
             0.6666666666666666,
             "#ed7953"
            ],
            [
             0.7777777777777778,
             "#fb9f3a"
            ],
            [
             0.8888888888888888,
             "#fdca26"
            ],
            [
             1,
             "#f0f921"
            ]
           ]
          },
          "colorway": [
           "#636efa",
           "#EF553B",
           "#00cc96",
           "#ab63fa",
           "#FFA15A",
           "#19d3f3",
           "#FF6692",
           "#B6E880",
           "#FF97FF",
           "#FECB52"
          ],
          "font": {
           "color": "#f2f5fa"
          },
          "geo": {
           "bgcolor": "rgb(17,17,17)",
           "lakecolor": "rgb(17,17,17)",
           "landcolor": "rgb(17,17,17)",
           "showlakes": true,
           "showland": true,
           "subunitcolor": "#506784"
          },
          "hoverlabel": {
           "align": "left"
          },
          "hovermode": "closest",
          "mapbox": {
           "style": "dark"
          },
          "paper_bgcolor": "rgb(17,17,17)",
          "plot_bgcolor": "rgb(17,17,17)",
          "polar": {
           "angularaxis": {
            "gridcolor": "#506784",
            "linecolor": "#506784",
            "ticks": ""
           },
           "bgcolor": "rgb(17,17,17)",
           "radialaxis": {
            "gridcolor": "#506784",
            "linecolor": "#506784",
            "ticks": ""
           }
          },
          "scene": {
           "xaxis": {
            "backgroundcolor": "rgb(17,17,17)",
            "gridcolor": "#506784",
            "gridwidth": 2,
            "linecolor": "#506784",
            "showbackground": true,
            "ticks": "",
            "zerolinecolor": "#C8D4E3"
           },
           "yaxis": {
            "backgroundcolor": "rgb(17,17,17)",
            "gridcolor": "#506784",
            "gridwidth": 2,
            "linecolor": "#506784",
            "showbackground": true,
            "ticks": "",
            "zerolinecolor": "#C8D4E3"
           },
           "zaxis": {
            "backgroundcolor": "rgb(17,17,17)",
            "gridcolor": "#506784",
            "gridwidth": 2,
            "linecolor": "#506784",
            "showbackground": true,
            "ticks": "",
            "zerolinecolor": "#C8D4E3"
           }
          },
          "shapedefaults": {
           "line": {
            "color": "#f2f5fa"
           }
          },
          "sliderdefaults": {
           "bgcolor": "#C8D4E3",
           "bordercolor": "rgb(17,17,17)",
           "borderwidth": 1,
           "tickwidth": 0
          },
          "ternary": {
           "aaxis": {
            "gridcolor": "#506784",
            "linecolor": "#506784",
            "ticks": ""
           },
           "baxis": {
            "gridcolor": "#506784",
            "linecolor": "#506784",
            "ticks": ""
           },
           "bgcolor": "rgb(17,17,17)",
           "caxis": {
            "gridcolor": "#506784",
            "linecolor": "#506784",
            "ticks": ""
           }
          },
          "title": {
           "x": 0.05
          },
          "updatemenudefaults": {
           "bgcolor": "#506784",
           "borderwidth": 0
          },
          "xaxis": {
           "automargin": true,
           "gridcolor": "#283442",
           "linecolor": "#506784",
           "ticks": "",
           "title": {
            "standoff": 15
           },
           "zerolinecolor": "#283442",
           "zerolinewidth": 2
          },
          "yaxis": {
           "automargin": true,
           "gridcolor": "#283442",
           "linecolor": "#506784",
           "ticks": "",
           "title": {
            "standoff": 15
           },
           "zerolinecolor": "#283442",
           "zerolinewidth": 2
          }
         }
        },
        "title": {
         "text": "Predictions"
        },
        "xaxis": {
         "anchor": "y",
         "domain": [
          0,
          1
         ],
         "title": {
          "text": "year"
         }
        },
        "yaxis": {
         "anchor": "x",
         "domain": [
          0,
          1
         ],
         "title": {
          "text": "gdp_per_capita_current_usdollar"
         }
        }
       }
      }
     },
     "metadata": {},
     "output_type": "display_data"
    }
   ],
   "source": [
    "import xgboost \n",
    "from sklearn.metrics import mean_squared_error, mean_absolute_error\n",
    "\n",
    "def split_and_dim_red(df: pd.DataFrame):\n",
    "    df = df.copy()\n",
    "    train = df[df['year'] < 2015]\n",
    "    test = df[df['year'] >= 2015]\n",
    "    # reduce the dimensionality of gdp growth\n",
    "    x_train = train.drop(columns=['gdp_per_capita_current_usdollar'])\n",
    "    y_train = train['gdp_per_capita_current_usdollar']\n",
    "    x_test = test.drop(columns=['gdp_per_capita_current_usdollar'])\n",
    "    y_test = test['gdp_per_capita_current_usdollar']\n",
    "    return x_train, y_train, x_test, y_test\n",
    "\n",
    "X, y, X_test, y_test = split_and_dim_red(df)\n",
    "\n",
    "# train the model\n",
    "xgb = xgboost.XGBRegressor(n_estimators=1000, early_stopping_rounds=5, learning_rate=0.01)\n",
    "xgb.fit(X, y, eval_set=[(X, y), (X_test, y_test)], verbose=True)\n",
    "\n",
    "# predict on test data\n",
    "Y_pred = xgb.predict(X_test)\n",
    "\n",
    "# plot the predictions\n",
    "fig = px.line(test, x='year', y='gdp_per_capita_current_usdollar', title='Predictions')\n",
    "fig.add_scatter(x=test['year'], y=Y_pred, mode='lines', name='predictions')\n",
    "fig.show()"
   ]
  }
 ],
 "metadata": {
  "kernelspec": {
   "display_name": "Python 3.9.3 ('venv')",
   "language": "python",
   "name": "python3"
  },
  "language_info": {
   "codemirror_mode": {
    "name": "ipython",
    "version": 3
   },
   "file_extension": ".py",
   "mimetype": "text/x-python",
   "name": "python",
   "nbconvert_exporter": "python",
   "pygments_lexer": "ipython3",
   "version": "3.9.3"
  },
  "orig_nbformat": 4,
  "vscode": {
   "interpreter": {
    "hash": "32805942860405f8aee172ea375fd5f80f8079124811e0955b2d634d58931327"
   }
  }
 },
 "nbformat": 4,
 "nbformat_minor": 2
}
